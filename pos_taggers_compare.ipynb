{
 "cells": [
  {
   "cell_type": "markdown",
   "metadata": {},
   "source": [
    "# Pos-taggers comparison for Russian"
   ]
  },
  {
   "cell_type": "code",
   "execution_count": 1,
   "metadata": {
    "collapsed": true
   },
   "outputs": [],
   "source": [
    "import sys\n",
    "sys.path.append('C:\\Program Files\\Anaconda3\\Lib\\site-packages')"
   ]
  },
  {
   "cell_type": "code",
   "execution_count": 2,
   "metadata": {
    "collapsed": true
   },
   "outputs": [],
   "source": [
    "import pymorphy2"
   ]
  },
  {
   "cell_type": "code",
   "execution_count": 3,
   "metadata": {},
   "outputs": [],
   "source": [
    "from nltk import pos_tag, word_tokenize"
   ]
  },
  {
   "cell_type": "code",
   "execution_count": 4,
   "metadata": {
    "collapsed": true
   },
   "outputs": [],
   "source": [
    "import re"
   ]
  },
  {
   "cell_type": "code",
   "execution_count": 5,
   "metadata": {
    "collapsed": true
   },
   "outputs": [],
   "source": [
    "def preprocess(text):\n",
    "    return ' '.join(re.findall(r'[а-яё]+', text.lower()))"
   ]
  },
  {
   "cell_type": "markdown",
   "metadata": {},
   "source": [
    "## NLTK POS-tagger for Russian"
   ]
  },
  {
   "cell_type": "code",
   "execution_count": 27,
   "metadata": {},
   "outputs": [
    {
     "name": "stdout",
     "output_type": "stream",
     "text": [
      "[nltk_data] Downloading package averaged_perceptron_tagger_ru to\n",
      "[nltk_data]     C:\\nltk_data...\n",
      "[nltk_data]   Unzipping taggers\\averaged_perceptron_tagger_ru.zip.\n"
     ]
    },
    {
     "data": {
      "text/plain": [
       "True"
      ]
     },
     "execution_count": 27,
     "metadata": {},
     "output_type": "execute_result"
    }
   ],
   "source": [
    "nltk.download('averaged_perceptron_tagger_ru')"
   ]
  },
  {
   "cell_type": "markdown",
   "metadata": {},
   "source": [
    "__Tagset NLTK__ <br>\n",
    "S – noun <br>\n",
    "A – adjective <br> \n",
    "NUM – numeral <br>\n",
    "A-NUM – numeral adjective <br> \n",
    "V – verb <br>\n",
    "ADV – adverb <br>\n",
    "PRAEDIC — predicative (жаль, хорошо, пора) <br>\n",
    "PARENTH — parenthesis (кстати, по-моему) <br>\n",
    "S-PRO — pronoun (она, что) <br>\n",
    "A-PRO — adjectival pronoun (который, твой) <br>\n",
    "ADV-PRO — adverbial pronoun (где, вот) <br>\n",
    "PRAEDIC-PRO — predicative pronoun (некого, нечего) <br>\n",
    "PR — preposition (под, напротив) <br>\n",
    "CONJ — conjunction (и, чтобы) <br>\n",
    "PART — particle (бы, же, пусть) <br>\n",
    "INTJ — interjection (увы, батюшки)"
   ]
  },
  {
   "cell_type": "code",
   "execution_count": 75,
   "metadata": {},
   "outputs": [
    {
     "data": {
      "text/plain": [
       "[('прочитавший', 'V'), ('прочитав', 'V'), ('прочитана', 'S')]"
      ]
     },
     "execution_count": 75,
     "metadata": {},
     "output_type": "execute_result"
    }
   ],
   "source": [
    "pos_tag(['прочитавший','прочитав', 'прочитана'], lang = 'rus')"
   ]
  },
  {
   "cell_type": "markdown",
   "metadata": {},
   "source": [
    "#### NLTK tagger function"
   ]
  },
  {
   "cell_type": "code",
   "execution_count": 6,
   "metadata": {
    "collapsed": true
   },
   "outputs": [],
   "source": [
    "def get_nltk_tags(text):\n",
    "    words = preprocess(text).split()\n",
    "    _, pos = zip(*pos_tag(words, lang = 'rus'))\n",
    "    nltk_pos = [re.sub('=.+','', pos) for pos in pos]\n",
    "    return words, nltk_pos"
   ]
  },
  {
   "cell_type": "markdown",
   "metadata": {},
   "source": [
    "## Pymorphy"
   ]
  },
  {
   "cell_type": "code",
   "execution_count": 31,
   "metadata": {},
   "outputs": [],
   "source": [
    "morph = pymorphy2.MorphAnalyzer()"
   ]
  },
  {
   "cell_type": "markdown",
   "metadata": {},
   "source": [
    "__Tagset Pymorphy__ <br>\n",
    "NOUN\tимя существительное\tхомяк <br>\n",
    "ADJF\tимя прилагательное (полное)\tхороший <br>\n",
    "ADJS\tимя прилагательное (краткое)\tхорош <br>\n",
    "COMP\tкомпаратив\tлучше, получше, выше <br>\n",
    "VERB\tглагол (личная форма)\tговорю, говорит, говорил <br>\n",
    "INFN\tглагол (инфинитив)\tговорить, сказать <br>\n",
    "PRTF\tпричастие (полное)\tпрочитавший, прочитанная <br>\n",
    "PRTS\tпричастие (краткое)\tпрочитана <br>\n",
    "GRND\tдеепричастие\tпрочитав, рассказывая <br>\n",
    "NUMR\tчислительное\tтри, пятьдесят <br>\n",
    "ADVB\tнаречие\tкруто <br>\n",
    "NPRO\tместоимение-существительное\tон <br>\n",
    "PRED\tпредикатив\tнекогда <br>\n",
    "PREP\tпредлог\tв <br>\n",
    "CONJ\tсоюз\tи <br>\n",
    "PRCL\tчастица\tбы, же, лишь <br>\n",
    "INTJ\tмеждометие\tой <br>"
   ]
  },
  {
   "cell_type": "markdown",
   "metadata": {},
   "source": [
    "#### Mapping from nltk tags to Pymorphy"
   ]
  },
  {
   "cell_type": "code",
   "execution_count": 7,
   "metadata": {
    "collapsed": true
   },
   "outputs": [],
   "source": [
    "map_nltk_to_pymorphy = {\n",
    "            'S':'NOUN',\n",
    "            'A':'ADJF', #краткие прилагательные тоже перейдут в полные, т.к. в nltk прилагательные не разделяются\n",
    "            'NUM':'NUMR',\n",
    "            #A-NUM - pymorphy числительное-придагательное идет в прилагательные\n",
    "            'V':'VERB',\n",
    "            'ADV':'ADVB',\n",
    "            'PRAEDIC':'PRED',\n",
    "            #PARENTH\n",
    "            'S-PRO':'NPRO',\n",
    "            #A-PRO pymorphy местоимение-придагательное идет в прилагательные\n",
    "            #ADV-PRO pymorphy наречие-местоимение идет в местоимение\n",
    "            #PRAEDIC-PRO pymorphy - идет в местоимение NPRO\n",
    "            'PR':'PREP',\n",
    "            #CONJ - одинаково\n",
    "            'PART':'PRCL'\n",
    "            #INTJ - одинаково\n",
    "}"
   ]
  },
  {
   "cell_type": "code",
   "execution_count": 71,
   "metadata": {},
   "outputs": [
    {
     "data": {
      "text/plain": [
       "'NPRO'"
      ]
     },
     "execution_count": 71,
     "metadata": {},
     "output_type": "execute_result"
    }
   ],
   "source": [
    "morph.parse('нечего')[0].tag.POS"
   ]
  },
  {
   "cell_type": "code",
   "execution_count": 8,
   "metadata": {},
   "outputs": [],
   "source": [
    "def nltk_to_pymorphy(tag_list):\n",
    "    pymorphy_tags = []\n",
    "    for tag in tag_list:\n",
    "        try:\n",
    "            tag = map_nltk_to_pymorphy[tag]\n",
    "        except KeyError:\n",
    "            pass\n",
    "        pymorphy_tags.append(tag)\n",
    "    return pymorphy_tags\n",
    "            \n",
    "\n",
    "        "
   ]
  },
  {
   "cell_type": "markdown",
   "metadata": {},
   "source": [
    "#### Pymorphy tagger function"
   ]
  },
  {
   "cell_type": "code",
   "execution_count": 10,
   "metadata": {
    "collapsed": true
   },
   "outputs": [],
   "source": [
    "def get_pymorphy_tags(text):\n",
    "    morph = pymorphy2.MorphAnalyzer()\n",
    "    words = preprocess(text).split()\n",
    "    return words, [morph.parse(word)[0].tag.POS for word in words]\n",
    "    "
   ]
  },
  {
   "cell_type": "markdown",
   "metadata": {},
   "source": [
    "### Pymorphy vs. NLTK tagger\n",
    "\n",
    "1. В Pymorphy отдельные классы для глагольных форм (финитные глаголы, инфинитивы, причастия, краткие причастия, деепричастия). В NLTK - глагольные формы (за исключением некоторых причастий - страдательных?) относятся к классу глаголов.\n",
    "2. В Pymorphy разделяются краткие и полные прилагательные.\n",
    "3. В NLTK выделяются классы для слов типа прилагательных: порядковые числительные, местоимения-прилагательные, отдельно выделяются классы для разных местоимений: местоимения-прилагательные, местоимения-наречия, предикативные местоимения. "
   ]
  },
  {
   "cell_type": "markdown",
   "metadata": {},
   "source": [
    "## Mystem "
   ]
  },
  {
   "cell_type": "code",
   "execution_count": 11,
   "metadata": {
    "collapsed": true
   },
   "outputs": [],
   "source": [
    "from pymystem3 import Mystem"
   ]
  },
  {
   "cell_type": "markdown",
   "metadata": {},
   "source": [
    "__Tagset Mystem__ <br>\n",
    "A\tприлагательное <br>\n",
    "ADV\tнаречие <br>\n",
    "ADVPRO\tместоименное наречие <br>\n",
    "ANUM\tчислительное-прилагательное <br>\n",
    "APRO\tместоимение-прилагательное <br>\n",
    "COM\tчасть композита - сложного слова <br>\n",
    "CONJ\tсоюз <br>\n",
    "INTJ\tмеждометие <br>\n",
    "NUM\tчислительное <br>\n",
    "PART\tчастица <br>\n",
    "PR\tпредлог <br>\n",
    "S\tсуществительное <br>\n",
    "SPRO\tместоимение-существительное <br>\n",
    "V\tглагол <br>"
   ]
  },
  {
   "cell_type": "code",
   "execution_count": 96,
   "metadata": {
    "collapsed": true
   },
   "outputs": [],
   "source": [
    "m = Mystem()"
   ]
  },
  {
   "cell_type": "markdown",
   "metadata": {},
   "source": [
    "#### Mystem tagger function"
   ]
  },
  {
   "cell_type": "code",
   "execution_count": 12,
   "metadata": {
    "collapsed": true
   },
   "outputs": [],
   "source": [
    "def get_mystem_tags(text):\n",
    "    m = Mystem()\n",
    "    clean_text = preprocess(text)\n",
    "    analized = m.analyze(clean_text)\n",
    "    mystem_tags = []\n",
    "    for i in range(len(analized)):\n",
    "\n",
    "        try:\n",
    "            pos_t = analized[i]['analysis'][0]['gr']\n",
    "            pos_t = re.sub(',.*','', pos_t)\n",
    "            pos_t = re.sub('=.*','',pos_t)\n",
    "            mystem_tags.append(pos_t)\n",
    "        except KeyError:\n",
    "            pass\n",
    "    return clean_text.split(), mystem_tags"
   ]
  },
  {
   "cell_type": "markdown",
   "metadata": {},
   "source": [
    "### Mystem vs. NLTK\n",
    "\n",
    "Mystem has new tag compared to NLTK - COM (part of a compound noun), and NLTK has more tags specifying predicatives and predicative pronouns. <br>\n",
    "Since Mystem and NLTK share most of tags, we'll map Mystem to NLTK and then NLTK to Pymorphy. <br>\n"
   ]
  },
  {
   "cell_type": "markdown",
   "metadata": {},
   "source": [
    "#### Mapping Mystem tags to NLTK"
   ]
  },
  {
   "cell_type": "code",
   "execution_count": 13,
   "metadata": {
    "collapsed": true
   },
   "outputs": [],
   "source": [
    "map_mystem_to_nltk = {\n",
    "    'ADVPRO':'ADV-PRO',\n",
    "    'ANUM':'A-NUM',\n",
    "    'APRO':'A-PRO',\n",
    "    'SPRO':'S-PRO'\n",
    "}"
   ]
  },
  {
   "cell_type": "markdown",
   "metadata": {},
   "source": [
    "#### General function for mapping tags from input (in_tags) to output using tag_map"
   ]
  },
  {
   "cell_type": "code",
   "execution_count": 14,
   "metadata": {
    "collapsed": true
   },
   "outputs": [],
   "source": [
    "def mapping_tags(in_tags, tag_map):\n",
    "    out_tags = []\n",
    "    for tag in in_tags:\n",
    "        try:\n",
    "            tag = tag_map[tag]\n",
    "        except KeyError:\n",
    "            pass\n",
    "        out_tags.append(tag)\n",
    "    return out_tags"
   ]
  },
  {
   "cell_type": "code",
   "execution_count": 135,
   "metadata": {},
   "outputs": [
    {
     "name": "stdout",
     "output_type": "stream",
     "text": [
      "['S', 'SPRO', 'V', 'APRO', 'S', 'SPRO', 'V', 'S']\n",
      "['S', 'S-PRO', 'V', 'A-PRO', 'S', 'S-PRO', 'V', 'S']\n",
      "['S', 'S-PRO', 'V', 'A-PRO', 'S', 'S-PRO', 'V', 'S']\n",
      "['NOUN', 'NPRO', 'VERB', 'A-PRO', 'NOUN', 'NPRO', 'VERB', 'NOUN']\n",
      "['NOUN', 'NPRO', 'VERB', 'A-PRO', 'NOUN', 'NPRO', 'VERB', 'NOUN']\n",
      "['NOUN', 'NPRO', 'VERB', 'ADJF', 'NOUN', 'NPRO', 'VERB', 'NOUN']\n"
     ]
    }
   ],
   "source": [
    "print(mystem_tags)\n",
    "print(mapping_tags(mystem_tags, map_mystem_to_nltk))\n",
    "print(nltk_pos)\n",
    "print(mapping_tags(nltk_pos, map_nltk_to_pymorphy))\n",
    "print(mapping_tags(mapping_tags(mystem_tags, map_mystem_to_nltk), map_nltk_to_pymorphy))\n",
    "print(pymorphy_tags)"
   ]
  },
  {
   "cell_type": "markdown",
   "metadata": {},
   "source": [
    "### Test sentence"
   ]
  },
  {
   "cell_type": "code",
   "execution_count": 15,
   "metadata": {
    "collapsed": true
   },
   "outputs": [],
   "source": [
    "text2 = 'Уколов меня, врач вышел из комнаты. Я не боюсь уколов'"
   ]
  },
  {
   "cell_type": "code",
   "execution_count": 72,
   "metadata": {
    "collapsed": true
   },
   "outputs": [],
   "source": [
    "def compare_taggers(text):\n",
    "    words, pymorph_tags = get_pymorphy_tags(text)\n",
    "    _, nltk_tags = get_nltk_tags(text)\n",
    "    _, mystem_tags = get_mystem_tags(text)\n",
    "    return words, pymorph_tags, mapping_tags(nltk_tags, map_nltk_to_pymorphy), \\\n",
    "            mapping_tags(mapping_tags(mystem_tags, map_mystem_to_nltk), map_nltk_to_pymorphy)"
   ]
  },
  {
   "cell_type": "code",
   "execution_count": 77,
   "metadata": {
    "collapsed": true
   },
   "outputs": [],
   "source": [
    "w, p, n, m = compare_taggers(text2)"
   ]
  },
  {
   "cell_type": "code",
   "execution_count": 78,
   "metadata": {},
   "outputs": [
    {
     "name": "stdout",
     "output_type": "stream",
     "text": [
      "['уколов', 'меня', 'врач', 'вышел', 'из', 'комнаты', 'я', 'не', 'боюсь', 'уколов']\n",
      "['NOUN', 'NPRO', 'NOUN', 'VERB', 'PREP', 'NOUN', 'NPRO', 'PRCL', 'VERB', 'NOUN']\n",
      "['NOUN', 'NPRO', 'NOUN', 'VERB', 'PREP', 'NOUN', 'NPRO', 'PRCL', 'VERB', 'NOUN']\n",
      "['NOUN', 'NPRO', 'NOUN', 'VERB', 'PREP', 'NOUN', 'NPRO', 'PRCL', 'VERB', 'NOUN']\n"
     ]
    }
   ],
   "source": [
    "print(w)\n",
    "print(p)\n",
    "print(n)\n",
    "print(m)"
   ]
  },
  {
   "cell_type": "markdown",
   "metadata": {},
   "source": [
    "This sentence shows that all the pos-taggers failed to disambiguate participle __уколов__ and tagged it as noun."
   ]
  },
  {
   "cell_type": "code",
   "execution_count": 79,
   "metadata": {
    "collapsed": true
   },
   "outputs": [],
   "source": [
    "text3 = 'Он стоял на берегу, всматриваясь в синие дали'"
   ]
  },
  {
   "cell_type": "code",
   "execution_count": 81,
   "metadata": {},
   "outputs": [
    {
     "name": "stdout",
     "output_type": "stream",
     "text": [
      "['он', 'стоял', 'на', 'берегу', 'всматриваясь', 'в', 'синие', 'дали']\n",
      "['NPRO', 'ADJS', 'PREP', 'NOUN', 'GRND', 'PREP', 'ADJF', 'VERB']\n",
      "['NPRO', 'VERB', 'PREP', 'NOUN', 'VERB', 'PREP', 'NOUN', 'VERB']\n",
      "['NPRO', 'VERB', 'PREP', 'NOUN', 'VERB', 'PREP', 'ADJF', 'NOUN']\n"
     ]
    }
   ],
   "source": [
    "w, p, n, m = compare_taggers(text3)\n",
    "print(w)\n",
    "print(p)\n",
    "print(n)\n",
    "print(m)"
   ]
  },
  {
   "cell_type": "markdown",
   "metadata": {},
   "source": [
    "Here the word __дали__ is the most interesting because is could present both verb and noun, though verb is much more common. Only Mystem tagger managed to disambiguate it correctly as a noun. <br>\n",
    "There are some more mismatches:<br>\n",
    "Pymorphy gives label ADJS (short adjective) for verb 'стоял', and that's the only tagger that determines gerund 'всматриваясь' (participle). <br>\n",
    "NLTK tagger states NOUN for adjective 'синие'."
   ]
  },
  {
   "cell_type": "code",
   "execution_count": 82,
   "metadata": {
    "collapsed": true
   },
   "outputs": [],
   "source": [
    "text4 = 'Нам всем дали высказаться'"
   ]
  },
  {
   "cell_type": "code",
   "execution_count": 83,
   "metadata": {},
   "outputs": [
    {
     "name": "stdout",
     "output_type": "stream",
     "text": [
      "['нам', 'всем', 'дали', 'высказаться']\n",
      "['NPRO', 'ADJF', 'VERB', 'INFN']\n",
      "['NPRO', 'NPRO', 'VERB', 'VERB']\n",
      "['NPRO', 'A-PRO', 'VERB', 'VERB']\n"
     ]
    }
   ],
   "source": [
    "w, p, n, m = compare_taggers(text4)\n",
    "print(w)\n",
    "print(p)\n",
    "print(n)\n",
    "print(m)"
   ]
  },
  {
   "cell_type": "markdown",
   "metadata": {},
   "source": [
    "In this case all the taggers determined word __дали__ correctly as a verb."
   ]
  },
  {
   "cell_type": "markdown",
   "metadata": {},
   "source": [
    "### Test text\n",
    "\n",
    "Let's compare taggers on a small text by R. Bradbury"
   ]
  },
  {
   "cell_type": "code",
   "execution_count": 16,
   "metadata": {
    "collapsed": true
   },
   "outputs": [],
   "source": [
    "import pandas as pd"
   ]
  },
  {
   "cell_type": "code",
   "execution_count": 69,
   "metadata": {
    "collapsed": true
   },
   "outputs": [],
   "source": [
    "pos_df = pd.DataFrame(columns = ['word', 'pymorph', 'nltk', 'mystem'])"
   ]
  },
  {
   "cell_type": "code",
   "execution_count": 71,
   "metadata": {
    "collapsed": true
   },
   "outputs": [],
   "source": [
    "text = 'Одно прикосновение руки - и тотчас это горение послушно даст задний ход. Экельс помнил каждое слово объявления. Из пепла и праха, из пыли и золы восстанут, будто золотистые саламандры, старые годы, зеленые годы, розы усладят воздух, седые волосы станут черными, исчезнут морщины и складки, все и вся повернет вспять и станет семенем, от смерти ринется к своему истоку, солнца будут всходить на западе и погружаться в зарево востока, луны будут убывать с другого конца, все и вся уподобится цыпленку, прячущемуся в яйцо, кроликам, ныряющим в шляпу фокусника, все и вся познает новую смерть, смерть семени, зеленую смерть, возвращения в пору, предшествующую зачатию. И это будет сделано одним лишь движением руки...'"
   ]
  },
  {
   "cell_type": "code",
   "execution_count": 73,
   "metadata": {
    "collapsed": true
   },
   "outputs": [],
   "source": [
    "w, p, n, m = compare_taggers(text)"
   ]
  },
  {
   "cell_type": "code",
   "execution_count": 74,
   "metadata": {},
   "outputs": [],
   "source": [
    "pos_df['word'] = w\n",
    "pos_df['pymorph'] = p\n",
    "pos_df['nltk'] = n\n",
    "pos_df['mystem'] = m"
   ]
  },
  {
   "cell_type": "code",
   "execution_count": 75,
   "metadata": {
    "scrolled": true
   },
   "outputs": [
    {
     "data": {
      "text/plain": [
       "(109, 4)"
      ]
     },
     "execution_count": 75,
     "metadata": {},
     "output_type": "execute_result"
    }
   ],
   "source": [
    "pos_df.shape"
   ]
  },
  {
   "cell_type": "code",
   "execution_count": 76,
   "metadata": {},
   "outputs": [
    {
     "data": {
      "text/html": [
       "<div>\n",
       "<style>\n",
       "    .dataframe thead tr:only-child th {\n",
       "        text-align: right;\n",
       "    }\n",
       "\n",
       "    .dataframe thead th {\n",
       "        text-align: left;\n",
       "    }\n",
       "\n",
       "    .dataframe tbody tr th {\n",
       "        vertical-align: top;\n",
       "    }\n",
       "</style>\n",
       "<table border=\"1\" class=\"dataframe\">\n",
       "  <thead>\n",
       "    <tr style=\"text-align: right;\">\n",
       "      <th></th>\n",
       "      <th>word</th>\n",
       "      <th>pymorph</th>\n",
       "      <th>nltk</th>\n",
       "      <th>mystem</th>\n",
       "    </tr>\n",
       "  </thead>\n",
       "  <tbody>\n",
       "    <tr>\n",
       "      <th>0</th>\n",
       "      <td>одно</td>\n",
       "      <td>ADJF</td>\n",
       "      <td>A-PRO</td>\n",
       "      <td>A-PRO</td>\n",
       "    </tr>\n",
       "    <tr>\n",
       "      <th>1</th>\n",
       "      <td>прикосновение</td>\n",
       "      <td>NOUN</td>\n",
       "      <td>NOUN</td>\n",
       "      <td>NOUN</td>\n",
       "    </tr>\n",
       "    <tr>\n",
       "      <th>2</th>\n",
       "      <td>руки</td>\n",
       "      <td>NOUN</td>\n",
       "      <td>NOUN</td>\n",
       "      <td>NOUN</td>\n",
       "    </tr>\n",
       "    <tr>\n",
       "      <th>3</th>\n",
       "      <td>и</td>\n",
       "      <td>CONJ</td>\n",
       "      <td>CONJ</td>\n",
       "      <td>CONJ</td>\n",
       "    </tr>\n",
       "    <tr>\n",
       "      <th>4</th>\n",
       "      <td>тотчас</td>\n",
       "      <td>ADVB</td>\n",
       "      <td>ADVB</td>\n",
       "      <td>ADVB</td>\n",
       "    </tr>\n",
       "    <tr>\n",
       "      <th>5</th>\n",
       "      <td>это</td>\n",
       "      <td>PRCL</td>\n",
       "      <td>A-PRO</td>\n",
       "      <td>A-PRO</td>\n",
       "    </tr>\n",
       "    <tr>\n",
       "      <th>6</th>\n",
       "      <td>горение</td>\n",
       "      <td>NOUN</td>\n",
       "      <td>NOUN</td>\n",
       "      <td>NOUN</td>\n",
       "    </tr>\n",
       "    <tr>\n",
       "      <th>7</th>\n",
       "      <td>послушно</td>\n",
       "      <td>ADVB</td>\n",
       "      <td>ADVB</td>\n",
       "      <td>ADVB</td>\n",
       "    </tr>\n",
       "    <tr>\n",
       "      <th>8</th>\n",
       "      <td>даст</td>\n",
       "      <td>VERB</td>\n",
       "      <td>VERB</td>\n",
       "      <td>VERB</td>\n",
       "    </tr>\n",
       "    <tr>\n",
       "      <th>9</th>\n",
       "      <td>задний</td>\n",
       "      <td>ADJF</td>\n",
       "      <td>ADJF</td>\n",
       "      <td>ADJF</td>\n",
       "    </tr>\n",
       "    <tr>\n",
       "      <th>10</th>\n",
       "      <td>ход</td>\n",
       "      <td>NOUN</td>\n",
       "      <td>NOUN</td>\n",
       "      <td>NOUN</td>\n",
       "    </tr>\n",
       "    <tr>\n",
       "      <th>11</th>\n",
       "      <td>экельс</td>\n",
       "      <td>NOUN</td>\n",
       "      <td>NOUN</td>\n",
       "      <td>NOUN</td>\n",
       "    </tr>\n",
       "    <tr>\n",
       "      <th>12</th>\n",
       "      <td>помнил</td>\n",
       "      <td>VERB</td>\n",
       "      <td>VERB</td>\n",
       "      <td>VERB</td>\n",
       "    </tr>\n",
       "    <tr>\n",
       "      <th>13</th>\n",
       "      <td>каждое</td>\n",
       "      <td>ADJF</td>\n",
       "      <td>A-PRO</td>\n",
       "      <td>A-PRO</td>\n",
       "    </tr>\n",
       "    <tr>\n",
       "      <th>14</th>\n",
       "      <td>слово</td>\n",
       "      <td>NOUN</td>\n",
       "      <td>NOUN</td>\n",
       "      <td>NOUN</td>\n",
       "    </tr>\n",
       "    <tr>\n",
       "      <th>15</th>\n",
       "      <td>объявления</td>\n",
       "      <td>NOUN</td>\n",
       "      <td>NOUN</td>\n",
       "      <td>NOUN</td>\n",
       "    </tr>\n",
       "    <tr>\n",
       "      <th>16</th>\n",
       "      <td>из</td>\n",
       "      <td>PREP</td>\n",
       "      <td>PREP</td>\n",
       "      <td>PREP</td>\n",
       "    </tr>\n",
       "    <tr>\n",
       "      <th>17</th>\n",
       "      <td>пепла</td>\n",
       "      <td>NOUN</td>\n",
       "      <td>NOUN</td>\n",
       "      <td>NOUN</td>\n",
       "    </tr>\n",
       "    <tr>\n",
       "      <th>18</th>\n",
       "      <td>и</td>\n",
       "      <td>CONJ</td>\n",
       "      <td>CONJ</td>\n",
       "      <td>CONJ</td>\n",
       "    </tr>\n",
       "    <tr>\n",
       "      <th>19</th>\n",
       "      <td>праха</td>\n",
       "      <td>NOUN</td>\n",
       "      <td>NOUN</td>\n",
       "      <td>NOUN</td>\n",
       "    </tr>\n",
       "    <tr>\n",
       "      <th>20</th>\n",
       "      <td>из</td>\n",
       "      <td>PREP</td>\n",
       "      <td>PREP</td>\n",
       "      <td>PREP</td>\n",
       "    </tr>\n",
       "    <tr>\n",
       "      <th>21</th>\n",
       "      <td>пыли</td>\n",
       "      <td>NOUN</td>\n",
       "      <td>NOUN</td>\n",
       "      <td>NOUN</td>\n",
       "    </tr>\n",
       "    <tr>\n",
       "      <th>22</th>\n",
       "      <td>и</td>\n",
       "      <td>CONJ</td>\n",
       "      <td>CONJ</td>\n",
       "      <td>CONJ</td>\n",
       "    </tr>\n",
       "    <tr>\n",
       "      <th>23</th>\n",
       "      <td>золы</td>\n",
       "      <td>NOUN</td>\n",
       "      <td>NOUN</td>\n",
       "      <td>NOUN</td>\n",
       "    </tr>\n",
       "    <tr>\n",
       "      <th>24</th>\n",
       "      <td>восстанут</td>\n",
       "      <td>VERB</td>\n",
       "      <td>VERB</td>\n",
       "      <td>VERB</td>\n",
       "    </tr>\n",
       "    <tr>\n",
       "      <th>25</th>\n",
       "      <td>будто</td>\n",
       "      <td>CONJ</td>\n",
       "      <td>CONJ</td>\n",
       "      <td>CONJ</td>\n",
       "    </tr>\n",
       "    <tr>\n",
       "      <th>26</th>\n",
       "      <td>золотистые</td>\n",
       "      <td>ADJF</td>\n",
       "      <td>ADJF</td>\n",
       "      <td>ADJF</td>\n",
       "    </tr>\n",
       "    <tr>\n",
       "      <th>27</th>\n",
       "      <td>саламандры</td>\n",
       "      <td>NOUN</td>\n",
       "      <td>NOUN</td>\n",
       "      <td>NOUN</td>\n",
       "    </tr>\n",
       "    <tr>\n",
       "      <th>28</th>\n",
       "      <td>старые</td>\n",
       "      <td>NOUN</td>\n",
       "      <td>ADJF</td>\n",
       "      <td>ADJF</td>\n",
       "    </tr>\n",
       "    <tr>\n",
       "      <th>29</th>\n",
       "      <td>годы</td>\n",
       "      <td>NOUN</td>\n",
       "      <td>NOUN</td>\n",
       "      <td>NOUN</td>\n",
       "    </tr>\n",
       "    <tr>\n",
       "      <th>...</th>\n",
       "      <td>...</td>\n",
       "      <td>...</td>\n",
       "      <td>...</td>\n",
       "      <td>...</td>\n",
       "    </tr>\n",
       "    <tr>\n",
       "      <th>79</th>\n",
       "      <td>в</td>\n",
       "      <td>PREP</td>\n",
       "      <td>PREP</td>\n",
       "      <td>PREP</td>\n",
       "    </tr>\n",
       "    <tr>\n",
       "      <th>80</th>\n",
       "      <td>яйцо</td>\n",
       "      <td>NOUN</td>\n",
       "      <td>NOUN</td>\n",
       "      <td>NOUN</td>\n",
       "    </tr>\n",
       "    <tr>\n",
       "      <th>81</th>\n",
       "      <td>кроликам</td>\n",
       "      <td>NOUN</td>\n",
       "      <td>NOUN</td>\n",
       "      <td>NOUN</td>\n",
       "    </tr>\n",
       "    <tr>\n",
       "      <th>82</th>\n",
       "      <td>ныряющим</td>\n",
       "      <td>PRTF</td>\n",
       "      <td>VERB</td>\n",
       "      <td>VERB</td>\n",
       "    </tr>\n",
       "    <tr>\n",
       "      <th>83</th>\n",
       "      <td>в</td>\n",
       "      <td>PREP</td>\n",
       "      <td>PREP</td>\n",
       "      <td>PREP</td>\n",
       "    </tr>\n",
       "    <tr>\n",
       "      <th>84</th>\n",
       "      <td>шляпу</td>\n",
       "      <td>NOUN</td>\n",
       "      <td>NOUN</td>\n",
       "      <td>NOUN</td>\n",
       "    </tr>\n",
       "    <tr>\n",
       "      <th>85</th>\n",
       "      <td>фокусника</td>\n",
       "      <td>NOUN</td>\n",
       "      <td>NOUN</td>\n",
       "      <td>NOUN</td>\n",
       "    </tr>\n",
       "    <tr>\n",
       "      <th>86</th>\n",
       "      <td>все</td>\n",
       "      <td>ADJF</td>\n",
       "      <td>NPRO</td>\n",
       "      <td>NPRO</td>\n",
       "    </tr>\n",
       "    <tr>\n",
       "      <th>87</th>\n",
       "      <td>и</td>\n",
       "      <td>CONJ</td>\n",
       "      <td>CONJ</td>\n",
       "      <td>CONJ</td>\n",
       "    </tr>\n",
       "    <tr>\n",
       "      <th>88</th>\n",
       "      <td>вся</td>\n",
       "      <td>ADJF</td>\n",
       "      <td>A-PRO</td>\n",
       "      <td>A-PRO</td>\n",
       "    </tr>\n",
       "    <tr>\n",
       "      <th>89</th>\n",
       "      <td>познает</td>\n",
       "      <td>VERB</td>\n",
       "      <td>VERB</td>\n",
       "      <td>VERB</td>\n",
       "    </tr>\n",
       "    <tr>\n",
       "      <th>90</th>\n",
       "      <td>новую</td>\n",
       "      <td>ADJF</td>\n",
       "      <td>ADJF</td>\n",
       "      <td>ADJF</td>\n",
       "    </tr>\n",
       "    <tr>\n",
       "      <th>91</th>\n",
       "      <td>смерть</td>\n",
       "      <td>NOUN</td>\n",
       "      <td>NOUN</td>\n",
       "      <td>NOUN</td>\n",
       "    </tr>\n",
       "    <tr>\n",
       "      <th>92</th>\n",
       "      <td>смерть</td>\n",
       "      <td>NOUN</td>\n",
       "      <td>NOUN</td>\n",
       "      <td>NOUN</td>\n",
       "    </tr>\n",
       "    <tr>\n",
       "      <th>93</th>\n",
       "      <td>семени</td>\n",
       "      <td>NOUN</td>\n",
       "      <td>NOUN</td>\n",
       "      <td>NOUN</td>\n",
       "    </tr>\n",
       "    <tr>\n",
       "      <th>94</th>\n",
       "      <td>зеленую</td>\n",
       "      <td>ADJF</td>\n",
       "      <td>ADJF</td>\n",
       "      <td>ADJF</td>\n",
       "    </tr>\n",
       "    <tr>\n",
       "      <th>95</th>\n",
       "      <td>смерть</td>\n",
       "      <td>NOUN</td>\n",
       "      <td>NOUN</td>\n",
       "      <td>NOUN</td>\n",
       "    </tr>\n",
       "    <tr>\n",
       "      <th>96</th>\n",
       "      <td>возвращения</td>\n",
       "      <td>NOUN</td>\n",
       "      <td>NOUN</td>\n",
       "      <td>NOUN</td>\n",
       "    </tr>\n",
       "    <tr>\n",
       "      <th>97</th>\n",
       "      <td>в</td>\n",
       "      <td>PREP</td>\n",
       "      <td>PREP</td>\n",
       "      <td>PREP</td>\n",
       "    </tr>\n",
       "    <tr>\n",
       "      <th>98</th>\n",
       "      <td>пору</td>\n",
       "      <td>NOUN</td>\n",
       "      <td>NOUN</td>\n",
       "      <td>NOUN</td>\n",
       "    </tr>\n",
       "    <tr>\n",
       "      <th>99</th>\n",
       "      <td>предшествующую</td>\n",
       "      <td>PRTF</td>\n",
       "      <td>VERB</td>\n",
       "      <td>VERB</td>\n",
       "    </tr>\n",
       "    <tr>\n",
       "      <th>100</th>\n",
       "      <td>зачатию</td>\n",
       "      <td>NOUN</td>\n",
       "      <td>NOUN</td>\n",
       "      <td>NOUN</td>\n",
       "    </tr>\n",
       "    <tr>\n",
       "      <th>101</th>\n",
       "      <td>и</td>\n",
       "      <td>CONJ</td>\n",
       "      <td>CONJ</td>\n",
       "      <td>CONJ</td>\n",
       "    </tr>\n",
       "    <tr>\n",
       "      <th>102</th>\n",
       "      <td>это</td>\n",
       "      <td>PRCL</td>\n",
       "      <td>NPRO</td>\n",
       "      <td>NPRO</td>\n",
       "    </tr>\n",
       "    <tr>\n",
       "      <th>103</th>\n",
       "      <td>будет</td>\n",
       "      <td>VERB</td>\n",
       "      <td>VERB</td>\n",
       "      <td>VERB</td>\n",
       "    </tr>\n",
       "    <tr>\n",
       "      <th>104</th>\n",
       "      <td>сделано</td>\n",
       "      <td>PRTS</td>\n",
       "      <td>VERB</td>\n",
       "      <td>VERB</td>\n",
       "    </tr>\n",
       "    <tr>\n",
       "      <th>105</th>\n",
       "      <td>одним</td>\n",
       "      <td>ADJF</td>\n",
       "      <td>ANUM</td>\n",
       "      <td>A-PRO</td>\n",
       "    </tr>\n",
       "    <tr>\n",
       "      <th>106</th>\n",
       "      <td>лишь</td>\n",
       "      <td>PRCL</td>\n",
       "      <td>PRCL</td>\n",
       "      <td>PRCL</td>\n",
       "    </tr>\n",
       "    <tr>\n",
       "      <th>107</th>\n",
       "      <td>движением</td>\n",
       "      <td>NOUN</td>\n",
       "      <td>NOUN</td>\n",
       "      <td>NOUN</td>\n",
       "    </tr>\n",
       "    <tr>\n",
       "      <th>108</th>\n",
       "      <td>руки</td>\n",
       "      <td>NOUN</td>\n",
       "      <td>NOUN</td>\n",
       "      <td>NOUN</td>\n",
       "    </tr>\n",
       "  </tbody>\n",
       "</table>\n",
       "<p>109 rows × 4 columns</p>\n",
       "</div>"
      ],
      "text/plain": [
       "               word pymorph   nltk mystem\n",
       "0              одно    ADJF  A-PRO  A-PRO\n",
       "1     прикосновение    NOUN   NOUN   NOUN\n",
       "2              руки    NOUN   NOUN   NOUN\n",
       "3                 и    CONJ   CONJ   CONJ\n",
       "4            тотчас    ADVB   ADVB   ADVB\n",
       "5               это    PRCL  A-PRO  A-PRO\n",
       "6           горение    NOUN   NOUN   NOUN\n",
       "7          послушно    ADVB   ADVB   ADVB\n",
       "8              даст    VERB   VERB   VERB\n",
       "9            задний    ADJF   ADJF   ADJF\n",
       "10              ход    NOUN   NOUN   NOUN\n",
       "11           экельс    NOUN   NOUN   NOUN\n",
       "12           помнил    VERB   VERB   VERB\n",
       "13           каждое    ADJF  A-PRO  A-PRO\n",
       "14            слово    NOUN   NOUN   NOUN\n",
       "15       объявления    NOUN   NOUN   NOUN\n",
       "16               из    PREP   PREP   PREP\n",
       "17            пепла    NOUN   NOUN   NOUN\n",
       "18                и    CONJ   CONJ   CONJ\n",
       "19            праха    NOUN   NOUN   NOUN\n",
       "20               из    PREP   PREP   PREP\n",
       "21             пыли    NOUN   NOUN   NOUN\n",
       "22                и    CONJ   CONJ   CONJ\n",
       "23             золы    NOUN   NOUN   NOUN\n",
       "24        восстанут    VERB   VERB   VERB\n",
       "25            будто    CONJ   CONJ   CONJ\n",
       "26       золотистые    ADJF   ADJF   ADJF\n",
       "27       саламандры    NOUN   NOUN   NOUN\n",
       "28           старые    NOUN   ADJF   ADJF\n",
       "29             годы    NOUN   NOUN   NOUN\n",
       "..              ...     ...    ...    ...\n",
       "79                в    PREP   PREP   PREP\n",
       "80             яйцо    NOUN   NOUN   NOUN\n",
       "81         кроликам    NOUN   NOUN   NOUN\n",
       "82         ныряющим    PRTF   VERB   VERB\n",
       "83                в    PREP   PREP   PREP\n",
       "84            шляпу    NOUN   NOUN   NOUN\n",
       "85        фокусника    NOUN   NOUN   NOUN\n",
       "86              все    ADJF   NPRO   NPRO\n",
       "87                и    CONJ   CONJ   CONJ\n",
       "88              вся    ADJF  A-PRO  A-PRO\n",
       "89          познает    VERB   VERB   VERB\n",
       "90            новую    ADJF   ADJF   ADJF\n",
       "91           смерть    NOUN   NOUN   NOUN\n",
       "92           смерть    NOUN   NOUN   NOUN\n",
       "93           семени    NOUN   NOUN   NOUN\n",
       "94          зеленую    ADJF   ADJF   ADJF\n",
       "95           смерть    NOUN   NOUN   NOUN\n",
       "96      возвращения    NOUN   NOUN   NOUN\n",
       "97                в    PREP   PREP   PREP\n",
       "98             пору    NOUN   NOUN   NOUN\n",
       "99   предшествующую    PRTF   VERB   VERB\n",
       "100         зачатию    NOUN   NOUN   NOUN\n",
       "101               и    CONJ   CONJ   CONJ\n",
       "102             это    PRCL   NPRO   NPRO\n",
       "103           будет    VERB   VERB   VERB\n",
       "104         сделано    PRTS   VERB   VERB\n",
       "105           одним    ADJF   ANUM  A-PRO\n",
       "106            лишь    PRCL   PRCL   PRCL\n",
       "107       движением    NOUN   NOUN   NOUN\n",
       "108            руки    NOUN   NOUN   NOUN\n",
       "\n",
       "[109 rows x 4 columns]"
      ]
     },
     "execution_count": 76,
     "metadata": {},
     "output_type": "execute_result"
    }
   ],
   "source": [
    "pos_df"
   ]
  },
  {
   "cell_type": "markdown",
   "metadata": {},
   "source": [
    "Again mismatch in tags for most cases is related to different asignment of tags for adjective-type words (in Pymorphy all of them are labeled as adjective, in Mystem and NLTK adgective-number and adjective-pronoun are specified). <br>\n",
    "The same thing happens to verb forms. <br>\n"
   ]
  },
  {
   "cell_type": "markdown",
   "metadata": {},
   "source": [
    "An interesting diambiguation case could be noticed for word __это__. "
   ]
  },
  {
   "cell_type": "code",
   "execution_count": 95,
   "metadata": {},
   "outputs": [
    {
     "data": {
      "text/html": [
       "<div>\n",
       "<style>\n",
       "    .dataframe thead tr:only-child th {\n",
       "        text-align: right;\n",
       "    }\n",
       "\n",
       "    .dataframe thead th {\n",
       "        text-align: left;\n",
       "    }\n",
       "\n",
       "    .dataframe tbody tr th {\n",
       "        vertical-align: top;\n",
       "    }\n",
       "</style>\n",
       "<table border=\"1\" class=\"dataframe\">\n",
       "  <thead>\n",
       "    <tr style=\"text-align: right;\">\n",
       "      <th></th>\n",
       "      <th>word</th>\n",
       "      <th>pymorph</th>\n",
       "      <th>nltk</th>\n",
       "      <th>mystem</th>\n",
       "    </tr>\n",
       "  </thead>\n",
       "  <tbody>\n",
       "    <tr>\n",
       "      <th>5</th>\n",
       "      <td>это</td>\n",
       "      <td>PRCL</td>\n",
       "      <td>A-PRO</td>\n",
       "      <td>A-PRO</td>\n",
       "    </tr>\n",
       "    <tr>\n",
       "      <th>6</th>\n",
       "      <td>горение</td>\n",
       "      <td>NOUN</td>\n",
       "      <td>NOUN</td>\n",
       "      <td>NOUN</td>\n",
       "    </tr>\n",
       "    <tr>\n",
       "      <th>7</th>\n",
       "      <td>послушно</td>\n",
       "      <td>ADVB</td>\n",
       "      <td>ADVB</td>\n",
       "      <td>ADVB</td>\n",
       "    </tr>\n",
       "    <tr>\n",
       "      <th>8</th>\n",
       "      <td>даст</td>\n",
       "      <td>VERB</td>\n",
       "      <td>VERB</td>\n",
       "      <td>VERB</td>\n",
       "    </tr>\n",
       "  </tbody>\n",
       "</table>\n",
       "</div>"
      ],
      "text/plain": [
       "       word pymorph   nltk mystem\n",
       "5       это    PRCL  A-PRO  A-PRO\n",
       "6   горение    NOUN   NOUN   NOUN\n",
       "7  послушно    ADVB   ADVB   ADVB\n",
       "8      даст    VERB   VERB   VERB"
      ]
     },
     "execution_count": 95,
     "metadata": {},
     "output_type": "execute_result"
    }
   ],
   "source": [
    "pos_df[5:9]"
   ]
  },
  {
   "cell_type": "markdown",
   "metadata": {},
   "source": [
    "Here 'это' is a determinative pronoun for noun 'горение'. NLTK and Mystem gave correct tag -- adjective-pronoun while Pymorphy labeled it as a particle."
   ]
  },
  {
   "cell_type": "code",
   "execution_count": 97,
   "metadata": {},
   "outputs": [
    {
     "data": {
      "text/html": [
       "<div>\n",
       "<style>\n",
       "    .dataframe thead tr:only-child th {\n",
       "        text-align: right;\n",
       "    }\n",
       "\n",
       "    .dataframe thead th {\n",
       "        text-align: left;\n",
       "    }\n",
       "\n",
       "    .dataframe tbody tr th {\n",
       "        vertical-align: top;\n",
       "    }\n",
       "</style>\n",
       "<table border=\"1\" class=\"dataframe\">\n",
       "  <thead>\n",
       "    <tr style=\"text-align: right;\">\n",
       "      <th></th>\n",
       "      <th>word</th>\n",
       "      <th>pymorph</th>\n",
       "      <th>nltk</th>\n",
       "      <th>mystem</th>\n",
       "    </tr>\n",
       "  </thead>\n",
       "  <tbody>\n",
       "    <tr>\n",
       "      <th>101</th>\n",
       "      <td>и</td>\n",
       "      <td>CONJ</td>\n",
       "      <td>CONJ</td>\n",
       "      <td>CONJ</td>\n",
       "    </tr>\n",
       "    <tr>\n",
       "      <th>102</th>\n",
       "      <td>это</td>\n",
       "      <td>PRCL</td>\n",
       "      <td>NPRO</td>\n",
       "      <td>NPRO</td>\n",
       "    </tr>\n",
       "    <tr>\n",
       "      <th>103</th>\n",
       "      <td>будет</td>\n",
       "      <td>VERB</td>\n",
       "      <td>VERB</td>\n",
       "      <td>VERB</td>\n",
       "    </tr>\n",
       "    <tr>\n",
       "      <th>104</th>\n",
       "      <td>сделано</td>\n",
       "      <td>PRTS</td>\n",
       "      <td>VERB</td>\n",
       "      <td>VERB</td>\n",
       "    </tr>\n",
       "  </tbody>\n",
       "</table>\n",
       "</div>"
      ],
      "text/plain": [
       "        word pymorph  nltk mystem\n",
       "101        и    CONJ  CONJ   CONJ\n",
       "102      это    PRCL  NPRO   NPRO\n",
       "103    будет    VERB  VERB   VERB\n",
       "104  сделано    PRTS  VERB   VERB"
      ]
     },
     "execution_count": 97,
     "metadata": {},
     "output_type": "execute_result"
    }
   ],
   "source": [
    "pos_df[101:105]"
   ]
  },
  {
   "cell_type": "markdown",
   "metadata": {},
   "source": [
    "In this case 'это' is not related to a noun so NLTK and Mystem correctly label it as a noun-pronoun. "
   ]
  },
  {
   "cell_type": "markdown",
   "metadata": {},
   "source": [
    "### Conclusion\n",
    "\n",
    "Mostly NLTK, Mystem and Pymorphy give pretty good ressults for POS-tagging, but it seems like NLTK and Mystem have more power for morphological disambiguation and Mystem is slower than Pymorphy and NLTK. <br>\n",
    "Different tagsets also give different possibilities for POS-tagging."
   ]
  },
  {
   "cell_type": "code",
   "execution_count": null,
   "metadata": {
    "collapsed": true
   },
   "outputs": [],
   "source": []
  }
 ],
 "metadata": {
  "kernelspec": {
   "display_name": "Python 3",
   "language": "python",
   "name": "python3"
  },
  "language_info": {
   "codemirror_mode": {
    "name": "ipython",
    "version": 3
   },
   "file_extension": ".py",
   "mimetype": "text/x-python",
   "name": "python",
   "nbconvert_exporter": "python",
   "pygments_lexer": "ipython3",
   "version": "3.5.3"
  }
 },
 "nbformat": 4,
 "nbformat_minor": 2
}
