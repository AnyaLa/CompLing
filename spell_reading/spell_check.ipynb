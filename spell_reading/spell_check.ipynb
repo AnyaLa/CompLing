{
 "cells": [
  {
   "cell_type": "code",
   "execution_count": 1,
   "metadata": {
    "collapsed": true
   },
   "outputs": [],
   "source": [
    "import sys\n",
    "sys.path.append('C:\\Program Files\\Anaconda3\\Lib\\site-packages')\n",
    "#добавляю для себя, так у меня работают пакеты!"
   ]
  },
  {
   "cell_type": "code",
   "execution_count": 2,
   "metadata": {
    "collapsed": true
   },
   "outputs": [],
   "source": [
    "import pandas as pd\n",
    "from tqdm import tqdm\n",
    "import os\n",
    "import re\n",
    "from nltk import trigrams\n",
    "from collections import Counter\n",
    "import pymorphy2 # Лемматизация"
   ]
  },
  {
   "cell_type": "markdown",
   "metadata": {},
   "source": [
    "## Скачиваем тексты wiki ##"
   ]
  },
  {
   "cell_type": "code",
   "execution_count": 20,
   "metadata": {
    "collapsed": true
   },
   "outputs": [],
   "source": [
    "import wikipedia"
   ]
  },
  {
   "cell_type": "code",
   "execution_count": 21,
   "metadata": {
    "collapsed": true
   },
   "outputs": [],
   "source": [
    "wikipedia.set_lang(\"ru\")"
   ]
  },
  {
   "cell_type": "code",
   "execution_count": 28,
   "metadata": {
    "collapsed": true
   },
   "outputs": [],
   "source": [
    "random_pages_names = wikipedia.random(pages=500)"
   ]
  },
  {
   "cell_type": "code",
   "execution_count": 4,
   "metadata": {
    "collapsed": true
   },
   "outputs": [],
   "source": [
    "path_train_texts = 'C:/Users/Анна/YandexDisk/spell-check/wikiru/'"
   ]
  },
  {
   "cell_type": "code",
   "execution_count": 3,
   "metadata": {},
   "outputs": [
    {
     "data": {
      "text/plain": [
       "'for random_name in tqdm(random_pages_names):\\n    page_text = []\\n    random_name = wikipedia.search(random_name)\\n    try:\\n        saved_page = wikipedia.page(random_name[0])\\n    except (wikipedia.exceptions.DisambiguationError,\\n            wikipedia.exceptions.PageError) as e:\\n        print(\"Error: {0}\".format(e))\\n        continue\\n    try:\\n        page_text.append(saved_page.title)\\n        page_text.append(saved_page.summary)\\n        page_text.append(saved_page.content)\\n    except wikipedia.exceptions.DisambiguationError as e:\\n        print(\"Error: {0}\".format(e))\\n        continue\\n             \\n   \\n    page_text = \\' \\'.join(page_text)\\n\\n    file_name = (path_train_texts+(saved_page.title) + \\'.txt\\')\\n    try:\\n        with open(file_name, \\'w\\', encoding = \\'utf-8\\') as fl:\\n            fl.write(page_text)\\n    except FileNotFoundError:\\n        continue'"
      ]
     },
     "execution_count": 3,
     "metadata": {},
     "output_type": "execute_result"
    }
   ],
   "source": [
    "for random_name in tqdm(random_pages_names):\n",
    "    page_text = []\n",
    "    random_name = wikipedia.search(random_name)\n",
    "    try:\n",
    "        saved_page = wikipedia.page(random_name[0])\n",
    "    except (wikipedia.exceptions.DisambiguationError,\n",
    "            wikipedia.exceptions.PageError) as e:\n",
    "        print(\"Error: {0}\".format(e))\n",
    "        continue\n",
    "    try:\n",
    "        page_text.append(saved_page.title)\n",
    "        page_text.append(saved_page.summary)\n",
    "        page_text.append(saved_page.content)\n",
    "    except wikipedia.exceptions.DisambiguationError as e:\n",
    "        print(\"Error: {0}\".format(e))\n",
    "        continue\n",
    "             \n",
    "   \n",
    "    page_text = ' '.join(page_text)\n",
    "\n",
    "    file_name = (path_train_texts+(saved_page.title) + '.txt')\n",
    "    try:\n",
    "        with open(file_name, 'w', encoding = 'utf-8') as fl:\n",
    "            fl.write(page_text)\n",
    "    except FileNotFoundError:\n",
    "        continue"
   ]
  },
  {
   "cell_type": "code",
   "execution_count": 6,
   "metadata": {
    "collapsed": true
   },
   "outputs": [],
   "source": [
    "def slurp(path):\n",
    "    with open(path, 'r', encoding = 'utf-8') as file_object:\n",
    "        return file_object.read()"
   ]
  },
  {
   "cell_type": "markdown",
   "metadata": {},
   "source": [
    "## Препроцессинг ##\n",
    "Создаем корпус текстов из Википедии."
   ]
  },
  {
   "cell_type": "code",
   "execution_count": 4,
   "metadata": {
    "collapsed": true
   },
   "outputs": [],
   "source": [
    "def preprocess(texts):\n",
    "    preprocessed_texts_list = []\n",
    "    for text in texts:\n",
    "        text = re.sub(r'[A-Za-z]', '', text)\n",
    "        text = re.sub(r'[А-Я]{2,}', '', text)#убираем аббревиатуры\n",
    "        lower_text = text.lower()#приводим к нижнему регистру, заменяем тире, чтобы потом оставить дефисы в словах\n",
    "        #lower_text = re.sub(r'(\\d)+-(\\d)+','', lower_text)#удаление цифр типа 1999-2001\n",
    "        del_new_line = re.sub(r'\\n', '', lower_text)\n",
    "        no_ref_text = re.sub(r'==литература(.)+|==источники(.)+', '', del_new_line)#удаляем все, что после рубрики \"Сссылки\"\n",
    "        no_num_text = re.sub(r'\\d', '', no_ref_text)#удаляем цифры\n",
    "        extracted_text = re.findall(r'[а-яё]+', no_num_text)\n",
    "        #разделяем на токены - последовательности букв с дефисами\n",
    "        extracted_text = ' '.join(extracted_text)\n",
    "        preprocessed_texts_list.append(extracted_text)\n",
    "    return preprocessed_texts_list"
   ]
  },
  {
   "cell_type": "code",
   "execution_count": 4,
   "metadata": {},
   "outputs": [
    {
     "ename": "NameError",
     "evalue": "name 'path_train_texts' is not defined",
     "output_type": "error",
     "traceback": [
      "\u001b[0;31m---------------------------------------------------------------------------\u001b[0m",
      "\u001b[0;31mNameError\u001b[0m                                 Traceback (most recent call last)",
      "\u001b[0;32m<ipython-input-4-b47929a3bd88>\u001b[0m in \u001b[0;36m<module>\u001b[0;34m()\u001b[0m\n\u001b[1;32m      1\u001b[0m \u001b[0mtrain_texts_list\u001b[0m \u001b[0;34m=\u001b[0m \u001b[0;34m[\u001b[0m\u001b[0;34m]\u001b[0m\u001b[0;34m\u001b[0m\u001b[0m\n\u001b[0;32m----> 2\u001b[0;31m \u001b[0;32mfor\u001b[0m \u001b[0mroot\u001b[0m\u001b[0;34m,\u001b[0m \u001b[0mdirs\u001b[0m\u001b[0;34m,\u001b[0m \u001b[0mfiles\u001b[0m \u001b[0;32min\u001b[0m \u001b[0mos\u001b[0m\u001b[0;34m.\u001b[0m\u001b[0mwalk\u001b[0m\u001b[0;34m(\u001b[0m\u001b[0mpath_train_texts\u001b[0m\u001b[0;34m)\u001b[0m\u001b[0;34m:\u001b[0m\u001b[0;34m\u001b[0m\u001b[0m\n\u001b[0m\u001b[1;32m      3\u001b[0m     \u001b[0;32mfor\u001b[0m \u001b[0mfile_name\u001b[0m \u001b[0;32min\u001b[0m \u001b[0mtqdm\u001b[0m\u001b[0;34m(\u001b[0m\u001b[0mfiles\u001b[0m\u001b[0;34m)\u001b[0m\u001b[0;34m:\u001b[0m\u001b[0;34m\u001b[0m\u001b[0m\n\u001b[1;32m      4\u001b[0m         \u001b[0minput_path\u001b[0m \u001b[0;34m=\u001b[0m \u001b[0mpath_train_texts\u001b[0m \u001b[0;34m+\u001b[0m \u001b[0mfile_name\u001b[0m\u001b[0;34m\u001b[0m\u001b[0m\n\u001b[1;32m      5\u001b[0m         \u001b[0mtext\u001b[0m \u001b[0;34m=\u001b[0m \u001b[0mslurp\u001b[0m\u001b[0;34m(\u001b[0m\u001b[0minput_path\u001b[0m\u001b[0;34m)\u001b[0m\u001b[0;34m\u001b[0m\u001b[0m\n",
      "\u001b[0;31mNameError\u001b[0m: name 'path_train_texts' is not defined"
     ]
    }
   ],
   "source": [
    "train_texts_list = []\n",
    "for root, dirs, files in os.walk(path_train_texts):\n",
    "    for file_name in tqdm(files):\n",
    "        input_path = path_train_texts + file_name\n",
    "        text = slurp(input_path)\n",
    "        train_texts_list.append(text)\n",
    "preprocessed_train_texts = preprocess(train_texts_list)    "
   ]
  },
  {
   "cell_type": "code",
   "execution_count": 81,
   "metadata": {},
   "outputs": [
    {
     "data": {
      "text/plain": [
       "'число одиннадцать натуральное число расположенное между числами и пятое простое число четвёртое число софи жермен простое число число также является числом софи жермен третье безопасное простое число простое число якобсталя одиннадцать натуральное число расположенное между числами и пятое простое число четвёртое число софи жермен простое число число также является числом софи жермен третье безопасное простое число простое число якобсталя свойства цифры первых пяти неотрицательных степеней числа являются элементами треугольника паскаля эндекахорон англ абстрактный правильный четырёхмерный политоп ячеек которого представляют собой полуикосаэдры число бога кубика рубика в метрике равно геометрия существует развёрток куба образующих подмножество гексамино и развёрток октаэдра образующих подмножество октиамондов из гексамино шестиклеточных полимино ровно являются чётными то есть при шахматной раскраске содержат чётное число светлых и чётное число тёмных квадратов дэвид а кларнер обнаружил гексамино из одиннадцати копий которого можно сложить прямоугольник до сих пор неизвестно существует ли непрямоугольное полимино из или копий которого можно сложить прямоугольник также не найдены другие примеры непрямоугольных полимино из копий которых можно составить прямоугольник примечания'"
      ]
     },
     "execution_count": 81,
     "metadata": {},
     "output_type": "execute_result"
    }
   ],
   "source": [
    "preprocessed_train_texts[14]"
   ]
  },
  {
   "cell_type": "code",
   "execution_count": 82,
   "metadata": {
    "collapsed": true
   },
   "outputs": [],
   "source": [
    "train_wiki = pd.DataFrame(data = preprocessed_train_texts, columns=['wiki_texts'])"
   ]
  },
  {
   "cell_type": "code",
   "execution_count": 83,
   "metadata": {
    "collapsed": true
   },
   "outputs": [],
   "source": [
    "train_wiki.to_csv('train_wiki_2.csv', index = False, encoding = 'utf-8')"
   ]
  },
  {
   "cell_type": "markdown",
   "metadata": {},
   "source": [
    "## Обучающий корпус -- тексты Википедии \n",
    "По нему мы будем считать априорные и условные вероятности слов и словарных биграм. "
   ]
  },
  {
   "cell_type": "code",
   "execution_count": 4,
   "metadata": {
    "collapsed": true
   },
   "outputs": [],
   "source": [
    "train_wiki = pd.read_csv('/home/nst/mount/data/share/yd/comp_ling/spell-check/train_wiki_2.csv')"
   ]
  },
  {
   "cell_type": "code",
   "execution_count": 3,
   "metadata": {
    "collapsed": true
   },
   "outputs": [],
   "source": [
    "train_wiki = pd.read_csv('C:/Users/Анна/YandexDisk/spell-check/train_wiki_2.csv')"
   ]
  },
  {
   "cell_type": "code",
   "execution_count": 4,
   "metadata": {},
   "outputs": [
    {
     "data": {
      "text/html": [
       "<div>\n",
       "<style>\n",
       "    .dataframe thead tr:only-child th {\n",
       "        text-align: right;\n",
       "    }\n",
       "\n",
       "    .dataframe thead th {\n",
       "        text-align: left;\n",
       "    }\n",
       "\n",
       "    .dataframe tbody tr th {\n",
       "        vertical-align: top;\n",
       "    }\n",
       "</style>\n",
       "<table border=\"1\" class=\"dataframe\">\n",
       "  <thead>\n",
       "    <tr style=\"text-align: right;\">\n",
       "      <th></th>\n",
       "      <th>wiki_texts</th>\n",
       "    </tr>\n",
       "  </thead>\n",
       "  <tbody>\n",
       "    <tr>\n",
       "      <th>0</th>\n",
       "      <td>долби долби лат астероид относящийся к группе ...</td>\n",
       "    </tr>\n",
       "    <tr>\n",
       "      <th>1</th>\n",
       "      <td>адрия адрия лат довольно крупный астероид из г...</td>\n",
       "    </tr>\n",
       "    <tr>\n",
       "      <th>2</th>\n",
       "      <td>гиппас гиппас лат др греч типичный троянский а...</td>\n",
       "    </tr>\n",
       "    <tr>\n",
       "      <th>3</th>\n",
       "      <td>гоголь гоголь лат типичный астероид главного п...</td>\n",
       "    </tr>\n",
       "    <tr>\n",
       "      <th>4</th>\n",
       "      <td>капрера капрера итал астероид главного пояса п...</td>\n",
       "    </tr>\n",
       "  </tbody>\n",
       "</table>\n",
       "</div>"
      ],
      "text/plain": [
       "                                          wiki_texts\n",
       "0  долби долби лат астероид относящийся к группе ...\n",
       "1  адрия адрия лат довольно крупный астероид из г...\n",
       "2  гиппас гиппас лат др греч типичный троянский а...\n",
       "3  гоголь гоголь лат типичный астероид главного п...\n",
       "4  капрера капрера итал астероид главного пояса п..."
      ]
     },
     "execution_count": 4,
     "metadata": {},
     "output_type": "execute_result"
    }
   ],
   "source": [
    "train_wiki.head()"
   ]
  },
  {
   "cell_type": "markdown",
   "metadata": {},
   "source": [
    "## Обучающая выборка с ошибками"
   ]
  },
  {
   "cell_type": "code",
   "execution_count": 7,
   "metadata": {
    "collapsed": true
   },
   "outputs": [],
   "source": [
    "train = slurp('/home/nst/mount/data/share/yd/comp_ling/spell-check/training.txt')"
   ]
  },
  {
   "cell_type": "code",
   "execution_count": 10,
   "metadata": {
    "collapsed": true
   },
   "outputs": [],
   "source": [
    "train = slurp('C:/Users/Анна/YandexDisk/spell-check/training.txt')"
   ]
  },
  {
   "cell_type": "code",
   "execution_count": 8,
   "metadata": {
    "collapsed": true
   },
   "outputs": [],
   "source": [
    "train = train.split('\\n\\n')"
   ]
  },
  {
   "cell_type": "code",
   "execution_count": 9,
   "metadata": {
    "collapsed": true
   },
   "outputs": [],
   "source": [
    "train_df = pd.DataFrame(data = train, columns = ['train'])"
   ]
  },
  {
   "cell_type": "code",
   "execution_count": 10,
   "metadata": {
    "collapsed": true
   },
   "outputs": [],
   "source": [
    "train_df['wrong'], train_df['right'] = train_df['train'].str.split('\\n',1).str"
   ]
  },
  {
   "cell_type": "code",
   "execution_count": 11,
   "metadata": {
    "collapsed": true
   },
   "outputs": [],
   "source": [
    "train_df.pop('train');"
   ]
  },
  {
   "cell_type": "code",
   "execution_count": 12,
   "metadata": {
    "collapsed": true
   },
   "outputs": [],
   "source": [
    "train_df.to_csv('train_df.csv', index = False, encoding=\"utf-8\")"
   ]
  },
  {
   "cell_type": "code",
   "execution_count": 13,
   "metadata": {
    "collapsed": true
   },
   "outputs": [],
   "source": [
    "train_df = pd.read_csv('/home/nst/mount/data/linguistics_hse/comp_ling/spell_check/anyala_compling_repo/CompLing/spell_reading/train_df.csv')"
   ]
  },
  {
   "cell_type": "code",
   "execution_count": 7,
   "metadata": {
    "collapsed": true
   },
   "outputs": [],
   "source": [
    "train_df =  pd.read_csv('C:/Users/Анна/YandexDisk/spell-check/train_df.csv') ;"
   ]
  },
  {
   "cell_type": "code",
   "execution_count": 8,
   "metadata": {},
   "outputs": [
    {
     "data": {
      "text/html": [
       "<div>\n",
       "<style>\n",
       "    .dataframe thead tr:only-child th {\n",
       "        text-align: right;\n",
       "    }\n",
       "\n",
       "    .dataframe thead th {\n",
       "        text-align: left;\n",
       "    }\n",
       "\n",
       "    .dataframe tbody tr th {\n",
       "        vertical-align: top;\n",
       "    }\n",
       "</style>\n",
       "<table border=\"1\" class=\"dataframe\">\n",
       "  <thead>\n",
       "    <tr style=\"text-align: right;\">\n",
       "      <th></th>\n",
       "      <th>wrong</th>\n",
       "      <th>right</th>\n",
       "    </tr>\n",
       "  </thead>\n",
       "  <tbody>\n",
       "    <tr>\n",
       "      <th>0</th>\n",
       "      <td>тоесть если дамой то только в том случае если ...</td>\n",
       "      <td>то есть если домой то только в том случае если...</td>\n",
       "    </tr>\n",
       "    <tr>\n",
       "      <th>1</th>\n",
       "      <td>но если у меня характер будет такойже как хотя...</td>\n",
       "      <td>но если у меня характер будет такой же как хот...</td>\n",
       "    </tr>\n",
       "    <tr>\n",
       "      <th>2</th>\n",
       "      <td>делать осьминогов из одуванчиков и куколок из ...</td>\n",
       "      <td>делать осьминогов из одуванчиков и куколок из ...</td>\n",
       "    </tr>\n",
       "    <tr>\n",
       "      <th>3</th>\n",
       "      <td>Вальс в 5 па ( внимание, будет под другую музы...</td>\n",
       "      <td>Вальс в 5 па внимание будет под другую музыку ...</td>\n",
       "    </tr>\n",
       "    <tr>\n",
       "      <th>4</th>\n",
       "      <td>зима подходит к завершению а мне только сейчас...</td>\n",
       "      <td>зима подходит к завершению а мне только сейчас...</td>\n",
       "    </tr>\n",
       "  </tbody>\n",
       "</table>\n",
       "</div>"
      ],
      "text/plain": [
       "                                               wrong  \\\n",
       "0  тоесть если дамой то только в том случае если ...   \n",
       "1  но если у меня характер будет такойже как хотя...   \n",
       "2  делать осьминогов из одуванчиков и куколок из ...   \n",
       "3  Вальс в 5 па ( внимание, будет под другую музы...   \n",
       "4  зима подходит к завершению а мне только сейчас...   \n",
       "\n",
       "                                               right  \n",
       "0  то есть если домой то только в том случае если...  \n",
       "1  но если у меня характер будет такой же как хот...  \n",
       "2  делать осьминогов из одуванчиков и куколок из ...  \n",
       "3  Вальс в 5 па внимание будет под другую музыку ...  \n",
       "4  зима подходит к завершению а мне только сейчас...  "
      ]
     },
     "execution_count": 8,
     "metadata": {},
     "output_type": "execute_result"
    }
   ],
   "source": [
    "train_df.head()"
   ]
  },
  {
   "cell_type": "markdown",
   "metadata": {},
   "source": [
    "Уберем знаки препинания из обучающей выборки."
   ]
  },
  {
   "cell_type": "code",
   "execution_count": 9,
   "metadata": {
    "collapsed": true
   },
   "outputs": [],
   "source": [
    "train_df.wrong = [' '.join(re.findall(r'[а-яё]+', text.lower())) for text in train_df.wrong]\n",
    "train_df.right = [' '.join(re.findall(r'[а-яё]+', text.lower())) for text in train_df.right]"
   ]
  },
  {
   "cell_type": "code",
   "execution_count": 10,
   "metadata": {},
   "outputs": [
    {
     "data": {
      "text/html": [
       "<div>\n",
       "<style>\n",
       "    .dataframe thead tr:only-child th {\n",
       "        text-align: right;\n",
       "    }\n",
       "\n",
       "    .dataframe thead th {\n",
       "        text-align: left;\n",
       "    }\n",
       "\n",
       "    .dataframe tbody tr th {\n",
       "        vertical-align: top;\n",
       "    }\n",
       "</style>\n",
       "<table border=\"1\" class=\"dataframe\">\n",
       "  <thead>\n",
       "    <tr style=\"text-align: right;\">\n",
       "      <th></th>\n",
       "      <th>wrong</th>\n",
       "      <th>right</th>\n",
       "    </tr>\n",
       "  </thead>\n",
       "  <tbody>\n",
       "    <tr>\n",
       "      <th>0</th>\n",
       "      <td>тоесть если дамой то только в том случае если ...</td>\n",
       "      <td>то есть если домой то только в том случае если...</td>\n",
       "    </tr>\n",
       "    <tr>\n",
       "      <th>1</th>\n",
       "      <td>но если у меня характер будет такойже как хотя...</td>\n",
       "      <td>но если у меня характер будет такой же как хот...</td>\n",
       "    </tr>\n",
       "    <tr>\n",
       "      <th>2</th>\n",
       "      <td>делать осьминогов из одуванчиков и куколок из ...</td>\n",
       "      <td>делать осьминогов из одуванчиков и куколок из ...</td>\n",
       "    </tr>\n",
       "    <tr>\n",
       "      <th>3</th>\n",
       "      <td>вальс в па внимание будет под другую музыку с ...</td>\n",
       "      <td>вальс в па внимание будет под другую музыку с ...</td>\n",
       "    </tr>\n",
       "    <tr>\n",
       "      <th>4</th>\n",
       "      <td>зима подходит к завершению а мне только сейчас...</td>\n",
       "      <td>зима подходит к завершению а мне только сейчас...</td>\n",
       "    </tr>\n",
       "  </tbody>\n",
       "</table>\n",
       "</div>"
      ],
      "text/plain": [
       "                                               wrong  \\\n",
       "0  тоесть если дамой то только в том случае если ...   \n",
       "1  но если у меня характер будет такойже как хотя...   \n",
       "2  делать осьминогов из одуванчиков и куколок из ...   \n",
       "3  вальс в па внимание будет под другую музыку с ...   \n",
       "4  зима подходит к завершению а мне только сейчас...   \n",
       "\n",
       "                                               right  \n",
       "0  то есть если домой то только в том случае если...  \n",
       "1  но если у меня характер будет такой же как хот...  \n",
       "2  делать осьминогов из одуванчиков и куколок из ...  \n",
       "3  вальс в па внимание будет под другую музыку с ...  \n",
       "4  зима подходит к завершению а мне только сейчас...  "
      ]
     },
     "execution_count": 10,
     "metadata": {},
     "output_type": "execute_result"
    }
   ],
   "source": [
    "train_df.head()"
   ]
  },
  {
   "cell_type": "markdown",
   "metadata": {},
   "source": [
    "## Импорт словарей ##"
   ]
  },
  {
   "cell_type": "markdown",
   "metadata": {},
   "source": [
    "Используем словарь RuCorpora (~ 380 000 токенов)."
   ]
  },
  {
   "cell_type": "code",
   "execution_count": 7,
   "metadata": {},
   "outputs": [
    {
     "ename": "FileNotFoundError",
     "evalue": "[Errno 2] No such file or directory: '/home/nst/mount/data/share/yd/comp_ling/spell-check/dict.opcorpora.txt'",
     "output_type": "error",
     "traceback": [
      "\u001b[1;31m---------------------------------------------------------------------------\u001b[0m",
      "\u001b[1;31mFileNotFoundError\u001b[0m                         Traceback (most recent call last)",
      "\u001b[1;32m<ipython-input-7-d09a703d8bd2>\u001b[0m in \u001b[0;36m<module>\u001b[1;34m()\u001b[0m\n\u001b[1;32m----> 1\u001b[1;33m \u001b[0mrucorpora_dict\u001b[0m \u001b[1;33m=\u001b[0m \u001b[0mslurp\u001b[0m\u001b[1;33m(\u001b[0m\u001b[1;34m'/home/nst/mount/data/share/yd/comp_ling/spell-check/dict.opcorpora.txt'\u001b[0m\u001b[1;33m)\u001b[0m\u001b[1;33m\u001b[0m\u001b[0m\n\u001b[0m",
      "\u001b[1;32m<ipython-input-6-280a14833dcd>\u001b[0m in \u001b[0;36mslurp\u001b[1;34m(path)\u001b[0m\n\u001b[0;32m      1\u001b[0m \u001b[1;32mdef\u001b[0m \u001b[0mslurp\u001b[0m\u001b[1;33m(\u001b[0m\u001b[0mpath\u001b[0m\u001b[1;33m)\u001b[0m\u001b[1;33m:\u001b[0m\u001b[1;33m\u001b[0m\u001b[0m\n\u001b[1;32m----> 2\u001b[1;33m     \u001b[1;32mwith\u001b[0m \u001b[0mopen\u001b[0m\u001b[1;33m(\u001b[0m\u001b[0mpath\u001b[0m\u001b[1;33m,\u001b[0m \u001b[1;34m'r'\u001b[0m\u001b[1;33m,\u001b[0m \u001b[0mencoding\u001b[0m \u001b[1;33m=\u001b[0m \u001b[1;34m'utf-8'\u001b[0m\u001b[1;33m)\u001b[0m \u001b[1;32mas\u001b[0m \u001b[0mfile_object\u001b[0m\u001b[1;33m:\u001b[0m\u001b[1;33m\u001b[0m\u001b[0m\n\u001b[0m\u001b[0;32m      3\u001b[0m         \u001b[1;32mreturn\u001b[0m \u001b[0mfile_object\u001b[0m\u001b[1;33m.\u001b[0m\u001b[0mread\u001b[0m\u001b[1;33m(\u001b[0m\u001b[1;33m)\u001b[0m\u001b[1;33m\u001b[0m\u001b[0m\n",
      "\u001b[1;31mFileNotFoundError\u001b[0m: [Errno 2] No such file or directory: '/home/nst/mount/data/share/yd/comp_ling/spell-check/dict.opcorpora.txt'"
     ]
    }
   ],
   "source": [
    "rucorpora_dict = slurp('/home/nst/mount/data/share/yd/comp_ling/spell-check/dict.opcorpora.txt')"
   ]
  },
  {
   "cell_type": "code",
   "execution_count": 8,
   "metadata": {
    "collapsed": true
   },
   "outputs": [],
   "source": [
    "rucorpora_dict = slurp('C:/Users/Анна/YandexDisk/spell-check/dict.opcorpora.txt')"
   ]
  },
  {
   "cell_type": "code",
   "execution_count": 9,
   "metadata": {
    "collapsed": true
   },
   "outputs": [],
   "source": [
    "rucorpora_dict = re.findall(r'[А-ЯЁ]+', rucorpora_dict)\n",
    "rucorpora_dict = ' '.join(rucorpora_dict)\n",
    "rucorpora_dict = rucorpora_dict.lower()\n",
    "#rucorpora_dict = rucorpora_dict.split()"
   ]
  },
  {
   "cell_type": "code",
   "execution_count": 10,
   "metadata": {},
   "outputs": [
    {
     "data": {
      "text/plain": [
       "'ёж ежа ежу ежа ежом '"
      ]
     },
     "execution_count": 10,
     "metadata": {},
     "output_type": "execute_result"
    }
   ],
   "source": [
    "rucorpora_dict[:20]"
   ]
  },
  {
   "cell_type": "markdown",
   "metadata": {},
   "source": [
    "## Строим символьные триграммы по тексту ##\n",
    "Сначала мы хотели использовать триграмный фильтр для нахождения ошибок в тексте на основе редких триграм, но это оказалось не очень хорошей идеей, потому что было не очень ясно, какой порог встречаемости должен быть, чтобы отсекать редкие. В общем, модель плохо работала и пропускала много ошибок, мы решили от нее отказаться."
   ]
  },
  {
   "cell_type": "code",
   "execution_count": 55,
   "metadata": {
    "collapsed": true
   },
   "outputs": [],
   "source": [
    "def get_trigrams(text): #строим триграммы по тексту\n",
    "    trigrams_list = []\n",
    "    for word in text.split():\n",
    "        trigram = [''.join(char) for char in list(trigrams(word))]\n",
    "        if trigram:\n",
    "            trigrams_list.append(' '.join(trigram))\n",
    "        else:\n",
    "            trigrams_list.append(word)   \n",
    "\n",
    "    return trigrams_list"
   ]
  },
  {
   "cell_type": "code",
   "execution_count": 56,
   "metadata": {},
   "outputs": [
    {
     "name": "stdout",
     "output_type": "stream",
     "text": [
      "тоесть если дамой то только в том случае если потеряю работу в сентябре\n",
      "['тое оес ест сть', 'есл сли', 'дам амо мой', 'то', 'тол оль льк ько', 'в', 'том', 'слу луч уча чае', 'есл сли', 'пот оте тер еря ряю', 'раб або бот оту', 'в', 'сен ент нтя тяб ябр бре']\n",
      "['тое', 'оес', 'ест', 'сть', 'есл', 'сли', 'дам', 'амо', 'мой', 'то', 'тол', 'оль', 'льк', 'ько', 'в', 'том', 'слу', 'луч', 'уча', 'чае', 'есл', 'сли', 'пот', 'оте', 'тер', 'еря', 'ряю', 'раб', 'або', 'бот', 'оту', 'в', 'сен', 'ент', 'нтя', 'тяб', 'ябр', 'бре']\n"
     ]
    }
   ],
   "source": [
    "print(train_df.wrong[0])\n",
    "print(get_trigrams(train_df.wrong[0]))\n",
    "print(' '.join(get_trigrams(train_df.wrong[0])).split())"
   ]
  },
  {
   "cell_type": "markdown",
   "metadata": {},
   "source": [
    "##  Вероятности символьных триграмм в корпусе"
   ]
  },
  {
   "cell_type": "code",
   "execution_count": 57,
   "metadata": {
    "collapsed": true
   },
   "outputs": [],
   "source": [
    "def count_trigrams(corpus): #получаем вероятности триграмм в корпусе\n",
    "    corpus_trigrams = []\n",
    "    for text in corpus:\n",
    "        tr = ' '.join(get_trigrams(text))\n",
    "        corpus_trigrams.extend(tr.split())\n",
    "    counts = dict(Counter(corpus_trigrams))\n",
    "    for key, value in counts.items():\n",
    "        counts[key] = value/len(corpus_trigrams)\n",
    "    print(len(corpus_trigrams))    \n",
    "    return counts"
   ]
  },
  {
   "cell_type": "markdown",
   "metadata": {},
   "source": [
    "### Trigram wiki model"
   ]
  },
  {
   "cell_type": "code",
   "execution_count": 58,
   "metadata": {},
   "outputs": [
    {
     "name": "stdout",
     "output_type": "stream",
     "text": [
      "8297222\n",
      "CPU times: user 17.1 s, sys: 472 ms, total: 17.5 s\n",
      "Wall time: 17.8 s\n"
     ]
    }
   ],
   "source": [
    "%%time\n",
    "trigram_wiki_model = count_trigrams(train_wiki.wiki_texts)\n",
    "#обучили 3-граммную модель на корпусе для получения вероятностей 3-грамм\n",
    "#выводится общее число триграм в корпусе (c повторениями)"
   ]
  },
  {
   "cell_type": "code",
   "execution_count": 59,
   "metadata": {},
   "outputs": [
    {
     "data": {
      "text/plain": [
       "0.0001628255818634237"
      ]
     },
     "execution_count": 59,
     "metadata": {},
     "output_type": "execute_result"
    }
   ],
   "source": [
    "trigram_wiki_model.get('есл') #вероятность 3-граммы \"есл\""
   ]
  },
  {
   "cell_type": "code",
   "execution_count": 60,
   "metadata": {
    "collapsed": true
   },
   "outputs": [],
   "source": [
    "trigram_wiki_model.get('зрх') #такой 3-граммы нет, модель не возвращает ничего"
   ]
  },
  {
   "cell_type": "code",
   "execution_count": 34,
   "metadata": {},
   "outputs": [
    {
     "data": {
      "text/plain": [
       "13679"
      ]
     },
     "execution_count": 34,
     "metadata": {},
     "output_type": "execute_result"
    }
   ],
   "source": [
    "len(trigram_wiki_model)"
   ]
  },
  {
   "cell_type": "code",
   "execution_count": 35,
   "metadata": {},
   "outputs": [
    {
     "data": {
      "text/plain": [
       "1.2052226636818925e-06"
      ]
     },
     "execution_count": 35,
     "metadata": {},
     "output_type": "execute_result"
    }
   ],
   "source": [
    "10/8297222 #какой порог взять для проверки слова по словарю?"
   ]
  },
  {
   "cell_type": "markdown",
   "metadata": {},
   "source": [
    "### Поиск ошибок в текстах \n",
    "На основе триграмного фильтра работал плохо. "
   ]
  },
  {
   "cell_type": "code",
   "execution_count": 36,
   "metadata": {
    "collapsed": true
   },
   "outputs": [],
   "source": [
    "def search_errors(text): #поиск ошибок в тексте\n",
    "    errors = []\n",
    "    trigram_list = get_trigrams(text) #список строк, каждая строка - триграммы для одного слова\n",
    "    #print(trigram_list)\n",
    "    for i, trigrams_string in enumerate(trigram_list):\n",
    "        for trigram in trigrams_string.split():\n",
    "            #print(trigram_model.get(tr))\n",
    "            if not(trigram_wiki_model.get(trigram)) or (trigram_wiki_model.get(trigram) < (10/8297222)):\n",
    "                #print(trigram)\n",
    "                #print(text.split()[i])\n",
    "                #if morph.parse(text.split()[i])[0].normal_form not in rucorpora_dict:\n",
    "                if text.split()[i] not in rucorpora_dict:\n",
    "                    errors.append(text.split()[i])\n",
    "    return list(set(errors))"
   ]
  },
  {
   "cell_type": "code",
   "execution_count": 37,
   "metadata": {},
   "outputs": [
    {
     "data": {
      "text/plain": [
       "['самыи', 'своеи']"
      ]
     },
     "execution_count": 37,
     "metadata": {},
     "output_type": "execute_result"
    }
   ],
   "source": [
    "search_errors(train_df.wrong[10])"
   ]
  },
  {
   "cell_type": "code",
   "execution_count": 38,
   "metadata": {},
   "outputs": [
    {
     "name": "stderr",
     "output_type": "stream",
     "text": [
      "100%|██████████| 3000/3000 [00:50<00:00, 59.60it/s]\n"
     ]
    }
   ],
   "source": [
    "wiki_errors = []\n",
    "for text in tqdm(train_df.wrong):\n",
    "    wiki_errors.extend(search_errors(text))"
   ]
  },
  {
   "cell_type": "code",
   "execution_count": 39,
   "metadata": {},
   "outputs": [
    {
     "data": {
      "text/plain": [
       "556"
      ]
     },
     "execution_count": 39,
     "metadata": {},
     "output_type": "execute_result"
    }
   ],
   "source": [
    "len(wiki_errors)"
   ]
  },
  {
   "cell_type": "code",
   "execution_count": 40,
   "metadata": {},
   "outputs": [
    {
     "name": "stdout",
     "output_type": "stream",
     "text": [
      "['такойже', 'недюженные', 'пейзажы', 'самыи', 'своеи', 'щастье', 'никоглда', 'отличаються', 'расжился', 'подощрительно', 'преподше', 'замерзнуть', 'можнго', 'првязанность', 'любю', 'дабаа', 'йпри', 'поведйте', 'воопще', 'нмного', 'черезчур', 'неопределнное', 'обчным', 'всмысле', 'отношуся', 'мущщину', 'мачовсе', 'божеупаси', 'вопщем', 'болезньматки', 'ндфл', 'теща', 'лучшым', 'кагбэ', 'рыпки', 'каааак', 'тогдя', 'совршенно', 'нащщот', 'дефачка', 'оооочень', 'оплаьа', 'мужык', 'кефирчиком', 'обяснил', 'проблемнная', 'внутрениий', 'элкетроинструменты', 'всеже', 'хочеца', 'блетчли', 'такскаать', 'воопщим', 'разделеннный', 'расщифровать', 'прощаите', 'реклма', 'очеь', 'ооочень', 'хваостаюсь', 'маленбких', 'саиые', 'дежурцве', 'хотябы', 'наконецто', 'каааак', 'оооочень', 'щастье', 'собссно', 'продкты', 'удеается', 'бплгодаря', 'сногсшибальной', 'блекнет', 'посдравляю', 'ооочень', 'сеъли', 'подргрузился', 'всвязи', 'прошедшых', 'всмысле', 'вооот', 'обязаательно', 'погкуляем', 'удалитъ', 'моральноустаревшегооо', 'наконецто', 'кацман', 'прыжочки', 'обдумывю', 'скейтпарка', 'врядли', 'смшные', 'мягше', 'обяснить', 'проиошли', 'всвязи', 'прдолжение', 'пыраюсь', 'всвязи']\n"
     ]
    }
   ],
   "source": [
    "print(wiki_errors[:100])"
   ]
  },
  {
   "cell_type": "markdown",
   "metadata": {},
   "source": [
    "## Генерация кандидатов\n",
    "\n",
    "Генерируем кандидатов находящихся на расстоянии одной операции друг от друга, а затем отсекаем лишних при помощи быстрого поиска по словарю."
   ]
  },
  {
   "cell_type": "markdown",
   "metadata": {},
   "source": [
    "### Быстрый поиск"
   ]
  },
  {
   "cell_type": "code",
   "execution_count": 11,
   "metadata": {
    "collapsed": true
   },
   "outputs": [],
   "source": [
    "from flashtext import KeywordProcessor\n",
    "keyword_processor = KeywordProcessor()\n",
    "keyword_processor.add_keywords_from_list(rucorpora_dict.split())"
   ]
  },
  {
   "cell_type": "code",
   "execution_count": 12,
   "metadata": {
    "collapsed": true
   },
   "outputs": [],
   "source": [
    "def get_all_candidates(word):\n",
    "    letters = 'абвгдеёжзийклмнопрстуфхцчшщъыьэюя'\n",
    "    cursor = [(word[:i], word[i:]) for i in range(len(word) + 1)]\n",
    "    delete = [L + R[1:] for (L,R) in cursor if R]\n",
    "    insert = [L + l + R for l in letters for (L,R) in cursor]\n",
    "    replace = [L + l + R[1:] for l in letters for (L,R) in cursor if R]\n",
    "    transpose = [L + R[1] + R[0] + R[2:] for (L,R) in cursor if len(R)>1]\n",
    "    return set(delete + insert + replace + transpose)"
   ]
  },
  {
   "cell_type": "code",
   "execution_count": 13,
   "metadata": {
    "collapsed": true
   },
   "outputs": [],
   "source": [
    "def kill_candidates(error_word):\n",
    "    candidates = []\n",
    "    for word in get_all_candidates(error_word):\n",
    "        if keyword_processor.extract_keywords(word) == [word]:\n",
    "            candidates.append(word)\n",
    "    return candidates"
   ]
  },
  {
   "cell_type": "code",
   "execution_count": 14,
   "metadata": {},
   "outputs": [
    {
     "name": "stdout",
     "output_type": "stream",
     "text": [
      "495\n"
     ]
    }
   ],
   "source": [
    "print(len(get_all_candidates('пейзажы')))"
   ]
  },
  {
   "cell_type": "code",
   "execution_count": 15,
   "metadata": {},
   "outputs": [
    {
     "name": "stdout",
     "output_type": "stream",
     "text": [
      "['пейзажны', 'пейзажа', 'пейзаж', 'пейзажи', 'пейзаже', 'пейзажу', 'пейзаны']\n",
      "Wall time: 33 ms\n"
     ]
    }
   ],
   "source": [
    "%%time\n",
    "print(kill_candidates('пейзажы'))"
   ]
  },
  {
   "cell_type": "markdown",
   "metadata": {},
   "source": [
    "## Вероятности на словарных биграммах nltk"
   ]
  },
  {
   "cell_type": "code",
   "execution_count": 16,
   "metadata": {
    "collapsed": true
   },
   "outputs": [],
   "source": [
    "import nltk"
   ]
  },
  {
   "cell_type": "markdown",
   "metadata": {},
   "source": [
    "Для подсчета вероятностей и составления частотного словаря составляем список токенов по корпусу."
   ]
  },
  {
   "cell_type": "code",
   "execution_count": 17,
   "metadata": {},
   "outputs": [
    {
     "name": "stdout",
     "output_type": "stream",
     "text": [
      "['марса', 'он', 'был', 'открыт', 'декабря', 'года', 'американским', 'астрономом', 'любителем', 'чарльзом']\n"
     ]
    }
   ],
   "source": [
    "wiki_texts = train_wiki.wiki_texts\n",
    "wiki_tokens = [word for text in wiki_texts for word in text.split()]\n",
    "print(wiki_tokens[10:20])"
   ]
  },
  {
   "cell_type": "markdown",
   "metadata": {},
   "source": [
    "Получаем частотный словарь."
   ]
  },
  {
   "cell_type": "code",
   "execution_count": 19,
   "metadata": {
    "collapsed": true
   },
   "outputs": [],
   "source": [
    "wiki_freq = nltk.FreqDist(wiki_tokens)"
   ]
  },
  {
   "cell_type": "markdown",
   "metadata": {},
   "source": [
    "И словарь условных частот, который представляет собой словарь словарей для каждого взятого слова с указанием частоты совместной встречаемости."
   ]
  },
  {
   "cell_type": "code",
   "execution_count": 20,
   "metadata": {
    "collapsed": true
   },
   "outputs": [],
   "source": [
    "wiki_cfreq = nltk.ConditionalFreqDist(nltk.bigrams(wiki_tokens))"
   ]
  },
  {
   "cell_type": "markdown",
   "metadata": {},
   "source": [
    "Получаем словарь условных вероятностей на основе вики-корпуса при помощи которого мы будем определять вероятность кандидатов в правом и левом контексте и таким образом выбирать лучшего из списка."
   ]
  },
  {
   "cell_type": "code",
   "execution_count": 21,
   "metadata": {
    "scrolled": true
   },
   "outputs": [
    {
     "name": "stdout",
     "output_type": "stream",
     "text": [
      "p(русский язык) = 0.1279\n",
      "p(в доме) = 0.0011\n",
      "p(солнечной системе) = 0.2558\n"
     ]
    }
   ],
   "source": [
    "cprob = nltk.ConditionalProbDist(wiki_cfreq, nltk.MLEProbDist)\n",
    "print('p(русский язык) = %1.4f' %cprob['русский'].prob('язык'))\n",
    "print('p(в доме) = %1.4f' %cprob['в'].prob('доме'))\n",
    "print('p(солнечной системе) = %1.4f' %cprob['солнечной'].prob('системе'))"
   ]
  },
  {
   "cell_type": "markdown",
   "metadata": {},
   "source": [
    "Пишем функцию выбора лучшего кандидата."
   ]
  },
  {
   "cell_type": "code",
   "execution_count": 22,
   "metadata": {
    "collapsed": true
   },
   "outputs": [],
   "source": [
    "def select_best_candidate(candidates, left_context, right_context):\n",
    "    s = sum(dict(wiki_freq).values())    \n",
    "#считаем условные вероятности в контексте\n",
    "    if left_context: #если есть слово слева от ошибочного\n",
    "        if right_context: #если есть слово справа\n",
    "            cand_prob = [(cand, cprob[left_context].prob(cand) * \n",
    "                        cprob[cand].prob(right_context)) \n",
    "                         for cand in candidates]\n",
    "        else:\n",
    "            cand_prob = [(cand, cprob[left_context].prob(cand))\n",
    "                         for cand in candidates]\n",
    "            \n",
    "    else:\n",
    "        cand_prob = [(cand, cprob[cand].prob(right_context)) for cand in candidates]\n",
    "#сортируем кандидатов по вероятности    \n",
    "    cand_rate = sorted(cand_prob, key = lambda column:column[1], reverse = True) \n",
    "    if not(cand_rate[0][1]):\n",
    "        cand_aprior = [(cand, dict(wiki_freq).get(cand)/s) \n",
    "                       if dict(wiki_freq).get(cand) else (cand, 0) \n",
    "                       for cand in candidates]\n",
    "        cand_rate = sorted(cand_aprior, key = lambda column:column[1], reverse = True)\n",
    "        \n",
    "    return cand_rate[0][0], cand_rate[0][1]"
   ]
  },
  {
   "cell_type": "code",
   "execution_count": 50,
   "metadata": {},
   "outputs": [
    {
     "data": {
      "text/plain": [
       "('пейзажи', 6.612932912897754e-06)"
      ]
     },
     "execution_count": 50,
     "metadata": {},
     "output_type": "execute_result"
    }
   ],
   "source": [
    "select_best_candidate(['пейзаж', 'пейзажа', 'пейзажны', 'пейзаны', 'пейзаже', 'пейзажу', 'пейзажи'], '', 'за')"
   ]
  },
  {
   "cell_type": "markdown",
   "metadata": {},
   "source": [
    "## Собираем спел-чекер"
   ]
  },
  {
   "cell_type": "markdown",
   "metadata": {},
   "source": [
    "1. Поиск ошибок в тексте\n",
    "2. Генерация кандидатов\n",
    "3. Убийство кандидатов: если список слов оказывается пустым после проверки по словарю, возвращаем искомое слово (на случай, если его вдруг не оказалось в нашем словаре)\n",
    "4. Считаем вероятность кандидата в контексте. Вставляем в текст кандидата с наибольшей вероятностью.\n",
    "5. Возвращаем новый исправленный текст."
   ]
  },
  {
   "cell_type": "code",
   "execution_count": 53,
   "metadata": {
    "collapsed": true
   },
   "outputs": [],
   "source": [
    "def spell_check(text):\n",
    "    left_context = ''\n",
    "    right_context = ''\n",
    "    text_correct = ''\n",
    "    probability = 0\n",
    "    #поиск ошибок\n",
    "    trigram_list = get_trigrams(text) #список строк, каждая строка - триграммы для одного слова\n",
    "    for i, trigrams_string in enumerate(trigram_list):\n",
    "        word = text.split()[i]\n",
    "        for trigram in trigrams_string.split():\n",
    "            if not(trigram_wiki_model.get(trigram)) or \\\n",
    "            (trigram_wiki_model.get(trigram) < (10/8297222)):\n",
    "                if ' ' + word + ' ' not in rucorpora_dict:\n",
    "                    #print(word)\n",
    "                    \n",
    "                    #генерируем кандидатов + убираем невозможные по 3-грамной модели, оставшиеся проверяем по словарю\n",
    "                    candidates = kill_candidates(word)\n",
    "                    \n",
    "                    #print(candidates)\n",
    "                    if (candidates): #если множество оставшихся кандидатов не пустое\n",
    "                        if(i > 0): #если слово не первое в тексте, находим левый контекст\n",
    "                            left_context = text.split()[i-1]\n",
    "                        if i + 1 < len(text.split()): # если слово не последнее в тексте\n",
    "                            right_context = text.split()[i+1]\n",
    "                        #определяем наиболее вероятного\n",
    "                        cand , probability = select_best_candidate(candidates, left_context, right_context)\n",
    "                        #print('Prob:', probability)\n",
    "                        if probability == 0:\n",
    "                            word = select_with_whitespace(cand)\n",
    "                        else:\n",
    "                            word = cand\n",
    "        text_correct += ' ' + word\n",
    "    return text_correct.strip()\n",
    "                "
   ]
  },
  {
   "cell_type": "code",
   "execution_count": 62,
   "metadata": {},
   "outputs": [
    {
     "name": "stdout",
     "output_type": "stream",
     "text": [
      "CPU times: user 560 ms, sys: 0 ns, total: 560 ms\n",
      "Wall time: 609 ms\n"
     ]
    },
    {
     "data": {
      "text/plain": [
       "'какието пейзажи за окном незнакомые'"
      ]
     },
     "execution_count": 62,
     "metadata": {},
     "output_type": "execute_result"
    }
   ],
   "source": [
    "%%time\n",
    "spell_check('какието пейзажы за окном незнакомые')"
   ]
  },
  {
   "cell_type": "code",
   "execution_count": 68,
   "metadata": {},
   "outputs": [
    {
     "data": {
      "text/plain": [
       "0     тоесть если дамой то только в том случае если ...\n",
       "1     но если у меня характер будет такойже как хотя...\n",
       "2     делать осьминогов из одуванчиков и куколок из ...\n",
       "3     вальс в па внимание будет под другую музыку с ...\n",
       "4     зима подходит к завершению а мне только сейчас...\n",
       "5     ей в общем то все равно было на кого учиться л...\n",
       "6     я пью кофе не ради проснуться а ради процесса ...\n",
       "7     делая недюженные усилия над собой я таки выкар...\n",
       "8     ударение в фамилие уже наверно плавно переехал...\n",
       "9                  пейзажы за окном какие то незнакомые\n",
       "10    самыи прикол в том что делая дела в своеи жизн...\n",
       "11    все ничего но главная фишка этой игры как было...\n",
       "12    тогдасоответственно говорят о язычной гортанно...\n",
       "13     интересно как там работа объективов регулируется\n",
       "14    да там их мало конешно и я бил силно пян и всп...\n",
       "Name: wrong, dtype: object"
      ]
     },
     "execution_count": 68,
     "metadata": {},
     "output_type": "execute_result"
    }
   ],
   "source": [
    "train_df.wrong[:15]"
   ]
  },
  {
   "cell_type": "markdown",
   "metadata": {},
   "source": [
    "Сначала мы попробовали собрать спел-чекер с испольpованием модели символьных триграм. \n",
    "В первых 15 предложениях исправились 2 ошибки:\n",
    "недюжинные, пейзажи.\n",
    "\n",
    "Остальные ошибки:\n",
    "тоесть, такойже, тогдасоответственно, какието  -- не могли исправить\n",
    "милион, фамилие, конешно даже не нашли. "
   ]
  },
  {
   "cell_type": "markdown",
   "metadata": {
    "collapsed": true
   },
   "source": [
    "## Алгоритм без триграм\n",
    "\n",
    "Проанализировав ошибки, мы решили собрать спел-чекер без триграмной модели, а также добавить генерацию кандидатов с пробелами, потому что раньше слова \"такойже\", \"тоесть\" никак не исправлялись."
   ]
  },
  {
   "cell_type": "code",
   "execution_count": 23,
   "metadata": {
    "collapsed": true
   },
   "outputs": [],
   "source": [
    "def insert_whitespace(word):\n",
    "    space = ' '\n",
    "    cursor = [(word[:i], word[i:]) for i in range(len(word) + 1)]\n",
    "    insert = [L + l + R for l in space for (L,R) in cursor]\n",
    "    return insert"
   ]
  },
  {
   "cell_type": "code",
   "execution_count": 24,
   "metadata": {
    "collapsed": true
   },
   "outputs": [],
   "source": [
    "def aprior_probability(word):\n",
    "    word_aprior = 0\n",
    "    s = sum(dict(wiki_freq).values())\n",
    "    if dict(wiki_freq).get(word):\n",
    "        word_aprior = dict(wiki_freq).get(word)/s\n",
    "    else:\n",
    "        word_aprior = 0\n",
    "    return word_aprior"
   ]
  },
  {
   "cell_type": "code",
   "execution_count": 25,
   "metadata": {
    "collapsed": true
   },
   "outputs": [],
   "source": [
    "def select_with_whitespace(word):\n",
    "    candidates = insert_whitespace(word)\n",
    "    words = []\n",
    "    probs = []\n",
    "    for cand in candidates:\n",
    "        cand = cand.split()\n",
    "        if len(cand) == 2:\n",
    "            probability = aprior_probability(cand[0])*aprior_probability(cand[1])\n",
    "            words.append(' '.join(cand))\n",
    "            probs.append(probability)\n",
    "    cands = list(reversed(sorted(zip(words, probs), key=lambda x: x[1])))\n",
    "   \n",
    "    return cands[0]"
   ]
  },
  {
   "cell_type": "code",
   "execution_count": 26,
   "metadata": {},
   "outputs": [
    {
     "name": "stdout",
     "output_type": "stream",
     "text": [
      "какие то 2.3022487100499806e-08\n"
     ]
    }
   ],
   "source": [
    "cand, prob = select_with_whitespace('какието')\n",
    "print(cand, prob)"
   ]
  },
  {
   "cell_type": "code",
   "execution_count": 27,
   "metadata": {
    "collapsed": true
   },
   "outputs": [],
   "source": [
    "def spell_check_fast_dict(text):\n",
    "    left_context = ''\n",
    "    right_context = ''\n",
    "    text_correct = ''\n",
    "    #probability_1 = 0\n",
    "    #probability_2 = 0\n",
    "    #cand_1 = ''\n",
    "    \n",
    "    #поиск ошибок\n",
    "    text_list = text.split()\n",
    "    for index, word in enumerate(text_list):\n",
    "        if not keyword_processor.extract_keywords(word) == [word]:\n",
    "            if not(aprior_probability(word)):\n",
    "                cand_2, probability_2 = select_with_whitespace(word) #выбираем лучшего кандидата с пробелами\n",
    "\n",
    "                candidates = kill_candidates(word) #генерируем кандидатов по edit distance + проверка по словарю               \n",
    "                #print(candidates)\n",
    "                if (candidates): #если множество оставшихся кандидатов не пустое\n",
    "                    if(index > 0): #если слово не первое в тексте, находим левый контекст\n",
    "                        left_context = text_list[index-1]\n",
    "                    if index + 1 < len(text_list): # если слово не последнее в тексте\n",
    "                        right_context = text_list[index+1]\n",
    "                    cand_1, probability_1 = select_best_candidate(candidates, left_context, right_context)\n",
    "\n",
    "                    if probability_2 > probability_1:\n",
    "                        word = cand_2\n",
    "                    else:\n",
    "                        word = cand_1\n",
    "\n",
    "                else:\n",
    "                    if probability_2:\n",
    "                        word = cand_2\n",
    "                                \n",
    "        text_correct += ' ' + word\n",
    "    return text_correct.strip()\n",
    "                "
   ]
  },
  {
   "cell_type": "code",
   "execution_count": 74,
   "metadata": {},
   "outputs": [
    {
     "name": "stdout",
     "output_type": "stream",
     "text": [
      "['тоесть если дамой то только в том случае если потеряю работу в сентябре'\n",
      " 'но если у меня характер будет такойже как хотя бы у одного из них я продам свою почку а на все вырученные деньги накуплю герлянд']\n"
     ]
    }
   ],
   "source": [
    "print(train_df.wrong.values[:2])"
   ]
  },
  {
   "cell_type": "code",
   "execution_count": 81,
   "metadata": {},
   "outputs": [
    {
     "name": "stdout",
     "output_type": "stream",
     "text": [
      "CPU times: user 2.68 s, sys: 4 ms, total: 2.68 s\n",
      "Wall time: 2.79 s\n"
     ]
    },
    {
     "data": {
      "text/plain": [
       "'гирлянд много не бывает такой же'"
      ]
     },
     "execution_count": 81,
     "metadata": {},
     "output_type": "execute_result"
    }
   ],
   "source": [
    "%%time\n",
    "spell_check_fast_dict('герлянд много не бывает такойже')"
   ]
  },
  {
   "cell_type": "code",
   "execution_count": 77,
   "metadata": {},
   "outputs": [
    {
     "name": "stdout",
     "output_type": "stream",
     "text": [
      "я пью кофе не ради проснуться а ради процесса сделать себе вкусный напиток в красивую чашку положить серебрянной ложкой сахар добавить горячего молока чтоб кофе оставался еще дольше горячим и дымчатым и наслаждаться кайфовать медитировать в течении хотя бы нескольких минут в день\n"
     ]
    }
   ],
   "source": [
    "print(train_df.wrong[6])"
   ]
  },
  {
   "cell_type": "code",
   "execution_count": 83,
   "metadata": {},
   "outputs": [
    {
     "name": "stdout",
     "output_type": "stream",
     "text": [
      "CPU times: user 1.4 s, sys: 8 ms, total: 1.41 s\n",
      "Wall time: 1.51 s\n"
     ]
    },
    {
     "data": {
      "text/plain": [
       "'тесть если дамой то только в том случае если потеряю работу в сентябре'"
      ]
     },
     "execution_count": 83,
     "metadata": {},
     "output_type": "execute_result"
    }
   ],
   "source": [
    "%%time\n",
    "spell_check_fast_dict(train_df.wrong[0])"
   ]
  },
  {
   "cell_type": "code",
   "execution_count": 79,
   "metadata": {
    "collapsed": true
   },
   "outputs": [],
   "source": [
    "x = train_df.wrong[:500]"
   ]
  },
  {
   "cell_type": "code",
   "execution_count": null,
   "metadata": {
    "collapsed": true
   },
   "outputs": [],
   "source": [
    "%%time\n",
    "corrected = [spell_check_fast_dict(text) for text in tqdm(x)]"
   ]
  },
  {
   "cell_type": "code",
   "execution_count": 154,
   "metadata": {},
   "outputs": [
    {
     "name": "stderr",
     "output_type": "stream",
     "text": [
      "/home/nst/anaconda3/lib/python3.6/site-packages/ipykernel_launcher.py:2: SettingWithCopyWarning: \n",
      "A value is trying to be set on a copy of a slice from a DataFrame.\n",
      "Try using .loc[row_indexer,col_indexer] = value instead\n",
      "\n",
      "See the caveats in the documentation: http://pandas.pydata.org/pandas-docs/stable/indexing.html#indexing-view-versus-copy\n",
      "  \n"
     ]
    }
   ],
   "source": [
    "train_small = train_df[:500]\n",
    "train_small['corrected'] = corrected"
   ]
  },
  {
   "cell_type": "code",
   "execution_count": 156,
   "metadata": {},
   "outputs": [
    {
     "data": {
      "text/html": [
       "<div>\n",
       "<style>\n",
       "    .dataframe thead tr:only-child th {\n",
       "        text-align: right;\n",
       "    }\n",
       "\n",
       "    .dataframe thead th {\n",
       "        text-align: left;\n",
       "    }\n",
       "\n",
       "    .dataframe tbody tr th {\n",
       "        vertical-align: top;\n",
       "    }\n",
       "</style>\n",
       "<table border=\"1\" class=\"dataframe\">\n",
       "  <thead>\n",
       "    <tr style=\"text-align: right;\">\n",
       "      <th></th>\n",
       "      <th>wrong</th>\n",
       "      <th>right</th>\n",
       "      <th>corrected</th>\n",
       "    </tr>\n",
       "  </thead>\n",
       "  <tbody>\n",
       "    <tr>\n",
       "      <th>0</th>\n",
       "      <td>тоесть если дамой то только в том случае если ...</td>\n",
       "      <td>то есть если домой то только в том случае если...</td>\n",
       "      <td>тесть если дамой то только в том случае если п...</td>\n",
       "    </tr>\n",
       "    <tr>\n",
       "      <th>1</th>\n",
       "      <td>но если у меня характер будет такойже как хотя...</td>\n",
       "      <td>но если у меня характер будет такой же как хот...</td>\n",
       "      <td>но если у меня характер будет такой же как хот...</td>\n",
       "    </tr>\n",
       "    <tr>\n",
       "      <th>2</th>\n",
       "      <td>делать осьминогов из одуванчиков и куколок из ...</td>\n",
       "      <td>делать осьминогов из одуванчиков и куколок из ...</td>\n",
       "      <td>делать осьминогов из одуванчиков и куколок из ...</td>\n",
       "    </tr>\n",
       "    <tr>\n",
       "      <th>3</th>\n",
       "      <td>вальс в па внимание будет под другую музыку с ...</td>\n",
       "      <td>вальс в па внимание будет под другую музыку с ...</td>\n",
       "      <td>вальс в па внимание будет под другую музыку с ...</td>\n",
       "    </tr>\n",
       "    <tr>\n",
       "      <th>4</th>\n",
       "      <td>зима подходит к завершению а мне только сейчас...</td>\n",
       "      <td>зима подходит к завершению а мне только сейчас...</td>\n",
       "      <td>зима подходит к завершению а мне только сейчас...</td>\n",
       "    </tr>\n",
       "  </tbody>\n",
       "</table>\n",
       "</div>"
      ],
      "text/plain": [
       "                                               wrong  \\\n",
       "0  тоесть если дамой то только в том случае если ...   \n",
       "1  но если у меня характер будет такойже как хотя...   \n",
       "2  делать осьминогов из одуванчиков и куколок из ...   \n",
       "3  вальс в па внимание будет под другую музыку с ...   \n",
       "4  зима подходит к завершению а мне только сейчас...   \n",
       "\n",
       "                                               right  \\\n",
       "0  то есть если домой то только в том случае если...   \n",
       "1  но если у меня характер будет такой же как хот...   \n",
       "2  делать осьминогов из одуванчиков и куколок из ...   \n",
       "3  вальс в па внимание будет под другую музыку с ...   \n",
       "4  зима подходит к завершению а мне только сейчас...   \n",
       "\n",
       "                                           corrected  \n",
       "0  тесть если дамой то только в том случае если п...  \n",
       "1  но если у меня характер будет такой же как хот...  \n",
       "2  делать осьминогов из одуванчиков и куколок из ...  \n",
       "3  вальс в па внимание будет под другую музыку с ...  \n",
       "4  зима подходит к завершению а мне только сейчас...  "
      ]
     },
     "execution_count": 156,
     "metadata": {},
     "output_type": "execute_result"
    }
   ],
   "source": [
    "train_small.head()"
   ]
  },
  {
   "cell_type": "code",
   "execution_count": 160,
   "metadata": {
    "collapsed": true
   },
   "outputs": [],
   "source": [
    "errors = train_small[train_small.right != train_small.corrected]"
   ]
  },
  {
   "cell_type": "code",
   "execution_count": 163,
   "metadata": {
    "scrolled": true
   },
   "outputs": [
    {
     "data": {
      "text/html": [
       "<div>\n",
       "<style>\n",
       "    .dataframe thead tr:only-child th {\n",
       "        text-align: right;\n",
       "    }\n",
       "\n",
       "    .dataframe thead th {\n",
       "        text-align: left;\n",
       "    }\n",
       "\n",
       "    .dataframe tbody tr th {\n",
       "        vertical-align: top;\n",
       "    }\n",
       "</style>\n",
       "<table border=\"1\" class=\"dataframe\">\n",
       "  <thead>\n",
       "    <tr style=\"text-align: right;\">\n",
       "      <th></th>\n",
       "      <th>wrong</th>\n",
       "      <th>right</th>\n",
       "      <th>corrected</th>\n",
       "    </tr>\n",
       "  </thead>\n",
       "  <tbody>\n",
       "    <tr>\n",
       "      <th>0</th>\n",
       "      <td>тоесть если дамой то только в том случае если ...</td>\n",
       "      <td>то есть если домой то только в том случае если...</td>\n",
       "      <td>тесть если дамой то только в том случае если п...</td>\n",
       "    </tr>\n",
       "    <tr>\n",
       "      <th>6</th>\n",
       "      <td>я пью кофе не ради проснуться а ради процесса ...</td>\n",
       "      <td>я пью кофе не ради проснуться а ради процесса ...</td>\n",
       "      <td>я пью кофе не ради проснуться а ради процесса ...</td>\n",
       "    </tr>\n",
       "    <tr>\n",
       "      <th>7</th>\n",
       "      <td>делая недюженные усилия над собой я таки выкар...</td>\n",
       "      <td>делая недюжинные усилия над собой я таки выкар...</td>\n",
       "      <td>делая недюжинные усилия над собой я таки выкар...</td>\n",
       "    </tr>\n",
       "    <tr>\n",
       "      <th>8</th>\n",
       "      <td>ударение в фамилие уже наверно плавно переехал...</td>\n",
       "      <td>ударение в фамилии уже наверно плавно переехал...</td>\n",
       "      <td>ударение в фамилия уже наверно плавно переехал...</td>\n",
       "    </tr>\n",
       "    <tr>\n",
       "      <th>10</th>\n",
       "      <td>самыи прикол в том что делая дела в своеи жизн...</td>\n",
       "      <td>самый прикол в том что делая дела в своей жизн...</td>\n",
       "      <td>самых прикол в том что делая дела в своей жизн...</td>\n",
       "    </tr>\n",
       "    <tr>\n",
       "      <th>14</th>\n",
       "      <td>да там их мало конешно и я бил силно пян и всп...</td>\n",
       "      <td>да там их мало конечно и я был сильно пьян и в...</td>\n",
       "      <td>да там их мало конечно и я бил сильно ян и всп...</td>\n",
       "    </tr>\n",
       "    <tr>\n",
       "      <th>15</th>\n",
       "      <td>на черном фоне белый квадрат а в нем написанно...</td>\n",
       "      <td>на черном фоне белый квадрат а в нем написано ...</td>\n",
       "      <td>на чёрном фоне белый квадрат а в нем написано ...</td>\n",
       "    </tr>\n",
       "    <tr>\n",
       "      <th>18</th>\n",
       "      <td>парочка прошлогодних снимков с правнуком племе...</td>\n",
       "      <td>парочка прошлогодних снимков с правнуком племя...</td>\n",
       "      <td>парочка прошлогодних снимков с правнуком племе...</td>\n",
       "    </tr>\n",
       "    <tr>\n",
       "      <th>19</th>\n",
       "      <td>музончик конечно зачетный и почемуто до боли з...</td>\n",
       "      <td>музончик конечно зачетный и почему то до боли ...</td>\n",
       "      <td>музончик конечно заметный и заметный до боли з...</td>\n",
       "    </tr>\n",
       "    <tr>\n",
       "      <th>20</th>\n",
       "      <td>в связи с заявлениями тимошенко об ухудшении с...</td>\n",
       "      <td>в связи с заявлениями тимошенко об ухудшении с...</td>\n",
       "      <td>в связи с заявлениями тимошенко об ухудшении с...</td>\n",
       "    </tr>\n",
       "    <tr>\n",
       "      <th>22</th>\n",
       "      <td>в каждой стране сво правила конешно и я больше...</td>\n",
       "      <td>в каждой стране свои правила конечно и я больш...</td>\n",
       "      <td>в каждой стране во правила конечно и я больше ...</td>\n",
       "    </tr>\n",
       "    <tr>\n",
       "      <th>24</th>\n",
       "      <td>а цветочек в белом горшке называется женское щ...</td>\n",
       "      <td>а цветочек в белом горшке называется женское с...</td>\n",
       "      <td>а цветочек в белом горшке называется женское щ...</td>\n",
       "    </tr>\n",
       "    <tr>\n",
       "      <th>30</th>\n",
       "      <td>следует отдать должное заказчику очень четко о...</td>\n",
       "      <td>следует отдать должное заказчику очень четко о...</td>\n",
       "      <td>следует отдать должное заказчику очень чётко о...</td>\n",
       "    </tr>\n",
       "    <tr>\n",
       "      <th>31</th>\n",
       "      <td>пролжительность занятий небльшая всего дня</td>\n",
       "      <td>продолжительность занятий небольшая всего дня</td>\n",
       "      <td>пролжительность занятий небольшая всего дня</td>\n",
       "    </tr>\n",
       "    <tr>\n",
       "      <th>32</th>\n",
       "      <td>зарубки на стене методично прибавлялись с кажд...</td>\n",
       "      <td>зарубки на стене методично прибавлялись с кажд...</td>\n",
       "      <td>зарубки на стене методично прибавлялись с кажд...</td>\n",
       "    </tr>\n",
       "    <tr>\n",
       "      <th>34</th>\n",
       "      <td>людей уйма штормило во все стороны собстно тол...</td>\n",
       "      <td>людей уйма штормило во все стороны собственно ...</td>\n",
       "      <td>людей уйма штормило во все стороны собстно тол...</td>\n",
       "    </tr>\n",
       "    <tr>\n",
       "      <th>35</th>\n",
       "      <td>с учетом раненых около тысяч американская арми...</td>\n",
       "      <td>с учетом раненых около тысяч американская арми...</td>\n",
       "      <td>с учётом раненых около тысяч американская арми...</td>\n",
       "    </tr>\n",
       "    <tr>\n",
       "      <th>36</th>\n",
       "      <td>вобщем любую моральную поддержку в виде живой ...</td>\n",
       "      <td>в общем любую моральную поддержку в виде живой...</td>\n",
       "      <td>общем любую моральную поддержку в виде живой д...</td>\n",
       "    </tr>\n",
       "    <tr>\n",
       "      <th>37</th>\n",
       "      <td>с сегодняшнего дня точно могу вам сказать что ...</td>\n",
       "      <td>с сегодняшнего дня точно могу вам сказать что ...</td>\n",
       "      <td>с сегодняшнего дня точно могу вам сказать что ...</td>\n",
       "    </tr>\n",
       "    <tr>\n",
       "      <th>38</th>\n",
       "      <td>лен буду попозже сейцас в душ пойду и зарядку ...</td>\n",
       "      <td>лен буду попозже сейчас в душ пойду и зарядку ...</td>\n",
       "      <td>лен буду попозже сейчас в душ пойду и зарядку ...</td>\n",
       "    </tr>\n",
       "    <tr>\n",
       "      <th>39</th>\n",
       "      <td>его родители довили на него они очень хотели ч...</td>\n",
       "      <td>его родители давили на него они очень хотели ч...</td>\n",
       "      <td>его родители довили на него они очень хотели ч...</td>\n",
       "    </tr>\n",
       "    <tr>\n",
       "      <th>40</th>\n",
       "      <td>ещее один вопрос волнует меня почему в одном и...</td>\n",
       "      <td>еще один вопрос волнует меня почему в одном из...</td>\n",
       "      <td>елее один вопрос волнует меня почему в одном и...</td>\n",
       "    </tr>\n",
       "    <tr>\n",
       "      <th>44</th>\n",
       "      <td>расжился на выходных экземпляром сабжа</td>\n",
       "      <td>разжился на выходных экземпляром сабжа</td>\n",
       "      <td>расшился на выходных экземпляром сабжа</td>\n",
       "    </tr>\n",
       "    <tr>\n",
       "      <th>45</th>\n",
       "      <td>завтра наконец таки я преступлю к прочтению кн...</td>\n",
       "      <td>завтра наконец таки я приступлю к прочтению кн...</td>\n",
       "      <td>завтра наконец таки я преступлю к прочтению кн...</td>\n",
       "    </tr>\n",
       "    <tr>\n",
       "      <th>49</th>\n",
       "      <td>но както все это было подощрительно</td>\n",
       "      <td>но как то все это было подозрительно</td>\n",
       "      <td>но факто все это было подозрительно</td>\n",
       "    </tr>\n",
       "    <tr>\n",
       "      <th>50</th>\n",
       "      <td>масс старт в биатлоне впереди еще например</td>\n",
       "      <td>масс старт в биатлоне впереди еще например</td>\n",
       "      <td>масс старт в биатлоне впереди ещё например</td>\n",
       "    </tr>\n",
       "    <tr>\n",
       "      <th>51</th>\n",
       "      <td>публика была супер точнее ее не было вообщем т...</td>\n",
       "      <td>публика была супер точнее ее не было в общем т...</td>\n",
       "      <td>публика была супер точнее не не было вообще та...</td>\n",
       "    </tr>\n",
       "    <tr>\n",
       "      <th>52</th>\n",
       "      <td>ты начинаешь думать а што неплохо можно и тут ...</td>\n",
       "      <td>ты начинаешь думать а что неплохо можно и тут ...</td>\n",
       "      <td>ты начинаешь думать а што неплохо можно и тут ...</td>\n",
       "    </tr>\n",
       "    <tr>\n",
       "      <th>53</th>\n",
       "      <td>в прошлые выходные я прошел сертификацию на</td>\n",
       "      <td>в прошлые выходные я прошел сертификацию на</td>\n",
       "      <td>в прошлые выходные я прошёл сертификацию на</td>\n",
       "    </tr>\n",
       "    <tr>\n",
       "      <th>54</th>\n",
       "      <td>разьве что вася воронов да пашка пескин знаешь...</td>\n",
       "      <td>разве что вася воронов да пашка пескин знаешь его</td>\n",
       "      <td>разве что вася воронов да пашка пекин знаешь его</td>\n",
       "    </tr>\n",
       "    <tr>\n",
       "      <th>...</th>\n",
       "      <td>...</td>\n",
       "      <td>...</td>\n",
       "      <td>...</td>\n",
       "    </tr>\n",
       "    <tr>\n",
       "      <th>440</th>\n",
       "      <td>я занимаюсь продюсированием музыкальных проект...</td>\n",
       "      <td>я занимаюсь продюсированием музыкальных проект...</td>\n",
       "      <td>я занимаюсь продюсирование м музыкальных проек...</td>\n",
       "    </tr>\n",
       "    <tr>\n",
       "      <th>442</th>\n",
       "      <td>прихали в сяньян где и узнали что из этого гор...</td>\n",
       "      <td>приехали в сяньян где и узнали что из этого го...</td>\n",
       "      <td>приехали в приехали где и узнали что из этого ...</td>\n",
       "    </tr>\n",
       "    <tr>\n",
       "      <th>445</th>\n",
       "      <td>если есть хоть одна возможность зделать нитак ...</td>\n",
       "      <td>если есть хоть одна возможность сделать не так...</td>\n",
       "      <td>если есть хоть одна возможность сделать никак ...</td>\n",
       "    </tr>\n",
       "    <tr>\n",
       "      <th>447</th>\n",
       "      <td>и я весь день куда нибудь да ходила то с ясей ...</td>\n",
       "      <td>и я весь день куда нибудь да ходила то с ясей ...</td>\n",
       "      <td>и я весь день куда нибудь да ходила то с ясей ...</td>\n",
       "    </tr>\n",
       "    <tr>\n",
       "      <th>449</th>\n",
       "      <td>а утром шла в универ мимо главного всегда закр...</td>\n",
       "      <td>а утром шла в универ мимо главного всегда закр...</td>\n",
       "      <td>а утром шла в унив ер мимо главного всегда зак...</td>\n",
       "    </tr>\n",
       "    <tr>\n",
       "      <th>450</th>\n",
       "      <td>насчет книги я ее не видел и уж темболее не читал</td>\n",
       "      <td>насчет книги я ее не видел и уж тем более не ч...</td>\n",
       "      <td>насчёт книги я же не видел и уж же не читал</td>\n",
       "    </tr>\n",
       "    <tr>\n",
       "      <th>453</th>\n",
       "      <td>а посмотреть там можно на дом в водосточных тр...</td>\n",
       "      <td>а посмотреть там можно на дом в водосточных тр...</td>\n",
       "      <td>а посмотреть там можно на дом в водосточных тр...</td>\n",
       "    </tr>\n",
       "    <tr>\n",
       "      <th>454</th>\n",
       "      <td>желаю чтоб на твоем жизненном пути небыло вооб...</td>\n",
       "      <td>желаю чтоб на твоем жизненном пути не было воо...</td>\n",
       "      <td>желаю чтоб на твоей жизненном пути небыли вооб...</td>\n",
       "    </tr>\n",
       "    <tr>\n",
       "      <th>457</th>\n",
       "      <td>а амстердам патамушта тоже мокрый</td>\n",
       "      <td>а амстердам потому что тоже мокрый</td>\n",
       "      <td>а амстердам патамушта тоже мокрый</td>\n",
       "    </tr>\n",
       "    <tr>\n",
       "      <th>458</th>\n",
       "      <td>направленная на нейтрализацию психотравмирующе...</td>\n",
       "      <td>направленная на нейтрализацию психотравмирующе...</td>\n",
       "      <td>направленная на нейтрализацию психотравмирующе...</td>\n",
       "    </tr>\n",
       "    <tr>\n",
       "      <th>461</th>\n",
       "      <td>канадец не стал изобретать велосипед и сам вко...</td>\n",
       "      <td>канадец не стал изобретать велосипед и сам вко...</td>\n",
       "      <td>канадец не стал изобретать велосипед и сам вко...</td>\n",
       "    </tr>\n",
       "    <tr>\n",
       "      <th>462</th>\n",
       "      <td>ну да ладно меня троллят надо смериться с этим</td>\n",
       "      <td>ну да ладно меня троллят надо смириться с этим</td>\n",
       "      <td>ну да ладно меня троллям надо смериться с этим</td>\n",
       "    </tr>\n",
       "    <tr>\n",
       "      <th>463</th>\n",
       "      <td>благодаря ему я начал вновь пробывать писать</td>\n",
       "      <td>благодаря ему я начал вновь пробовать писать</td>\n",
       "      <td>благодаря ему я начал вновь прибывать писать</td>\n",
       "    </tr>\n",
       "    <tr>\n",
       "      <th>464</th>\n",
       "      <td>подргрузился список контактов</td>\n",
       "      <td>подгрузился список контактов</td>\n",
       "      <td>подргрузился список контактов</td>\n",
       "    </tr>\n",
       "    <tr>\n",
       "      <th>465</th>\n",
       "      <td>их воспринимать как детей которые хотят поигра...</td>\n",
       "      <td>их воспринимать как детей которые хотят поигра...</td>\n",
       "      <td>их воспринимать как детей которые хотят поигра...</td>\n",
       "    </tr>\n",
       "    <tr>\n",
       "      <th>469</th>\n",
       "      <td>а не правильно то что каждый участник дорожног...</td>\n",
       "      <td>а неправильно то что каждый участник дорожного...</td>\n",
       "      <td>а не правильно то что каждый участник дорожног...</td>\n",
       "    </tr>\n",
       "    <tr>\n",
       "      <th>470</th>\n",
       "      <td>так что уж лутче да просто не тратить в пустую...</td>\n",
       "      <td>так что уж лучше да просто не тратить впустую ...</td>\n",
       "      <td>так что уж луче да просто не тратить в пустую ...</td>\n",
       "    </tr>\n",
       "    <tr>\n",
       "      <th>471</th>\n",
       "      <td>джабин говорил обо всем этом с представителем ...</td>\n",
       "      <td>джабин говорил обо всем этом с представителем ...</td>\n",
       "      <td>джаин говорил обо всем этом с представителем в...</td>\n",
       "    </tr>\n",
       "    <tr>\n",
       "      <th>472</th>\n",
       "      <td>ну да ничо пять дней и снова пятницца</td>\n",
       "      <td>ну да ничего пять дней и снова пятница</td>\n",
       "      <td>ну да ничто пять дней и снова пятница</td>\n",
       "    </tr>\n",
       "    <tr>\n",
       "      <th>473</th>\n",
       "      <td>герой умершей страны готика выражающая пермане...</td>\n",
       "      <td>герой умершей страны готика выражающая пермане...</td>\n",
       "      <td>герой умершей страны готика выражающая пермане...</td>\n",
       "    </tr>\n",
       "    <tr>\n",
       "      <th>475</th>\n",
       "      <td>привет старик это кто тебе так насалил</td>\n",
       "      <td>привет старик это кто тебе так насолил</td>\n",
       "      <td>привет старик это кто тебе так насалил</td>\n",
       "    </tr>\n",
       "    <tr>\n",
       "      <th>477</th>\n",
       "      <td>пополнил коллекцию шмоться от всвязи с долгожд...</td>\n",
       "      <td>пополнил коллекцию шмотья от в связи с долгожд...</td>\n",
       "      <td>пополнил коллекцию шмотья от связи с долгождан...</td>\n",
       "    </tr>\n",
       "    <tr>\n",
       "      <th>478</th>\n",
       "      <td>кокойто я ночной житель што ли</td>\n",
       "      <td>какой то я ночной житель что ли</td>\n",
       "      <td>кокойто я ночной житель што ли</td>\n",
       "    </tr>\n",
       "    <tr>\n",
       "      <th>479</th>\n",
       "      <td>а пока ждем еды немного фотографий ведь место ...</td>\n",
       "      <td>а пока ждем еды немного фотографий ведь место ...</td>\n",
       "      <td>а пока эдем еды немного фотографий ведь место ...</td>\n",
       "    </tr>\n",
       "    <tr>\n",
       "      <th>481</th>\n",
       "      <td>реально вижу как растет очередь на жилье изза ...</td>\n",
       "      <td>реально вижу как растет очередь на жилье из за...</td>\n",
       "      <td>реально вижу как растёт очередь на жилье изба ...</td>\n",
       "    </tr>\n",
       "    <tr>\n",
       "      <th>484</th>\n",
       "      <td>вобщем как вы знаете из моего не давнего поста...</td>\n",
       "      <td>в общем как вы знаете из моего недавнего поста...</td>\n",
       "      <td>общем как вы знаете из моего не давнего поста ...</td>\n",
       "    </tr>\n",
       "    <tr>\n",
       "      <th>486</th>\n",
       "      <td>такого у меня никада не было</td>\n",
       "      <td>такого у меня никогда не было</td>\n",
       "      <td>такого у меня никуда не было</td>\n",
       "    </tr>\n",
       "    <tr>\n",
       "      <th>494</th>\n",
       "      <td>загарать и купаться нам пришлось недолго где т...</td>\n",
       "      <td>загорать и купаться нам пришлось недолго где т...</td>\n",
       "      <td>загадать и купаться нам пришлось недолго где т...</td>\n",
       "    </tr>\n",
       "    <tr>\n",
       "      <th>496</th>\n",
       "      <td>посколько отчет деловито и весело уже написан ...</td>\n",
       "      <td>поскольку отчет деловито и весело уже написан ...</td>\n",
       "      <td>поскольку ответ деловито и весело уже написан ...</td>\n",
       "    </tr>\n",
       "    <tr>\n",
       "      <th>499</th>\n",
       "      <td>завтра это всмысле сегодня</td>\n",
       "      <td>завтра это в смысле сегодня</td>\n",
       "      <td>завтра это смысле сегодня</td>\n",
       "    </tr>\n",
       "  </tbody>\n",
       "</table>\n",
       "<p>278 rows × 3 columns</p>\n",
       "</div>"
      ],
      "text/plain": [
       "                                                 wrong  \\\n",
       "0    тоесть если дамой то только в том случае если ...   \n",
       "6    я пью кофе не ради проснуться а ради процесса ...   \n",
       "7    делая недюженные усилия над собой я таки выкар...   \n",
       "8    ударение в фамилие уже наверно плавно переехал...   \n",
       "10   самыи прикол в том что делая дела в своеи жизн...   \n",
       "14   да там их мало конешно и я бил силно пян и всп...   \n",
       "15   на черном фоне белый квадрат а в нем написанно...   \n",
       "18   парочка прошлогодних снимков с правнуком племе...   \n",
       "19   музончик конечно зачетный и почемуто до боли з...   \n",
       "20   в связи с заявлениями тимошенко об ухудшении с...   \n",
       "22   в каждой стране сво правила конешно и я больше...   \n",
       "24   а цветочек в белом горшке называется женское щ...   \n",
       "30   следует отдать должное заказчику очень четко о...   \n",
       "31          пролжительность занятий небльшая всего дня   \n",
       "32   зарубки на стене методично прибавлялись с кажд...   \n",
       "34   людей уйма штормило во все стороны собстно тол...   \n",
       "35   с учетом раненых около тысяч американская арми...   \n",
       "36   вобщем любую моральную поддержку в виде живой ...   \n",
       "37   с сегодняшнего дня точно могу вам сказать что ...   \n",
       "38   лен буду попозже сейцас в душ пойду и зарядку ...   \n",
       "39   его родители довили на него они очень хотели ч...   \n",
       "40   ещее один вопрос волнует меня почему в одном и...   \n",
       "44              расжился на выходных экземпляром сабжа   \n",
       "45   завтра наконец таки я преступлю к прочтению кн...   \n",
       "49                 но както все это было подощрительно   \n",
       "50          масс старт в биатлоне впереди еще например   \n",
       "51   публика была супер точнее ее не было вообщем т...   \n",
       "52   ты начинаешь думать а што неплохо можно и тут ...   \n",
       "53         в прошлые выходные я прошел сертификацию на   \n",
       "54   разьве что вася воронов да пашка пескин знаешь...   \n",
       "..                                                 ...   \n",
       "440  я занимаюсь продюсированием музыкальных проект...   \n",
       "442  прихали в сяньян где и узнали что из этого гор...   \n",
       "445  если есть хоть одна возможность зделать нитак ...   \n",
       "447  и я весь день куда нибудь да ходила то с ясей ...   \n",
       "449  а утром шла в универ мимо главного всегда закр...   \n",
       "450  насчет книги я ее не видел и уж темболее не читал   \n",
       "453  а посмотреть там можно на дом в водосточных тр...   \n",
       "454  желаю чтоб на твоем жизненном пути небыло вооб...   \n",
       "457                  а амстердам патамушта тоже мокрый   \n",
       "458  направленная на нейтрализацию психотравмирующе...   \n",
       "461  канадец не стал изобретать велосипед и сам вко...   \n",
       "462     ну да ладно меня троллят надо смериться с этим   \n",
       "463       благодаря ему я начал вновь пробывать писать   \n",
       "464                      подргрузился список контактов   \n",
       "465  их воспринимать как детей которые хотят поигра...   \n",
       "469  а не правильно то что каждый участник дорожног...   \n",
       "470  так что уж лутче да просто не тратить в пустую...   \n",
       "471  джабин говорил обо всем этом с представителем ...   \n",
       "472              ну да ничо пять дней и снова пятницца   \n",
       "473  герой умершей страны готика выражающая пермане...   \n",
       "475             привет старик это кто тебе так насалил   \n",
       "477  пополнил коллекцию шмоться от всвязи с долгожд...   \n",
       "478                     кокойто я ночной житель што ли   \n",
       "479  а пока ждем еды немного фотографий ведь место ...   \n",
       "481  реально вижу как растет очередь на жилье изза ...   \n",
       "484  вобщем как вы знаете из моего не давнего поста...   \n",
       "486                       такого у меня никада не было   \n",
       "494  загарать и купаться нам пришлось недолго где т...   \n",
       "496  посколько отчет деловито и весело уже написан ...   \n",
       "499                         завтра это всмысле сегодня   \n",
       "\n",
       "                                                 right  \\\n",
       "0    то есть если домой то только в том случае если...   \n",
       "6    я пью кофе не ради проснуться а ради процесса ...   \n",
       "7    делая недюжинные усилия над собой я таки выкар...   \n",
       "8    ударение в фамилии уже наверно плавно переехал...   \n",
       "10   самый прикол в том что делая дела в своей жизн...   \n",
       "14   да там их мало конечно и я был сильно пьян и в...   \n",
       "15   на черном фоне белый квадрат а в нем написано ...   \n",
       "18   парочка прошлогодних снимков с правнуком племя...   \n",
       "19   музончик конечно зачетный и почему то до боли ...   \n",
       "20   в связи с заявлениями тимошенко об ухудшении с...   \n",
       "22   в каждой стране свои правила конечно и я больш...   \n",
       "24   а цветочек в белом горшке называется женское с...   \n",
       "30   следует отдать должное заказчику очень четко о...   \n",
       "31       продолжительность занятий небольшая всего дня   \n",
       "32   зарубки на стене методично прибавлялись с кажд...   \n",
       "34   людей уйма штормило во все стороны собственно ...   \n",
       "35   с учетом раненых около тысяч американская арми...   \n",
       "36   в общем любую моральную поддержку в виде живой...   \n",
       "37   с сегодняшнего дня точно могу вам сказать что ...   \n",
       "38   лен буду попозже сейчас в душ пойду и зарядку ...   \n",
       "39   его родители давили на него они очень хотели ч...   \n",
       "40   еще один вопрос волнует меня почему в одном из...   \n",
       "44              разжился на выходных экземпляром сабжа   \n",
       "45   завтра наконец таки я приступлю к прочтению кн...   \n",
       "49                но как то все это было подозрительно   \n",
       "50          масс старт в биатлоне впереди еще например   \n",
       "51   публика была супер точнее ее не было в общем т...   \n",
       "52   ты начинаешь думать а что неплохо можно и тут ...   \n",
       "53         в прошлые выходные я прошел сертификацию на   \n",
       "54   разве что вася воронов да пашка пескин знаешь его   \n",
       "..                                                 ...   \n",
       "440  я занимаюсь продюсированием музыкальных проект...   \n",
       "442  приехали в сяньян где и узнали что из этого го...   \n",
       "445  если есть хоть одна возможность сделать не так...   \n",
       "447  и я весь день куда нибудь да ходила то с ясей ...   \n",
       "449  а утром шла в универ мимо главного всегда закр...   \n",
       "450  насчет книги я ее не видел и уж тем более не ч...   \n",
       "453  а посмотреть там можно на дом в водосточных тр...   \n",
       "454  желаю чтоб на твоем жизненном пути не было воо...   \n",
       "457                 а амстердам потому что тоже мокрый   \n",
       "458  направленная на нейтрализацию психотравмирующе...   \n",
       "461  канадец не стал изобретать велосипед и сам вко...   \n",
       "462     ну да ладно меня троллят надо смириться с этим   \n",
       "463       благодаря ему я начал вновь пробовать писать   \n",
       "464                       подгрузился список контактов   \n",
       "465  их воспринимать как детей которые хотят поигра...   \n",
       "469  а неправильно то что каждый участник дорожного...   \n",
       "470  так что уж лучше да просто не тратить впустую ...   \n",
       "471  джабин говорил обо всем этом с представителем ...   \n",
       "472             ну да ничего пять дней и снова пятница   \n",
       "473  герой умершей страны готика выражающая пермане...   \n",
       "475             привет старик это кто тебе так насолил   \n",
       "477  пополнил коллекцию шмотья от в связи с долгожд...   \n",
       "478                    какой то я ночной житель что ли   \n",
       "479  а пока ждем еды немного фотографий ведь место ...   \n",
       "481  реально вижу как растет очередь на жилье из за...   \n",
       "484  в общем как вы знаете из моего недавнего поста...   \n",
       "486                      такого у меня никогда не было   \n",
       "494  загорать и купаться нам пришлось недолго где т...   \n",
       "496  поскольку отчет деловито и весело уже написан ...   \n",
       "499                        завтра это в смысле сегодня   \n",
       "\n",
       "                                             corrected  \n",
       "0    тесть если дамой то только в том случае если п...  \n",
       "6    я пью кофе не ради проснуться а ради процесса ...  \n",
       "7    делая недюжинные усилия над собой я таки выкар...  \n",
       "8    ударение в фамилия уже наверно плавно переехал...  \n",
       "10   самых прикол в том что делая дела в своей жизн...  \n",
       "14   да там их мало конечно и я бил сильно ян и всп...  \n",
       "15   на чёрном фоне белый квадрат а в нем написано ...  \n",
       "18   парочка прошлогодних снимков с правнуком племе...  \n",
       "19   музончик конечно заметный и заметный до боли з...  \n",
       "20   в связи с заявлениями тимошенко об ухудшении с...  \n",
       "22   в каждой стране во правила конечно и я больше ...  \n",
       "24   а цветочек в белом горшке называется женское щ...  \n",
       "30   следует отдать должное заказчику очень чётко о...  \n",
       "31         пролжительность занятий небольшая всего дня  \n",
       "32   зарубки на стене методично прибавлялись с кажд...  \n",
       "34   людей уйма штормило во все стороны собстно тол...  \n",
       "35   с учётом раненых около тысяч американская арми...  \n",
       "36   общем любую моральную поддержку в виде живой д...  \n",
       "37   с сегодняшнего дня точно могу вам сказать что ...  \n",
       "38   лен буду попозже сейчас в душ пойду и зарядку ...  \n",
       "39   его родители довили на него они очень хотели ч...  \n",
       "40   елее один вопрос волнует меня почему в одном и...  \n",
       "44              расшился на выходных экземпляром сабжа  \n",
       "45   завтра наконец таки я преступлю к прочтению кн...  \n",
       "49                 но факто все это было подозрительно  \n",
       "50          масс старт в биатлоне впереди ещё например  \n",
       "51   публика была супер точнее не не было вообще та...  \n",
       "52   ты начинаешь думать а што неплохо можно и тут ...  \n",
       "53         в прошлые выходные я прошёл сертификацию на  \n",
       "54    разве что вася воронов да пашка пекин знаешь его  \n",
       "..                                                 ...  \n",
       "440  я занимаюсь продюсирование м музыкальных проек...  \n",
       "442  приехали в приехали где и узнали что из этого ...  \n",
       "445  если есть хоть одна возможность сделать никак ...  \n",
       "447  и я весь день куда нибудь да ходила то с ясей ...  \n",
       "449  а утром шла в унив ер мимо главного всегда зак...  \n",
       "450        насчёт книги я же не видел и уж же не читал  \n",
       "453  а посмотреть там можно на дом в водосточных тр...  \n",
       "454  желаю чтоб на твоей жизненном пути небыли вооб...  \n",
       "457                  а амстердам патамушта тоже мокрый  \n",
       "458  направленная на нейтрализацию психотравмирующе...  \n",
       "461  канадец не стал изобретать велосипед и сам вко...  \n",
       "462     ну да ладно меня троллям надо смериться с этим  \n",
       "463       благодаря ему я начал вновь прибывать писать  \n",
       "464                      подргрузился список контактов  \n",
       "465  их воспринимать как детей которые хотят поигра...  \n",
       "469  а не правильно то что каждый участник дорожног...  \n",
       "470  так что уж луче да просто не тратить в пустую ...  \n",
       "471  джаин говорил обо всем этом с представителем в...  \n",
       "472              ну да ничто пять дней и снова пятница  \n",
       "473  герой умершей страны готика выражающая пермане...  \n",
       "475             привет старик это кто тебе так насалил  \n",
       "477  пополнил коллекцию шмотья от связи с долгождан...  \n",
       "478                     кокойто я ночной житель што ли  \n",
       "479  а пока эдем еды немного фотографий ведь место ...  \n",
       "481  реально вижу как растёт очередь на жилье изба ...  \n",
       "484  общем как вы знаете из моего не давнего поста ...  \n",
       "486                       такого у меня никуда не было  \n",
       "494  загадать и купаться нам пришлось недолго где т...  \n",
       "496  поскольку ответ деловито и весело уже написан ...  \n",
       "499                          завтра это смысле сегодня  \n",
       "\n",
       "[278 rows x 3 columns]"
      ]
     },
     "execution_count": 163,
     "metadata": {},
     "output_type": "execute_result"
    }
   ],
   "source": [
    "errors"
   ]
  },
  {
   "cell_type": "markdown",
   "metadata": {},
   "source": [
    "### Testing"
   ]
  },
  {
   "cell_type": "code",
   "execution_count": 32,
   "metadata": {
    "collapsed": true
   },
   "outputs": [],
   "source": [
    "test = slurp('./test (1).txt')"
   ]
  },
  {
   "cell_type": "code",
   "execution_count": 33,
   "metadata": {
    "collapsed": true
   },
   "outputs": [],
   "source": [
    "test = test.split('\\n\\n')"
   ]
  },
  {
   "cell_type": "code",
   "execution_count": 35,
   "metadata": {
    "collapsed": true
   },
   "outputs": [],
   "source": [
    "test_df = pd.DataFrame(data = test, columns = ['test'])"
   ]
  },
  {
   "cell_type": "code",
   "execution_count": 36,
   "metadata": {
    "collapsed": true
   },
   "outputs": [],
   "source": [
    "test_df['wrong'], test_df['right'] = test_df['test'].str.split('\\n',1).str"
   ]
  },
  {
   "cell_type": "code",
   "execution_count": 37,
   "metadata": {
    "collapsed": true
   },
   "outputs": [],
   "source": [
    "test_df.pop('test');"
   ]
  },
  {
   "cell_type": "code",
   "execution_count": 38,
   "metadata": {
    "collapsed": true
   },
   "outputs": [],
   "source": [
    "test_df.wrong = [' '.join(re.findall(r'[а-яё]+', text.lower())) for text in test_df.wrong]\n",
    "test_df.right = [' '.join(re.findall(r'[а-яё]+', text.lower())) for text in test_df.right]"
   ]
  },
  {
   "cell_type": "code",
   "execution_count": 39,
   "metadata": {},
   "outputs": [
    {
     "data": {
      "text/html": [
       "<div>\n",
       "<style>\n",
       "    .dataframe thead tr:only-child th {\n",
       "        text-align: right;\n",
       "    }\n",
       "\n",
       "    .dataframe thead th {\n",
       "        text-align: left;\n",
       "    }\n",
       "\n",
       "    .dataframe tbody tr th {\n",
       "        vertical-align: top;\n",
       "    }\n",
       "</style>\n",
       "<table border=\"1\" class=\"dataframe\">\n",
       "  <thead>\n",
       "    <tr style=\"text-align: right;\">\n",
       "      <th></th>\n",
       "      <th>wrong</th>\n",
       "      <th>right</th>\n",
       "    </tr>\n",
       "  </thead>\n",
       "  <tbody>\n",
       "    <tr>\n",
       "      <th>0</th>\n",
       "      <td>ну вот собственно и день весь вышел</td>\n",
       "      <td>ну вот собственно и день весь вышел</td>\n",
       "    </tr>\n",
       "    <tr>\n",
       "      <th>1</th>\n",
       "      <td>корридоры казались огромными было довольно пус...</td>\n",
       "      <td>коридоры казались огромными было довольно пуст...</td>\n",
       "    </tr>\n",
       "    <tr>\n",
       "      <th>2</th>\n",
       "      <td>а так все впринципе нормально</td>\n",
       "      <td>а так все в принципе нормально</td>\n",
       "    </tr>\n",
       "    <tr>\n",
       "      <th>3</th>\n",
       "      <td>надеюсь порисовать но посмотрю какая будеть по...</td>\n",
       "      <td>надеюсь порисовать но посмотрю какая будет погода</td>\n",
       "    </tr>\n",
       "    <tr>\n",
       "      <th>4</th>\n",
       "      <td>хотела посчитать скока я за седня выпила воды</td>\n",
       "      <td>хотела посчитать сколько я за сегодня выпила воды</td>\n",
       "    </tr>\n",
       "  </tbody>\n",
       "</table>\n",
       "</div>"
      ],
      "text/plain": [
       "                                               wrong  \\\n",
       "0                ну вот собственно и день весь вышел   \n",
       "1  корридоры казались огромными было довольно пус...   \n",
       "2                      а так все впринципе нормально   \n",
       "3  надеюсь порисовать но посмотрю какая будеть по...   \n",
       "4      хотела посчитать скока я за седня выпила воды   \n",
       "\n",
       "                                               right  \n",
       "0                ну вот собственно и день весь вышел  \n",
       "1  коридоры казались огромными было довольно пуст...  \n",
       "2                     а так все в принципе нормально  \n",
       "3  надеюсь порисовать но посмотрю какая будет погода  \n",
       "4  хотела посчитать сколько я за сегодня выпила воды  "
      ]
     },
     "execution_count": 39,
     "metadata": {},
     "output_type": "execute_result"
    }
   ],
   "source": [
    "test_df.head()"
   ]
  },
  {
   "cell_type": "code",
   "execution_count": 40,
   "metadata": {},
   "outputs": [
    {
     "data": {
      "text/plain": [
       "1008"
      ]
     },
     "execution_count": 40,
     "metadata": {},
     "output_type": "execute_result"
    }
   ],
   "source": [
    "len(test_df)"
   ]
  },
  {
   "cell_type": "code",
   "execution_count": 41,
   "metadata": {},
   "outputs": [
    {
     "name": "stderr",
     "output_type": "stream",
     "text": [
      "100%|██████████████████████████████████████| 1008/1008 [37:18<00:00,  2.22s/it]\n"
     ]
    }
   ],
   "source": [
    "corrected = [spell_check_fast_dict(text) for text in tqdm(test_df.wrong)]"
   ]
  },
  {
   "cell_type": "code",
   "execution_count": 42,
   "metadata": {
    "collapsed": true
   },
   "outputs": [],
   "source": [
    "with open('answers.txt', 'w', encoding = 'utf-8') as f:\n",
    "    f.write('\\n'.join(corrected))\n",
    "    "
   ]
  },
  {
   "cell_type": "code",
   "execution_count": 43,
   "metadata": {
    "collapsed": true
   },
   "outputs": [],
   "source": [
    "source = test_df.wrong\n",
    "correct = test_df.right"
   ]
  },
  {
   "cell_type": "code",
   "execution_count": 44,
   "metadata": {
    "collapsed": true
   },
   "outputs": [],
   "source": [
    "with open('source.txt', 'w', encoding = 'utf-8') as f:\n",
    "    f.write('\\n'.join(source))"
   ]
  },
  {
   "cell_type": "code",
   "execution_count": 45,
   "metadata": {
    "collapsed": true
   },
   "outputs": [],
   "source": [
    "with open('correct.txt', 'w', encoding = 'utf-8') as f:\n",
    "    f.write('\\n'.join(correct))"
   ]
  },
  {
   "cell_type": "code",
   "execution_count": null,
   "metadata": {
    "collapsed": true
   },
   "outputs": [],
   "source": []
  }
 ],
 "metadata": {
  "kernelspec": {
   "display_name": "Python 3",
   "language": "python",
   "name": "python3"
  },
  "language_info": {
   "codemirror_mode": {
    "name": "ipython",
    "version": 3
   },
   "file_extension": ".py",
   "mimetype": "text/x-python",
   "name": "python",
   "nbconvert_exporter": "python",
   "pygments_lexer": "ipython3",
   "version": "3.5.3"
  }
 },
 "nbformat": 4,
 "nbformat_minor": 2
}
