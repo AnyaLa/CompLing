{
 "cells": [
  {
   "cell_type": "code",
   "execution_count": 1,
   "metadata": {
    "collapsed": true
   },
   "outputs": [],
   "source": [
    "import sys\n",
    "sys.path.append('C:\\Program Files\\Anaconda3\\Lib\\site-packages')\n",
    "#добавляю для себя, так у меня работают пакеты!"
   ]
  },
  {
   "cell_type": "code",
   "execution_count": 2,
   "metadata": {
    "collapsed": true
   },
   "outputs": [],
   "source": [
    "import pandas as pd\n",
    "from tqdm import tqdm\n",
    "import os\n",
    "import re\n",
    "from nltk import trigrams\n",
    "from collections import Counter\n",
    "import pymorphy2 # Лемматизация"
   ]
  },
  {
   "cell_type": "markdown",
   "metadata": {},
   "source": [
    "## Скачиваем тексты wiki ##"
   ]
  },
  {
   "cell_type": "code",
   "execution_count": 20,
   "metadata": {
    "collapsed": true
   },
   "outputs": [],
   "source": [
    "import wikipedia"
   ]
  },
  {
   "cell_type": "code",
   "execution_count": 21,
   "metadata": {
    "collapsed": true
   },
   "outputs": [],
   "source": [
    "wikipedia.set_lang(\"ru\")"
   ]
  },
  {
   "cell_type": "code",
   "execution_count": 28,
   "metadata": {
    "collapsed": true
   },
   "outputs": [],
   "source": [
    "random_pages_names = wikipedia.random(pages=500)"
   ]
  },
  {
   "cell_type": "code",
   "execution_count": 4,
   "metadata": {
    "collapsed": true
   },
   "outputs": [],
   "source": [
    "path_train_texts = 'C:/Users/Анна/YandexDisk/spell-check/wikiru/'"
   ]
  },
  {
   "cell_type": "code",
   "execution_count": 3,
   "metadata": {},
   "outputs": [
    {
     "data": {
      "text/plain": [
       "'for random_name in tqdm(random_pages_names):\\n    page_text = []\\n    random_name = wikipedia.search(random_name)\\n    try:\\n        saved_page = wikipedia.page(random_name[0])\\n    except (wikipedia.exceptions.DisambiguationError,\\n            wikipedia.exceptions.PageError) as e:\\n        print(\"Error: {0}\".format(e))\\n        continue\\n    try:\\n        page_text.append(saved_page.title)\\n        page_text.append(saved_page.summary)\\n        page_text.append(saved_page.content)\\n    except wikipedia.exceptions.DisambiguationError as e:\\n        print(\"Error: {0}\".format(e))\\n        continue\\n             \\n   \\n    page_text = \\' \\'.join(page_text)\\n\\n    file_name = (path_train_texts+(saved_page.title) + \\'.txt\\')\\n    try:\\n        with open(file_name, \\'w\\', encoding = \\'utf-8\\') as fl:\\n            fl.write(page_text)\\n    except FileNotFoundError:\\n        continue'"
      ]
     },
     "execution_count": 3,
     "metadata": {},
     "output_type": "execute_result"
    }
   ],
   "source": [
    "for random_name in tqdm(random_pages_names):\n",
    "    page_text = []\n",
    "    random_name = wikipedia.search(random_name)\n",
    "    try:\n",
    "        saved_page = wikipedia.page(random_name[0])\n",
    "    except (wikipedia.exceptions.DisambiguationError,\n",
    "            wikipedia.exceptions.PageError) as e:\n",
    "        print(\"Error: {0}\".format(e))\n",
    "        continue\n",
    "    try:\n",
    "        page_text.append(saved_page.title)\n",
    "        page_text.append(saved_page.summary)\n",
    "        page_text.append(saved_page.content)\n",
    "    except wikipedia.exceptions.DisambiguationError as e:\n",
    "        print(\"Error: {0}\".format(e))\n",
    "        continue\n",
    "             \n",
    "   \n",
    "    page_text = ' '.join(page_text)\n",
    "\n",
    "    file_name = (path_train_texts+(saved_page.title) + '.txt')\n",
    "    try:\n",
    "        with open(file_name, 'w', encoding = 'utf-8') as fl:\n",
    "            fl.write(page_text)\n",
    "    except FileNotFoundError:\n",
    "        continue"
   ]
  },
  {
   "cell_type": "code",
   "execution_count": 9,
   "metadata": {
    "collapsed": true
   },
   "outputs": [],
   "source": [
    "def slurp(path):\n",
    "    with open(path, 'r', encoding = 'utf-8') as file_object:\n",
    "        return file_object.read()"
   ]
  },
  {
   "cell_type": "markdown",
   "metadata": {},
   "source": [
    "## Препроцессинг ##"
   ]
  },
  {
   "cell_type": "code",
   "execution_count": 3,
   "metadata": {
    "collapsed": true
   },
   "outputs": [],
   "source": [
    "def preprocess(texts):\n",
    "    preprocessed_texts_list = []\n",
    "    for text in texts:\n",
    "        text = re.sub(r'[A-Za-z]', '', text)\n",
    "        text = re.sub(r'[А-Я]{2,}', '', text)#убираем аббревиатуры\n",
    "        lower_text = text.lower()#приводим к нижнему регистру, заменяем тире, чтобы потом оставить дефисы в словах\n",
    "        #lower_text = re.sub(r'(\\d)+-(\\d)+','', lower_text)#удаление цифр типа 1999-2001\n",
    "        del_new_line = re.sub(r'\\n', '', lower_text)\n",
    "        no_ref_text = re.sub(r'==литература(.)+|==источники(.)+', '', del_new_line)#удаляем все, что после рубрики \"Сссылки\"\n",
    "        no_num_text = re.sub(r'\\d', '', no_ref_text)#удаляем цифры\n",
    "        extracted_text = re.findall(r'[а-яё]+', no_num_text)\n",
    "        #разделяем на токены - последовательности букв с дефисами\n",
    "        extracted_text = ' '.join(extracted_text)\n",
    "        preprocessed_texts_list.append(extracted_text)\n",
    "    return preprocessed_texts_list"
   ]
  },
  {
   "cell_type": "code",
   "execution_count": 4,
   "metadata": {},
   "outputs": [
    {
     "ename": "NameError",
     "evalue": "name 'path_train_texts' is not defined",
     "output_type": "error",
     "traceback": [
      "\u001b[0;31m---------------------------------------------------------------------------\u001b[0m",
      "\u001b[0;31mNameError\u001b[0m                                 Traceback (most recent call last)",
      "\u001b[0;32m<ipython-input-4-b47929a3bd88>\u001b[0m in \u001b[0;36m<module>\u001b[0;34m()\u001b[0m\n\u001b[1;32m      1\u001b[0m \u001b[0mtrain_texts_list\u001b[0m \u001b[0;34m=\u001b[0m \u001b[0;34m[\u001b[0m\u001b[0;34m]\u001b[0m\u001b[0;34m\u001b[0m\u001b[0m\n\u001b[0;32m----> 2\u001b[0;31m \u001b[0;32mfor\u001b[0m \u001b[0mroot\u001b[0m\u001b[0;34m,\u001b[0m \u001b[0mdirs\u001b[0m\u001b[0;34m,\u001b[0m \u001b[0mfiles\u001b[0m \u001b[0;32min\u001b[0m \u001b[0mos\u001b[0m\u001b[0;34m.\u001b[0m\u001b[0mwalk\u001b[0m\u001b[0;34m(\u001b[0m\u001b[0mpath_train_texts\u001b[0m\u001b[0;34m)\u001b[0m\u001b[0;34m:\u001b[0m\u001b[0;34m\u001b[0m\u001b[0m\n\u001b[0m\u001b[1;32m      3\u001b[0m     \u001b[0;32mfor\u001b[0m \u001b[0mfile_name\u001b[0m \u001b[0;32min\u001b[0m \u001b[0mtqdm\u001b[0m\u001b[0;34m(\u001b[0m\u001b[0mfiles\u001b[0m\u001b[0;34m)\u001b[0m\u001b[0;34m:\u001b[0m\u001b[0;34m\u001b[0m\u001b[0m\n\u001b[1;32m      4\u001b[0m         \u001b[0minput_path\u001b[0m \u001b[0;34m=\u001b[0m \u001b[0mpath_train_texts\u001b[0m \u001b[0;34m+\u001b[0m \u001b[0mfile_name\u001b[0m\u001b[0;34m\u001b[0m\u001b[0m\n\u001b[1;32m      5\u001b[0m         \u001b[0mtext\u001b[0m \u001b[0;34m=\u001b[0m \u001b[0mslurp\u001b[0m\u001b[0;34m(\u001b[0m\u001b[0minput_path\u001b[0m\u001b[0;34m)\u001b[0m\u001b[0;34m\u001b[0m\u001b[0m\n",
      "\u001b[0;31mNameError\u001b[0m: name 'path_train_texts' is not defined"
     ]
    }
   ],
   "source": [
    "train_texts_list = []\n",
    "for root, dirs, files in os.walk(path_train_texts):\n",
    "    for file_name in tqdm(files):\n",
    "        input_path = path_train_texts + file_name\n",
    "        text = slurp(input_path)\n",
    "        train_texts_list.append(text)\n",
    "preprocessed_train_texts = preprocess(train_texts_list)    "
   ]
  },
  {
   "cell_type": "code",
   "execution_count": 81,
   "metadata": {},
   "outputs": [
    {
     "data": {
      "text/plain": [
       "'число одиннадцать натуральное число расположенное между числами и пятое простое число четвёртое число софи жермен простое число число также является числом софи жермен третье безопасное простое число простое число якобсталя одиннадцать натуральное число расположенное между числами и пятое простое число четвёртое число софи жермен простое число число также является числом софи жермен третье безопасное простое число простое число якобсталя свойства цифры первых пяти неотрицательных степеней числа являются элементами треугольника паскаля эндекахорон англ абстрактный правильный четырёхмерный политоп ячеек которого представляют собой полуикосаэдры число бога кубика рубика в метрике равно геометрия существует развёрток куба образующих подмножество гексамино и развёрток октаэдра образующих подмножество октиамондов из гексамино шестиклеточных полимино ровно являются чётными то есть при шахматной раскраске содержат чётное число светлых и чётное число тёмных квадратов дэвид а кларнер обнаружил гексамино из одиннадцати копий которого можно сложить прямоугольник до сих пор неизвестно существует ли непрямоугольное полимино из или копий которого можно сложить прямоугольник также не найдены другие примеры непрямоугольных полимино из копий которых можно составить прямоугольник примечания'"
      ]
     },
     "execution_count": 81,
     "metadata": {},
     "output_type": "execute_result"
    }
   ],
   "source": [
    "preprocessed_train_texts[14]"
   ]
  },
  {
   "cell_type": "code",
   "execution_count": 82,
   "metadata": {
    "collapsed": true
   },
   "outputs": [],
   "source": [
    "train_wiki = pd.DataFrame(data = preprocessed_train_texts, columns=['wiki_texts'])"
   ]
  },
  {
   "cell_type": "code",
   "execution_count": 83,
   "metadata": {
    "collapsed": true
   },
   "outputs": [],
   "source": [
    "train_wiki.to_csv('train_wiki_2.csv', index = False, encoding = 'utf-8')"
   ]
  },
  {
   "cell_type": "markdown",
   "metadata": {},
   "source": [
    "## Обучающий корпус - тексты Википедии ##"
   ]
  },
  {
   "cell_type": "code",
   "execution_count": 4,
   "metadata": {
    "collapsed": true
   },
   "outputs": [],
   "source": [
    "train_wiki = pd.read_csv('/home/nst/mount/data/share/yd/comp_ling/spell-check/train_wiki_2.csv')"
   ]
  },
  {
   "cell_type": "code",
   "execution_count": 4,
   "metadata": {
    "collapsed": true
   },
   "outputs": [],
   "source": [
    "train_wiki = pd.read_csv('C:/Users/Анна/YandexDisk/spell-check/train_wiki_2.csv')"
   ]
  },
  {
   "cell_type": "code",
   "execution_count": 7,
   "metadata": {},
   "outputs": [
    {
     "data": {
      "text/html": [
       "<div>\n",
       "<style>\n",
       "    .dataframe thead tr:only-child th {\n",
       "        text-align: right;\n",
       "    }\n",
       "\n",
       "    .dataframe thead th {\n",
       "        text-align: left;\n",
       "    }\n",
       "\n",
       "    .dataframe tbody tr th {\n",
       "        vertical-align: top;\n",
       "    }\n",
       "</style>\n",
       "<table border=\"1\" class=\"dataframe\">\n",
       "  <thead>\n",
       "    <tr style=\"text-align: right;\">\n",
       "      <th></th>\n",
       "      <th>wiki_texts</th>\n",
       "    </tr>\n",
       "  </thead>\n",
       "  <tbody>\n",
       "    <tr>\n",
       "      <th>0</th>\n",
       "      <td>долби долби лат астероид относящийся к группе ...</td>\n",
       "    </tr>\n",
       "    <tr>\n",
       "      <th>1</th>\n",
       "      <td>адрия адрия лат довольно крупный астероид из г...</td>\n",
       "    </tr>\n",
       "    <tr>\n",
       "      <th>2</th>\n",
       "      <td>гиппас гиппас лат др греч типичный троянский а...</td>\n",
       "    </tr>\n",
       "    <tr>\n",
       "      <th>3</th>\n",
       "      <td>гоголь гоголь лат типичный астероид главного п...</td>\n",
       "    </tr>\n",
       "    <tr>\n",
       "      <th>4</th>\n",
       "      <td>капрера капрера итал астероид главного пояса п...</td>\n",
       "    </tr>\n",
       "  </tbody>\n",
       "</table>\n",
       "</div>"
      ],
      "text/plain": [
       "                                          wiki_texts\n",
       "0  долби долби лат астероид относящийся к группе ...\n",
       "1  адрия адрия лат довольно крупный астероид из г...\n",
       "2  гиппас гиппас лат др греч типичный троянский а...\n",
       "3  гоголь гоголь лат типичный астероид главного п...\n",
       "4  капрера капрера итал астероид главного пояса п..."
      ]
     },
     "execution_count": 7,
     "metadata": {},
     "output_type": "execute_result"
    }
   ],
   "source": [
    "train_wiki.head()"
   ]
  },
  {
   "cell_type": "markdown",
   "metadata": {},
   "source": [
    "## Обучающая выборка с ошибками"
   ]
  },
  {
   "cell_type": "code",
   "execution_count": 5,
   "metadata": {
    "collapsed": true
   },
   "outputs": [],
   "source": [
    "train = slurp('/home/nst/mount/data/share/yd/comp_ling/spell-check/training.txt')"
   ]
  },
  {
   "cell_type": "code",
   "execution_count": 10,
   "metadata": {},
   "outputs": [],
   "source": [
    "train = slurp('C:/Users/Анна/YandexDisk/spell-check/training.txt')"
   ]
  },
  {
   "cell_type": "code",
   "execution_count": 6,
   "metadata": {
    "collapsed": true
   },
   "outputs": [],
   "source": [
    "train = train.split('\\n\\n')"
   ]
  },
  {
   "cell_type": "code",
   "execution_count": 7,
   "metadata": {
    "collapsed": true
   },
   "outputs": [],
   "source": [
    "train_df = pd.DataFrame(data = train, columns = ['train'])"
   ]
  },
  {
   "cell_type": "code",
   "execution_count": 8,
   "metadata": {
    "collapsed": true
   },
   "outputs": [],
   "source": [
    "train_df['wrong'], train_df['right'] = train_df['train'].str.split('\\n',1).str"
   ]
  },
  {
   "cell_type": "code",
   "execution_count": 9,
   "metadata": {
    "collapsed": true
   },
   "outputs": [],
   "source": [
    "train_df.pop('train');"
   ]
  },
  {
   "cell_type": "code",
   "execution_count": 11,
   "metadata": {
    "collapsed": true
   },
   "outputs": [],
   "source": [
    "train_df.to_csv('train_df.csv', index = False, encoding=\"utf-8\")"
   ]
  },
  {
   "cell_type": "code",
   "execution_count": 12,
   "metadata": {
    "collapsed": true
   },
   "outputs": [],
   "source": [
    "train_df = pd.read_csv('/home/nst/mount/data/linguistics_hse/comp_ling/spell_check/anyala_compling_repo/CompLing/spell_reading/train_df.csv')"
   ]
  },
  {
   "cell_type": "code",
   "execution_count": 11,
   "metadata": {},
   "outputs": [],
   "source": [
    "train_df =  pd.read_csv('C:/Users/Анна/YandexDisk/spell-check/train_df.csv') ;"
   ]
  },
  {
   "cell_type": "code",
   "execution_count": 12,
   "metadata": {},
   "outputs": [
    {
     "data": {
      "text/html": [
       "<div>\n",
       "<style>\n",
       "    .dataframe thead tr:only-child th {\n",
       "        text-align: right;\n",
       "    }\n",
       "\n",
       "    .dataframe thead th {\n",
       "        text-align: left;\n",
       "    }\n",
       "\n",
       "    .dataframe tbody tr th {\n",
       "        vertical-align: top;\n",
       "    }\n",
       "</style>\n",
       "<table border=\"1\" class=\"dataframe\">\n",
       "  <thead>\n",
       "    <tr style=\"text-align: right;\">\n",
       "      <th></th>\n",
       "      <th>wrong</th>\n",
       "      <th>right</th>\n",
       "    </tr>\n",
       "  </thead>\n",
       "  <tbody>\n",
       "    <tr>\n",
       "      <th>0</th>\n",
       "      <td>тоесть если дамой то только в том случае если ...</td>\n",
       "      <td>то есть если домой то только в том случае если...</td>\n",
       "    </tr>\n",
       "    <tr>\n",
       "      <th>1</th>\n",
       "      <td>но если у меня характер будет такойже как хотя...</td>\n",
       "      <td>но если у меня характер будет такой же как хот...</td>\n",
       "    </tr>\n",
       "    <tr>\n",
       "      <th>2</th>\n",
       "      <td>делать осьминогов из одуванчиков и куколок из ...</td>\n",
       "      <td>делать осьминогов из одуванчиков и куколок из ...</td>\n",
       "    </tr>\n",
       "    <tr>\n",
       "      <th>3</th>\n",
       "      <td>Вальс в 5 па ( внимание, будет под другую музы...</td>\n",
       "      <td>Вальс в 5 па внимание будет под другую музыку ...</td>\n",
       "    </tr>\n",
       "    <tr>\n",
       "      <th>4</th>\n",
       "      <td>зима подходит к завершению а мне только сейчас...</td>\n",
       "      <td>зима подходит к завершению а мне только сейчас...</td>\n",
       "    </tr>\n",
       "  </tbody>\n",
       "</table>\n",
       "</div>"
      ],
      "text/plain": [
       "                                               wrong  \\\n",
       "0  тоесть если дамой то только в том случае если ...   \n",
       "1  но если у меня характер будет такойже как хотя...   \n",
       "2  делать осьминогов из одуванчиков и куколок из ...   \n",
       "3  Вальс в 5 па ( внимание, будет под другую музы...   \n",
       "4  зима подходит к завершению а мне только сейчас...   \n",
       "\n",
       "                                               right  \n",
       "0  то есть если домой то только в том случае если...  \n",
       "1  но если у меня характер будет такой же как хот...  \n",
       "2  делать осьминогов из одуванчиков и куколок из ...  \n",
       "3  Вальс в 5 па внимание будет под другую музыку ...  \n",
       "4  зима подходит к завершению а мне только сейчас...  "
      ]
     },
     "execution_count": 12,
     "metadata": {},
     "output_type": "execute_result"
    }
   ],
   "source": [
    "train_df.head()"
   ]
  },
  {
   "cell_type": "code",
   "execution_count": 13,
   "metadata": {
    "collapsed": true
   },
   "outputs": [],
   "source": [
    "#уберем знаки препинания из обучающей выборки\n",
    "train_df.wrong = [' '.join(re.findall(r'[а-яё]+', text.lower())) for text in train_df.wrong]\n",
    "train_df.right = [' '.join(re.findall(r'[а-яё]+', text.lower())) for text in train_df.right]"
   ]
  },
  {
   "cell_type": "code",
   "execution_count": 15,
   "metadata": {},
   "outputs": [
    {
     "data": {
      "text/html": [
       "<div>\n",
       "<style>\n",
       "    .dataframe thead tr:only-child th {\n",
       "        text-align: right;\n",
       "    }\n",
       "\n",
       "    .dataframe thead th {\n",
       "        text-align: left;\n",
       "    }\n",
       "\n",
       "    .dataframe tbody tr th {\n",
       "        vertical-align: top;\n",
       "    }\n",
       "</style>\n",
       "<table border=\"1\" class=\"dataframe\">\n",
       "  <thead>\n",
       "    <tr style=\"text-align: right;\">\n",
       "      <th></th>\n",
       "      <th>wrong</th>\n",
       "      <th>right</th>\n",
       "    </tr>\n",
       "  </thead>\n",
       "  <tbody>\n",
       "    <tr>\n",
       "      <th>0</th>\n",
       "      <td>тоесть если дамой то только в том случае если ...</td>\n",
       "      <td>то есть если домой то только в том случае если...</td>\n",
       "    </tr>\n",
       "    <tr>\n",
       "      <th>1</th>\n",
       "      <td>но если у меня характер будет такойже как хотя...</td>\n",
       "      <td>но если у меня характер будет такой же как хот...</td>\n",
       "    </tr>\n",
       "    <tr>\n",
       "      <th>2</th>\n",
       "      <td>делать осьминогов из одуванчиков и куколок из ...</td>\n",
       "      <td>делать осьминогов из одуванчиков и куколок из ...</td>\n",
       "    </tr>\n",
       "    <tr>\n",
       "      <th>3</th>\n",
       "      <td>вальс в па внимание будет под другую музыку с ...</td>\n",
       "      <td>вальс в па внимание будет под другую музыку с ...</td>\n",
       "    </tr>\n",
       "    <tr>\n",
       "      <th>4</th>\n",
       "      <td>зима подходит к завершению а мне только сейчас...</td>\n",
       "      <td>зима подходит к завершению а мне только сейчас...</td>\n",
       "    </tr>\n",
       "  </tbody>\n",
       "</table>\n",
       "</div>"
      ],
      "text/plain": [
       "                                               wrong  \\\n",
       "0  тоесть если дамой то только в том случае если ...   \n",
       "1  но если у меня характер будет такойже как хотя...   \n",
       "2  делать осьминогов из одуванчиков и куколок из ...   \n",
       "3  вальс в па внимание будет под другую музыку с ...   \n",
       "4  зима подходит к завершению а мне только сейчас...   \n",
       "\n",
       "                                               right  \n",
       "0  то есть если домой то только в том случае если...  \n",
       "1  но если у меня характер будет такой же как хот...  \n",
       "2  делать осьминогов из одуванчиков и куколок из ...  \n",
       "3  вальс в па внимание будет под другую музыку с ...  \n",
       "4  зима подходит к завершению а мне только сейчас...  "
      ]
     },
     "execution_count": 15,
     "metadata": {},
     "output_type": "execute_result"
    }
   ],
   "source": [
    "train_df.head()"
   ]
  },
  {
   "cell_type": "markdown",
   "metadata": {},
   "source": [
    "## Импорт словарей ##"
   ]
  },
  {
   "cell_type": "markdown",
   "metadata": {},
   "source": [
    "### rucorpora ###"
   ]
  },
  {
   "cell_type": "code",
   "execution_count": 66,
   "metadata": {
    "collapsed": true
   },
   "outputs": [],
   "source": [
    "rucorpora_dict = slurp('/home/nst/mount/data/share/yd/comp_ling/spell-check/dict.opcorpora.txt')"
   ]
  },
  {
   "cell_type": "code",
   "execution_count": 14,
   "metadata": {
    "collapsed": true
   },
   "outputs": [],
   "source": [
    "rucorpora_dict = slurp('C:/Users/Анна/YandexDisk/spell-check/dict.opcorpora.txt')"
   ]
  },
  {
   "cell_type": "code",
   "execution_count": 15,
   "metadata": {
    "collapsed": true
   },
   "outputs": [],
   "source": [
    "rucorpora_dict = re.findall(r'[А-ЯЁ]+', rucorpora_dict)\n",
    "rucorpora_dict = ' '.join(rucorpora_dict)\n",
    "rucorpora_dict = rucorpora_dict.lower()\n",
    "#rucorpora_dict = rucorpora_dict.split()"
   ]
  },
  {
   "cell_type": "code",
   "execution_count": 16,
   "metadata": {},
   "outputs": [
    {
     "data": {
      "text/plain": [
       "'ёж ежа ежу ежа ежом '"
      ]
     },
     "execution_count": 16,
     "metadata": {},
     "output_type": "execute_result"
    }
   ],
   "source": [
    "rucorpora_dict[:20]"
   ]
  },
  {
   "cell_type": "markdown",
   "metadata": {},
   "source": [
    "## Строим символьные триграммы по тексту ##"
   ]
  },
  {
   "cell_type": "code",
   "execution_count": 21,
   "metadata": {
    "collapsed": true
   },
   "outputs": [],
   "source": [
    "def get_trigrams(text): #строим триграммы по тексту\n",
    "    trigrams_list = []\n",
    "    for word in text.split():\n",
    "        trigram = [''.join(char) for char in list(trigrams(word))]\n",
    "        if trigram:\n",
    "            trigrams_list.append(' '.join(trigram))\n",
    "        else:\n",
    "            trigrams_list.append(word)   \n",
    "   #tr = [' '.join([''.join(chars) for chars in list(trigrams(word))]) for word in text.split()]\n",
    "    return trigrams_list"
   ]
  },
  {
   "cell_type": "code",
   "execution_count": 90,
   "metadata": {},
   "outputs": [
    {
     "name": "stdout",
     "output_type": "stream",
     "text": [
      "тоесть если дамой то только в том случае если потеряю работу в сентябре\n",
      "['тое оес ест сть', 'есл сли', 'дам амо мой', 'то', 'тол оль льк ько', 'в', 'том', 'слу луч уча чае', 'есл сли', 'пот оте тер еря ряю', 'раб або бот оту', 'в', 'сен ент нтя тяб ябр бре']\n",
      "['тое', 'оес', 'ест', 'сть', 'есл', 'сли', 'дам', 'амо', 'мой', 'то', 'тол', 'оль', 'льк', 'ько', 'в', 'том', 'слу', 'луч', 'уча', 'чае', 'есл', 'сли', 'пот', 'оте', 'тер', 'еря', 'ряю', 'раб', 'або', 'бот', 'оту', 'в', 'сен', 'ент', 'нтя', 'тяб', 'ябр', 'бре']\n"
     ]
    }
   ],
   "source": [
    "print(train_df.wrong[0])\n",
    "print(get_trigrams(train_df.wrong[0]))\n",
    "print(' '.join(get_trigrams(train_df.wrong[0])).split())"
   ]
  },
  {
   "cell_type": "markdown",
   "metadata": {},
   "source": [
    "##  Вероятности символьных триграмм в корпусе"
   ]
  },
  {
   "cell_type": "code",
   "execution_count": 20,
   "metadata": {
    "collapsed": true
   },
   "outputs": [],
   "source": [
    "def count_trigrams(corpus): #получаем вероятности триграмм в корпусе\n",
    "    corpus_trigrams = []\n",
    "    for text in corpus:\n",
    "        tr = ' '.join(get_trigrams(text))\n",
    "        corpus_trigrams.extend(tr.split())\n",
    "    counts = dict(Counter(corpus_trigrams))\n",
    "    for key, value in counts.items():\n",
    "        counts[key] = value/len(corpus_trigrams)\n",
    "    print(len(corpus_trigrams))    \n",
    "    return counts"
   ]
  },
  {
   "cell_type": "markdown",
   "metadata": {},
   "source": [
    "### Trigram wiki model"
   ]
  },
  {
   "cell_type": "code",
   "execution_count": 22,
   "metadata": {},
   "outputs": [
    {
     "name": "stdout",
     "output_type": "stream",
     "text": [
      "8297222\n",
      "CPU times: user 16.2 s, sys: 432 ms, total: 16.7 s\n",
      "Wall time: 16.9 s\n"
     ]
    }
   ],
   "source": [
    "%%time\n",
    "trigram_wiki_model = count_trigrams(train_wiki.wiki_texts)\n",
    "#обучили 3-граммную модель на корпусе для получения вероятностей 3-грамм\n",
    "#выводится общее число триграм в корпусе (c повторениями)"
   ]
  },
  {
   "cell_type": "code",
   "execution_count": 32,
   "metadata": {},
   "outputs": [
    {
     "data": {
      "text/plain": [
       "0.0001628255818634237"
      ]
     },
     "execution_count": 32,
     "metadata": {},
     "output_type": "execute_result"
    }
   ],
   "source": [
    "trigram_wiki_model.get('есл') #вероятность 3-граммы \"есл\""
   ]
  },
  {
   "cell_type": "code",
   "execution_count": 33,
   "metadata": {
    "collapsed": true
   },
   "outputs": [],
   "source": [
    "trigram_wiki_model.get('зрх') #такой 3-граммы нет, модель не возвращает ничего"
   ]
  },
  {
   "cell_type": "code",
   "execution_count": 34,
   "metadata": {},
   "outputs": [
    {
     "data": {
      "text/plain": [
       "13679"
      ]
     },
     "execution_count": 34,
     "metadata": {},
     "output_type": "execute_result"
    }
   ],
   "source": [
    "len(trigram_wiki_model)"
   ]
  },
  {
   "cell_type": "code",
   "execution_count": 35,
   "metadata": {},
   "outputs": [
    {
     "data": {
      "text/plain": [
       "1.2052226636818925e-06"
      ]
     },
     "execution_count": 35,
     "metadata": {},
     "output_type": "execute_result"
    }
   ],
   "source": [
    "10/8297222 #какой порог взять для проверки слова по словарю?"
   ]
  },
  {
   "cell_type": "code",
   "execution_count": 194,
   "metadata": {
    "collapsed": true,
    "scrolled": true
   },
   "outputs": [],
   "source": [
    "#trigram_wiki_model.items()"
   ]
  },
  {
   "cell_type": "markdown",
   "metadata": {},
   "source": [
    "## Поиск ошибок в текстах ##"
   ]
  },
  {
   "cell_type": "code",
   "execution_count": 36,
   "metadata": {
    "collapsed": true
   },
   "outputs": [],
   "source": [
    "def search_errors(text): #поиск ошибок в тексте\n",
    "    errors = []\n",
    "    trigram_list = get_trigrams(text) #список строк, каждая строка - триграммы для одного слова\n",
    "    #print(trigram_list)\n",
    "    for i, trigrams_string in enumerate(trigram_list):\n",
    "        for trigram in trigrams_string.split():\n",
    "            #print(trigram_model.get(tr))\n",
    "            if not(trigram_wiki_model.get(trigram)) or (trigram_wiki_model.get(trigram) < (10/8297222)):\n",
    "                #print(trigram)\n",
    "                #print(text.split()[i])\n",
    "                #if morph.parse(text.split()[i])[0].normal_form not in rucorpora_dict:\n",
    "                if text.split()[i] not in rucorpora_dict:\n",
    "                    errors.append(text.split()[i])\n",
    "    return list(set(errors))"
   ]
  },
  {
   "cell_type": "code",
   "execution_count": 37,
   "metadata": {},
   "outputs": [
    {
     "data": {
      "text/plain": [
       "['самыи', 'своеи']"
      ]
     },
     "execution_count": 37,
     "metadata": {},
     "output_type": "execute_result"
    }
   ],
   "source": [
    "search_errors(train_df.wrong[10])"
   ]
  },
  {
   "cell_type": "code",
   "execution_count": 38,
   "metadata": {},
   "outputs": [
    {
     "name": "stderr",
     "output_type": "stream",
     "text": [
      "100%|██████████| 3000/3000 [00:50<00:00, 59.60it/s]\n"
     ]
    }
   ],
   "source": [
    "wiki_errors = []\n",
    "for text in tqdm(train_df.wrong):\n",
    "    wiki_errors.extend(search_errors(text))"
   ]
  },
  {
   "cell_type": "code",
   "execution_count": 39,
   "metadata": {},
   "outputs": [
    {
     "data": {
      "text/plain": [
       "556"
      ]
     },
     "execution_count": 39,
     "metadata": {},
     "output_type": "execute_result"
    }
   ],
   "source": [
    "len(wiki_errors)"
   ]
  },
  {
   "cell_type": "code",
   "execution_count": 40,
   "metadata": {},
   "outputs": [
    {
     "name": "stdout",
     "output_type": "stream",
     "text": [
      "['такойже', 'недюженные', 'пейзажы', 'самыи', 'своеи', 'щастье', 'никоглда', 'отличаються', 'расжился', 'подощрительно', 'преподше', 'замерзнуть', 'можнго', 'првязанность', 'любю', 'дабаа', 'йпри', 'поведйте', 'воопще', 'нмного', 'черезчур', 'неопределнное', 'обчным', 'всмысле', 'отношуся', 'мущщину', 'мачовсе', 'божеупаси', 'вопщем', 'болезньматки', 'ндфл', 'теща', 'лучшым', 'кагбэ', 'рыпки', 'каааак', 'тогдя', 'совршенно', 'нащщот', 'дефачка', 'оооочень', 'оплаьа', 'мужык', 'кефирчиком', 'обяснил', 'проблемнная', 'внутрениий', 'элкетроинструменты', 'всеже', 'хочеца', 'блетчли', 'такскаать', 'воопщим', 'разделеннный', 'расщифровать', 'прощаите', 'реклма', 'очеь', 'ооочень', 'хваостаюсь', 'маленбких', 'саиые', 'дежурцве', 'хотябы', 'наконецто', 'каааак', 'оооочень', 'щастье', 'собссно', 'продкты', 'удеается', 'бплгодаря', 'сногсшибальной', 'блекнет', 'посдравляю', 'ооочень', 'сеъли', 'подргрузился', 'всвязи', 'прошедшых', 'всмысле', 'вооот', 'обязаательно', 'погкуляем', 'удалитъ', 'моральноустаревшегооо', 'наконецто', 'кацман', 'прыжочки', 'обдумывю', 'скейтпарка', 'врядли', 'смшные', 'мягше', 'обяснить', 'проиошли', 'всвязи', 'прдолжение', 'пыраюсь', 'всвязи']\n"
     ]
    }
   ],
   "source": [
    "print(wiki_errors[:100])"
   ]
  },
  {
   "cell_type": "markdown",
   "metadata": {},
   "source": [
    "## Генерация кандидатов"
   ]
  },
  {
   "cell_type": "code",
   "execution_count": 17,
   "metadata": {
    "collapsed": true
   },
   "outputs": [],
   "source": [
    "def get_all_candidates(word):\n",
    "    letters = 'абвгдеёжзийклмнопрстуфхцчшщъыьэюя'\n",
    "    cursor = [(word[:i], word[i:]) for i in range(len(word) + 1)]\n",
    "    delete = [L + R[1:] for (L,R) in cursor if R]\n",
    "    insert = [L + l + R for l in letters for (L,R) in cursor]\n",
    "    replace = [L + l + R[1:] for l in letters for (L,R) in cursor if R]\n",
    "    transpose = [L + R[1] + R[0] + R[2:] for (L,R) in cursor if len(R)>1]\n",
    "    return set(delete + insert + replace + transpose)"
   ]
  },
  {
   "cell_type": "code",
   "execution_count": 20,
   "metadata": {
    "collapsed": true
   },
   "outputs": [],
   "source": [
    "def kill_candidates(error_word):\n",
    "    candidates = []\n",
    "    #kills = []\n",
    "    for word in get_all_candidates(error_word):\n",
    "        if keyword_processor.extract_keywords(word) == [word]:\n",
    "            candidates.append(word)\n",
    "    return candidates"
   ]
  },
  {
   "cell_type": "code",
   "execution_count": 43,
   "metadata": {},
   "outputs": [
    {
     "name": "stdout",
     "output_type": "stream",
     "text": [
      "495\n"
     ]
    }
   ],
   "source": [
    "print(len(get_all_candidates('пейзажы')))"
   ]
  },
  {
   "cell_type": "code",
   "execution_count": 44,
   "metadata": {},
   "outputs": [
    {
     "name": "stdout",
     "output_type": "stream",
     "text": [
      "['пейзаж', 'пейзаже', 'пейзажи', 'пейзажа', 'пейзажу', 'пейзажны', 'пейзаны']\n",
      "CPU times: user 23.8 s, sys: 16 ms, total: 23.8 s\n",
      "Wall time: 24.1 s\n"
     ]
    }
   ],
   "source": [
    "%%time\n",
    "print(kill_candidates('пейзажы'))"
   ]
  },
  {
   "cell_type": "markdown",
   "metadata": {},
   "source": [
    "## Вероятности на словарных биграммах nltk"
   ]
  },
  {
   "cell_type": "code",
   "execution_count": 21,
   "metadata": {},
   "outputs": [
    {
     "name": "stderr",
     "output_type": "stream",
     "text": [
      "Using TensorFlow backend.\n"
     ]
    }
   ],
   "source": [
    "import nltk\n",
    "\n",
    "from sklearn.utils import shuffle\n",
    "\n",
    "from keras.preprocessing.text import Tokenizer\n",
    "from keras.preprocessing.sequence import pad_sequences"
   ]
  },
  {
   "cell_type": "code",
   "execution_count": 27,
   "metadata": {},
   "outputs": [
    {
     "name": "stdout",
     "output_type": "stream",
     "text": [
      "['марса', 'он', 'был', 'открыт', 'декабря', 'года', 'американским', 'астрономом', 'любителем', 'чарльзом']\n"
     ]
    }
   ],
   "source": [
    "wiki_texts = train_wiki.wiki_texts\n",
    "wiki_tokens = [word for text in wiki_texts for word in text.split()]\n",
    "print(wiki_tokens[10:20])"
   ]
  },
  {
   "cell_type": "code",
   "execution_count": 29,
   "metadata": {
    "collapsed": true
   },
   "outputs": [],
   "source": [
    "wiki_freq = nltk.FreqDist(wiki_tokens) #частотный словарь\n",
    "#wiki_freq = Counter(wiki_tokens)\n",
    "#wiki_freq"
   ]
  },
  {
   "cell_type": "code",
   "execution_count": 30,
   "metadata": {
    "collapsed": true
   },
   "outputs": [],
   "source": [
    "wiki_cfreq = nltk.ConditionalFreqDist(nltk.bigrams(wiki_tokens)) #словарь словарей для условных частот\n",
    "#wiki_cfreq['и']"
   ]
  },
  {
   "cell_type": "code",
   "execution_count": 31,
   "metadata": {
    "scrolled": true
   },
   "outputs": [
    {
     "name": "stdout",
     "output_type": "stream",
     "text": [
      "p(русский язык) = 0.1279\n",
      "p(в доме) = 0.0011\n",
      "p(солнечной системе) = 0.2558\n"
     ]
    }
   ],
   "source": [
    "cprob = nltk.ConditionalProbDist(wiki_cfreq, nltk.MLEProbDist) #словарь условных вероятностей\n",
    "\n",
    "print('p(русский язык) = %1.4f' %cprob['русский'].prob('язык'))\n",
    "print('p(в доме) = %1.4f' %cprob['в'].prob('доме'))\n",
    "print('p(солнечной системе) = %1.4f' %cprob['солнечной'].prob('системе'))"
   ]
  },
  {
   "cell_type": "code",
   "execution_count": 32,
   "metadata": {
    "collapsed": true
   },
   "outputs": [],
   "source": [
    "def select_best_candidate(candidates, left_context, right_context):\n",
    "    s = sum(dict(wiki_freq).values())\n",
    "    #cand_prob = dict(wiki_freq).get(cand)/s #априорная вероятность кандидата\n",
    "    \n",
    "    #считаем условные вероятности в контексте\n",
    "    if left_context: #если есть слово слева от ошибочного\n",
    "        if right_context: #если есть слово справа\n",
    "            cand_prob = [(cand, cprob[left_context].prob(cand) * \n",
    "                        cprob[cand].prob(right_context)) \n",
    "                         for cand in candidates]\n",
    "        else:\n",
    "            cand_prob = [(cand, cprob[left_context].prob(cand))\n",
    "                         for cand in candidates]\n",
    "            \n",
    "    else:\n",
    "        cand_prob = [(cand, cprob[cand].prob(right_context)) for cand in candidates]\n",
    "        \n",
    "    cand_rate = sorted(cand_prob, key = lambda column:column[1], reverse = True) #сортируем по вероятности \n",
    "    \n",
    "    if not(cand_rate[0][1]):\n",
    "        cand_aprior = [(cand, dict(wiki_freq).get(cand)/s) \n",
    "                       if dict(wiki_freq).get(cand) else (cand, 0) \n",
    "                       for cand in candidates]\n",
    "        cand_rate = sorted(cand_aprior, key = lambda column:column[1], reverse = True)\n",
    "        \n",
    "    return cand_rate[0][0], cand_rate[0][1]"
   ]
  },
  {
   "cell_type": "code",
   "execution_count": 52,
   "metadata": {},
   "outputs": [
    {
     "name": "stdout",
     "output_type": "stream",
     "text": [
      "пейзажы за окном какие то незнакомые\n"
     ]
    }
   ],
   "source": [
    "for text in train_df.wrong:\n",
    "    if 'пейзажы' in text:\n",
    "        print(text)"
   ]
  },
  {
   "cell_type": "code",
   "execution_count": 53,
   "metadata": {},
   "outputs": [
    {
     "data": {
      "text/html": [
       "<div>\n",
       "<style>\n",
       "    .dataframe thead tr:only-child th {\n",
       "        text-align: right;\n",
       "    }\n",
       "\n",
       "    .dataframe thead th {\n",
       "        text-align: left;\n",
       "    }\n",
       "\n",
       "    .dataframe tbody tr th {\n",
       "        vertical-align: top;\n",
       "    }\n",
       "</style>\n",
       "<table border=\"1\" class=\"dataframe\">\n",
       "  <thead>\n",
       "    <tr style=\"text-align: right;\">\n",
       "      <th></th>\n",
       "      <th>wrong</th>\n",
       "      <th>right</th>\n",
       "    </tr>\n",
       "  </thead>\n",
       "  <tbody>\n",
       "    <tr>\n",
       "      <th>9</th>\n",
       "      <td>пейзажы за окном какие то незнакомые</td>\n",
       "      <td>пейзажи за окном какие то незнакомые</td>\n",
       "    </tr>\n",
       "  </tbody>\n",
       "</table>\n",
       "</div>"
      ],
      "text/plain": [
       "                                  wrong                                 right\n",
       "9  пейзажы за окном какие то незнакомые  пейзажи за окном какие то незнакомые"
      ]
     },
     "execution_count": 53,
     "metadata": {},
     "output_type": "execute_result"
    }
   ],
   "source": [
    "train_df[train_df.wrong == 'пейзажы за окном какие то незнакомые']"
   ]
  },
  {
   "cell_type": "code",
   "execution_count": 54,
   "metadata": {},
   "outputs": [
    {
     "data": {
      "text/plain": [
       "12"
      ]
     },
     "execution_count": 54,
     "metadata": {},
     "output_type": "execute_result"
    }
   ],
   "source": [
    "dict(wiki_freq).get('пейзажи')"
   ]
  },
  {
   "cell_type": "code",
   "execution_count": 208,
   "metadata": {},
   "outputs": [
    {
     "data": {
      "text/plain": [
       "('пейзажи', 6.612932912897754e-06)"
      ]
     },
     "execution_count": 208,
     "metadata": {},
     "output_type": "execute_result"
    }
   ],
   "source": [
    "select_best_candidate(['пейзаж', 'пейзажа', 'пейзажны', 'пейзаны', 'пейзаже', 'пейзажу', 'пейзажи'], '', 'за')"
   ]
  },
  {
   "cell_type": "markdown",
   "metadata": {},
   "source": [
    "## Алгоритм спелл-чек"
   ]
  },
  {
   "cell_type": "markdown",
   "metadata": {},
   "source": [
    "1. Поиск ошибок в тексте\n",
    "2. Генерация кандидатов\n",
    "3. Убийство кандидатов: если список слов оказывается пустым после проверки по словарю, возвращаем искомое слово (на случай, если его вдруг не оказалось в нашем словаре)\n",
    "4. Считаем вероятность кандидата в контексте. Вставляем в текст кандидата с наибольшей вероятностью.\n",
    "5. Возвращаем новый исправленный текст."
   ]
  },
  {
   "cell_type": "code",
   "execution_count": 32,
   "metadata": {
    "collapsed": true
   },
   "outputs": [],
   "source": [
    "def spell_check(text):\n",
    "    left_context = ''\n",
    "    right_context = ''\n",
    "    text_correct = ''\n",
    "    probability = 0\n",
    "    #поиск ошибок\n",
    "    trigram_list = get_trigrams(text) #список строк, каждая строка - триграммы для одного слова\n",
    "    for i, trigrams_string in enumerate(trigram_list):\n",
    "        word = text.split()[i]\n",
    "        for trigram in trigrams_string.split():\n",
    "            if not(trigram_wiki_model.get(trigram)) or \\\n",
    "            (trigram_wiki_model.get(trigram) < (10/8297222)):\n",
    "                if ' ' + word + ' ' not in rucorpora_dict:\n",
    "                    #print(word)\n",
    "                    \n",
    "                    #генерируем кандидатов + убираем невозможные по 3-грамной модели, оставшиеся проверяем по словарю\n",
    "                    candidates = kill_candidates(word)\n",
    "                    \n",
    "                    #print(candidates)\n",
    "                    if (candidates): #если множество оставшихся кандидатов не пустое\n",
    "                        if(i > 0): #если слово не первое в тексте, находим левый контекст\n",
    "                            left_context = text.split()[i-1]\n",
    "                        if i + 1 < len(text.split()): # если слово не последнее в тексте\n",
    "                            right_context = text.split()[i+1]\n",
    "                        #определяем наиболее вероятного\n",
    "                        cand , probability = select_best_candidate(candidates, left_context, right_context)\n",
    "                        #print('Prob:', probability)\n",
    "                        if probability == 0:\n",
    "                            word = select_with_whitespace(cand)\n",
    "                        else:\n",
    "                            word = cand\n",
    "        text_correct += ' ' + word\n",
    "    return text_correct.strip()\n",
    "                "
   ]
  },
  {
   "cell_type": "code",
   "execution_count": 33,
   "metadata": {},
   "outputs": [
    {
     "data": {
      "text/plain": [
       "'усовершенстваванный алгоритм по сравнению с встроенным но работает только с английскими словами'"
      ]
     },
     "execution_count": 33,
     "metadata": {},
     "output_type": "execute_result"
    }
   ],
   "source": [
    "train_df.wrong[159]"
   ]
  },
  {
   "cell_type": "code",
   "execution_count": 283,
   "metadata": {},
   "outputs": [
    {
     "name": "stdout",
     "output_type": "stream",
     "text": [
      "CPU times: user 0 ns, sys: 0 ns, total: 0 ns\n",
      "Wall time: 679 µs\n"
     ]
    },
    {
     "data": {
      "text/plain": [
       "'усовершенстваванный алгоритм по сравнению с встроенным но работает только с английскими словами'"
      ]
     },
     "execution_count": 283,
     "metadata": {},
     "output_type": "execute_result"
    }
   ],
   "source": [
    "%%time\n",
    "spell_check(train_df.wrong[159])"
   ]
  },
  {
   "cell_type": "code",
   "execution_count": 269,
   "metadata": {},
   "outputs": [
    {
     "name": "stdout",
     "output_type": "stream",
     "text": [
      "CPU times: user 24.9 s, sys: 88 ms, total: 25 s\n",
      "Wall time: 25.9 s\n"
     ]
    },
    {
     "data": {
      "text/plain": [
       "'какието пейзажи за окном незнакомые'"
      ]
     },
     "execution_count": 269,
     "metadata": {},
     "output_type": "execute_result"
    }
   ],
   "source": [
    "%%time\n",
    "spell_check('какието пейзажы за окном незнакомые')"
   ]
  },
  {
   "cell_type": "code",
   "execution_count": 271,
   "metadata": {},
   "outputs": [
    {
     "data": {
      "text/plain": [
       "['такойже']"
      ]
     },
     "execution_count": 271,
     "metadata": {},
     "output_type": "execute_result"
    }
   ],
   "source": [
    "search_errors(train_df.wrong[1])"
   ]
  },
  {
   "cell_type": "markdown",
   "metadata": {},
   "source": [
    "## Ура! Хотя бы на одном предложении сработало"
   ]
  },
  {
   "cell_type": "code",
   "execution_count": 62,
   "metadata": {
    "scrolled": true
   },
   "outputs": [
    {
     "name": "stderr",
     "output_type": "stream",
     "text": [
      "\r",
      "  0%|          | 0/15 [00:00<?, ?it/s]"
     ]
    },
    {
     "ename": "KeyboardInterrupt",
     "evalue": "",
     "output_type": "error",
     "traceback": [
      "\u001b[0;31m---------------------------------------------------------------------------\u001b[0m",
      "\u001b[0;31mKeyboardInterrupt\u001b[0m                         Traceback (most recent call last)",
      "\u001b[0;32m<ipython-input-62-6d181b5ec169>\u001b[0m in \u001b[0;36m<module>\u001b[0;34m()\u001b[0m\n\u001b[1;32m      1\u001b[0m \u001b[0mtexts_correct\u001b[0m \u001b[0;34m=\u001b[0m \u001b[0;34m[\u001b[0m\u001b[0;34m]\u001b[0m\u001b[0;34m\u001b[0m\u001b[0m\n\u001b[1;32m      2\u001b[0m \u001b[0;32mfor\u001b[0m \u001b[0mtext\u001b[0m \u001b[0;32min\u001b[0m \u001b[0mtqdm\u001b[0m\u001b[0;34m(\u001b[0m\u001b[0mtrain_df\u001b[0m\u001b[0;34m.\u001b[0m\u001b[0mwrong\u001b[0m\u001b[0;34m.\u001b[0m\u001b[0mvalues\u001b[0m\u001b[0;34m[\u001b[0m\u001b[0;34m:\u001b[0m\u001b[0;36m15\u001b[0m\u001b[0;34m]\u001b[0m\u001b[0;34m)\u001b[0m\u001b[0;34m:\u001b[0m\u001b[0;34m\u001b[0m\u001b[0m\n\u001b[0;32m----> 3\u001b[0;31m     \u001b[0mtexts_correct\u001b[0m\u001b[0;34m.\u001b[0m\u001b[0mappend\u001b[0m\u001b[0;34m(\u001b[0m\u001b[0mspell_check\u001b[0m\u001b[0;34m(\u001b[0m\u001b[0mtext\u001b[0m\u001b[0;34m)\u001b[0m\u001b[0;34m)\u001b[0m\u001b[0;34m\u001b[0m\u001b[0m\n\u001b[0m",
      "\u001b[0;32m<ipython-input-57-5a537b8b12de>\u001b[0m in \u001b[0;36mspell_check\u001b[0;34m(text)\u001b[0m\n\u001b[1;32m     14\u001b[0m \u001b[0;34m\u001b[0m\u001b[0m\n\u001b[1;32m     15\u001b[0m                     \u001b[0;31m#генерируем кандидатов + убираем невозможные по 3-грамной модели, оставшиеся проверяем по словарю\u001b[0m\u001b[0;34m\u001b[0m\u001b[0;34m\u001b[0m\u001b[0m\n\u001b[0;32m---> 16\u001b[0;31m                     \u001b[0mcandidates\u001b[0m \u001b[0;34m=\u001b[0m \u001b[0mkill_candidates\u001b[0m\u001b[0;34m(\u001b[0m\u001b[0mword\u001b[0m\u001b[0;34m)\u001b[0m\u001b[0;34m\u001b[0m\u001b[0m\n\u001b[0m\u001b[1;32m     17\u001b[0m                     \u001b[0;31m#print(candidates)\u001b[0m\u001b[0;34m\u001b[0m\u001b[0;34m\u001b[0m\u001b[0m\n\u001b[1;32m     18\u001b[0m                     \u001b[0;32mif\u001b[0m \u001b[0;34m(\u001b[0m\u001b[0mcandidates\u001b[0m\u001b[0;34m)\u001b[0m\u001b[0;34m:\u001b[0m \u001b[0;31m#если множество оставшихся кандидатов не пустое\u001b[0m\u001b[0;34m\u001b[0m\u001b[0m\n",
      "\u001b[0;32m<ipython-input-42-48ac5be0625b>\u001b[0m in \u001b[0;36mkill_candidates\u001b[0;34m(error_word)\u001b[0m\n\u001b[1;32m      6\u001b[0m             \u001b[0;32mif\u001b[0m \u001b[0;32mnot\u001b[0m\u001b[0;34m(\u001b[0m\u001b[0mtrigram_wiki_model\u001b[0m\u001b[0;34m.\u001b[0m\u001b[0mget\u001b[0m\u001b[0;34m(\u001b[0m\u001b[0mtrigram\u001b[0m\u001b[0;34m)\u001b[0m\u001b[0;34m)\u001b[0m\u001b[0;34m:\u001b[0m\u001b[0;34m\u001b[0m\u001b[0m\n\u001b[1;32m      7\u001b[0m                 \u001b[0;32mbreak\u001b[0m\u001b[0;34m\u001b[0m\u001b[0m\n\u001b[0;32m----> 8\u001b[0;31m         \u001b[0;32mif\u001b[0m \u001b[0;34m' '\u001b[0m\u001b[0;34m+\u001b[0m \u001b[0mword\u001b[0m \u001b[0;34m+\u001b[0m \u001b[0;34m' '\u001b[0m \u001b[0;32min\u001b[0m \u001b[0mrucorpora_dict\u001b[0m\u001b[0;34m:\u001b[0m\u001b[0;34m\u001b[0m\u001b[0m\n\u001b[0m\u001b[1;32m      9\u001b[0m                     \u001b[0mcandidates\u001b[0m\u001b[0;34m.\u001b[0m\u001b[0mappend\u001b[0m\u001b[0;34m(\u001b[0m\u001b[0mword\u001b[0m\u001b[0;34m)\u001b[0m\u001b[0;34m\u001b[0m\u001b[0m\n\u001b[1;32m     10\u001b[0m     \u001b[0;32mreturn\u001b[0m \u001b[0mcandidates\u001b[0m\u001b[0;34m\u001b[0m\u001b[0m\n",
      "\u001b[0;31mKeyboardInterrupt\u001b[0m: "
     ]
    }
   ],
   "source": [
    "texts_correct = []\n",
    "for text in tqdm(train_df.wrong.values[:15]):\n",
    "    texts_correct.append(spell_check(text))"
   ]
  },
  {
   "cell_type": "code",
   "execution_count": 193,
   "metadata": {},
   "outputs": [
    {
     "name": "stdout",
     "output_type": "stream",
     "text": [
      "['тоесть если дамой то только в том случае если потеряю работу в сентябре'\n",
      " 'но если у меня характер будет такойже как хотя бы у одного из них я продам свою почку а на все вырученные деньги накуплю герлянд'\n",
      " 'делать осьминогов из одуванчиков и куколок из шиповника'\n",
      " 'вальс в па внимание будет под другую музыку с переходом местами на обычный вальс подробная схема будет выложена'\n",
      " 'зима подходит к завершению а мне только сейчас удалось выбраться на каток'\n",
      " 'ей в общем то все равно было на кого учиться лишь бы мама с папой не переживали что у них девочка не пристроена'\n",
      " 'я пью кофе не ради проснуться а ради процесса сделать себе вкусный напиток в красивую чашку положить серебрянной ложкой сахар добавить горячего молока чтоб кофе оставался еще дольше горячим и дымчатым и наслаждаться кайфовать медитировать в течении хотя бы нескольких минут в день'\n",
      " 'делая недюженные усилия над собой я таки выкарабкиваюсь из машины через заднюю дверь отползаю на обочину и видя как в сторону машины бегут какието люди отрубаюсь'\n",
      " 'ударение в фамилие уже наверно плавно переехало с первого слога на последний'\n",
      " 'пейзажы за окном какие то незнакомые'\n",
      " 'самыи прикол в том что делая дела в своеи жизни мы этими делами показываем отношение к близким своим а когда много гадости сделано но попятную уже не как слишком многих обидели'\n",
      " 'все ничего но главная фишка этой игры как было заявлено это чуть ли не милион разных стволов генерирующихся случайным образом'\n",
      " 'тогдасоответственно говорят о язычной гортанной или носоглоточной ангине'\n",
      " 'интересно как там работа объективов регулируется'\n",
      " 'да там их мало конешно и я бил силно пян и вспишка села и обектив не тот']\n"
     ]
    }
   ],
   "source": [
    "print(train_df.wrong.values[:15])"
   ]
  },
  {
   "cell_type": "code",
   "execution_count": 190,
   "metadata": {},
   "outputs": [
    {
     "data": {
      "text/plain": [
       "['тоесть если дамой то только в том случае если потеряю работу в сентябре',\n",
       " 'но если у меня характер будет такойже как хотя бы у одного из них я продам свою почку а на все вырученные деньги накуплю герлянд',\n",
       " 'делать осьминогов из одуванчиков и куколок из шиповника',\n",
       " 'вальс в па внимание будет под другую музыку с переходом местами на обычный вальс подробная схема будет выложена',\n",
       " 'зима подходит к завершению а мне только сейчас удалось выбраться на каток',\n",
       " 'ей в общем то все равно было на кого учиться лишь бы мама с папой не переживали что у них девочка не пристроена',\n",
       " 'я пью кофе не ради проснуться а ради процесса сделать себе вкусный напиток в красивую чашку положить серебрянной ложкой сахар добавить горячего молока чтоб кофе оставался еще дольше горячим и дымчатым и наслаждаться кайфовать медитировать в течении хотя бы нескольких минут в день',\n",
       " 'делая недюжинные усилия над собой я таки выкарабкиваюсь из машины через заднюю дверь отползаю на обочину и видя как в сторону машины бегут какието люди отрубаюсь',\n",
       " 'ударение в фамилие уже наверно плавно переехало с первого слога на последний',\n",
       " 'пейзажи за окном какие то незнакомые',\n",
       " 'самых прикол в том что делая дела в своей жизни мы этими делами показываем отношение к близким своим а когда много гадости сделано но попятную уже не как слишком многих обидели',\n",
       " 'все ничего но главная фишка этой игры как было заявлено это чуть ли не милион разных стволов генерирующихся случайным образом',\n",
       " 'тогдасоответственно говорят о язычной гортанной или носоглоточной ангине',\n",
       " 'интересно как там работа объективов регулируется',\n",
       " 'да там их мало конешно и я бил силно пян и вспишка села и обектив не тот']"
      ]
     },
     "execution_count": 190,
     "metadata": {},
     "output_type": "execute_result"
    }
   ],
   "source": [
    "texts_correct"
   ]
  },
  {
   "cell_type": "markdown",
   "metadata": {},
   "source": [
    "В первых 15 предложениях за почти 7 минут исправились 2 ошибки:\n",
    "недюжинные, пейзажи\n",
    "\n",
    "Остальные ошибки:\n",
    "тоесть, такойже, тогдасоответственно, какието  - не могли исправить\n",
    "милион, фамилие, конешно - думаю, что даже не нашли "
   ]
  },
  {
   "cell_type": "markdown",
   "metadata": {
    "collapsed": true
   },
   "source": [
    "## TODO\n",
    "1. Добавить генерацию кандидатов с пробелами\n",
    "2. Убрать проверку кандидатов по словарю, сразу переходить к вероятностям (?)\n",
    "3. Быстрый поиск по словарю."
   ]
  },
  {
   "cell_type": "code",
   "execution_count": 23,
   "metadata": {
    "collapsed": true
   },
   "outputs": [],
   "source": [
    "def insert_whitespace(word):\n",
    "    space = ' '\n",
    "    cursor = [(word[:i], word[i:]) for i in range(len(word) + 1)]\n",
    "    insert = [L + l + R for l in space for (L,R) in cursor]\n",
    "    return insert"
   ]
  },
  {
   "cell_type": "code",
   "execution_count": 24,
   "metadata": {
    "collapsed": true
   },
   "outputs": [],
   "source": [
    "def aprior_probability(word):\n",
    "    word_aprior = 0\n",
    "    s = sum(dict(wiki_freq).values())\n",
    "    if dict(wiki_freq).get(word):\n",
    "        word_aprior = dict(wiki_freq).get(word)/s\n",
    "    else:\n",
    "        word_aprior = 0\n",
    "    return word_aprior"
   ]
  },
  {
   "cell_type": "code",
   "execution_count": 25,
   "metadata": {
    "collapsed": true
   },
   "outputs": [],
   "source": [
    "def select_with_whitespace(word):\n",
    "    candidates = insert_whitespace(word)\n",
    "    words = []\n",
    "    probs = []\n",
    "    for cand in candidates:\n",
    "        cand = cand.split()\n",
    "        if len(cand) == 2:\n",
    "            probability = aprior_probability(cand[0])*aprior_probability(cand[1])\n",
    "            words.append(' '.join(cand))\n",
    "            probs.append(probability)\n",
    "    cands = list(reversed(sorted(zip(words, probs), key=lambda x: x[1])))\n",
    "#    final_word = ''. join([word[0] for word in cands if word[1]>0])\n",
    "    \n",
    "    return cands[0]"
   ]
  },
  {
   "cell_type": "code",
   "execution_count": 33,
   "metadata": {},
   "outputs": [
    {
     "name": "stdout",
     "output_type": "stream",
     "text": [
      "какие то 2.3022487100499806e-08\n"
     ]
    }
   ],
   "source": [
    "cand, prob = select_with_whitespace('какието')\n",
    "print(cand, prob)"
   ]
  },
  {
   "cell_type": "markdown",
   "metadata": {},
   "source": [
    "### Быстрый поиск"
   ]
  },
  {
   "cell_type": "code",
   "execution_count": 18,
   "metadata": {
    "collapsed": true
   },
   "outputs": [],
   "source": [
    "from flashtext import KeywordProcessor\n",
    "keyword_processor = KeywordProcessor()"
   ]
  },
  {
   "cell_type": "code",
   "execution_count": 19,
   "metadata": {
    "collapsed": true
   },
   "outputs": [],
   "source": [
    "keyword_processor.add_keywords_from_list(rucorpora_dict.split())"
   ]
  },
  {
   "cell_type": "code",
   "execution_count": 70,
   "metadata": {},
   "outputs": [
    {
     "data": {
      "text/plain": [
       "['пейзаж']"
      ]
     },
     "execution_count": 70,
     "metadata": {},
     "output_type": "execute_result"
    }
   ],
   "source": [
    "keyword_processor.extract_keywords('пейзаж')"
   ]
  },
  {
   "cell_type": "code",
   "execution_count": 73,
   "metadata": {},
   "outputs": [
    {
     "data": {
      "text/plain": [
       "['вёдрами']"
      ]
     },
     "execution_count": 73,
     "metadata": {},
     "output_type": "execute_result"
    }
   ],
   "source": [
    "keyword_processor.extract_keywords('вёдрами') # == ['ведрами']"
   ]
  },
  {
   "cell_type": "code",
   "execution_count": 46,
   "metadata": {
    "collapsed": true
   },
   "outputs": [],
   "source": [
    "def search_errors_dict(text):\n",
    "    errors = []\n",
    "    for word in text.split():\n",
    "        if not keyword_processor.extract_keywords(word) == [word]:\n",
    "            errors.append(word)\n",
    "    return errors"
   ]
  },
  {
   "cell_type": "code",
   "execution_count": 47,
   "metadata": {},
   "outputs": [
    {
     "name": "stderr",
     "output_type": "stream",
     "text": [
      "100%|████████████████████████████████████| 3000/3000 [00:00<00:00, 3348.02it/s]\n"
     ]
    }
   ],
   "source": [
    "all_errors = []\n",
    "for text in tqdm(train_df.wrong):\n",
    "    all_errors.extend(search_errors_dict(text))"
   ]
  },
  {
   "cell_type": "code",
   "execution_count": 48,
   "metadata": {
    "scrolled": true
   },
   "outputs": [
    {
     "data": {
      "text/plain": [
       "['тоесть',\n",
       " 'такойже',\n",
       " 'герлянд',\n",
       " 'серебрянной',\n",
       " 'еще',\n",
       " 'недюженные',\n",
       " 'какието',\n",
       " 'фамилие',\n",
       " 'пейзажы',\n",
       " 'самыи',\n",
       " 'своеи',\n",
       " 'милион',\n",
       " 'тогдасоответственно',\n",
       " 'конешно',\n",
       " 'силно',\n",
       " 'пян',\n",
       " 'вспишка',\n",
       " 'обектив',\n",
       " 'черном',\n",
       " 'написанно',\n",
       " 'переконвертить',\n",
       " 'музончик',\n",
       " 'зачетный',\n",
       " 'почемуто',\n",
       " 'ее',\n",
       " 'сво',\n",
       " 'конешно',\n",
       " 'щастье',\n",
       " 'спатифиллум',\n",
       " 'вобще',\n",
       " 'никоглда',\n",
       " 'отличаються',\n",
       " 'хочеться',\n",
       " 'четко',\n",
       " 'пролжительность',\n",
       " 'небльшая',\n",
       " 'днем',\n",
       " 'собстно',\n",
       " 'учетом',\n",
       " 'свое',\n",
       " 'вобщем',\n",
       " 'замерз',\n",
       " 'сейцас',\n",
       " 'еще',\n",
       " 'ещее',\n",
       " 'тыш',\n",
       " 'расжился',\n",
       " 'естесственно',\n",
       " 'както',\n",
       " 'подощрительно',\n",
       " 'еще',\n",
       " 'ее',\n",
       " 'вообщем',\n",
       " 'прошел',\n",
       " 'разьве',\n",
       " 'пескин',\n",
       " 'серьезное',\n",
       " 'универа',\n",
       " 'ранво',\n",
       " 'матану',\n",
       " 'преподше',\n",
       " 'замерзнуть',\n",
       " 'клафилина',\n",
       " 'ниче',\n",
       " 'четвертый',\n",
       " 'получаеться',\n",
       " 'отпразную',\n",
       " 'проостите',\n",
       " 'милиардер',\n",
       " 'меркле',\n",
       " 'свое',\n",
       " 'черный',\n",
       " 'можо',\n",
       " 'еще',\n",
       " 'можнго',\n",
       " 'живет',\n",
       " 'переодически',\n",
       " 'навверное',\n",
       " 'вобщем',\n",
       " 'когдато',\n",
       " 'вообщем',\n",
       " 'вкурсе',\n",
       " 'нравяться',\n",
       " 'преинтерснейшее',\n",
       " 'платежных',\n",
       " 'вродь',\n",
       " 'разгодать',\n",
       " 'видете',\n",
       " 'еще',\n",
       " 'естесственно',\n",
       " 'опсомания',\n",
       " 'првязанность',\n",
       " 'удоволствие',\n",
       " 'проведенного',\n",
       " 'счет',\n",
       " 'любю',\n",
       " 'йпри',\n",
       " 'хизбаллы',\n",
       " 'дабаа',\n",
       " 'ксейр',\n",
       " 'еще',\n",
       " 'далеком',\n",
       " 'поведйте',\n",
       " 'плиз',\n",
       " 'ведет',\n",
       " 'дасто',\n",
       " 'легке',\n",
       " 'конешно',\n",
       " 'льет',\n",
       " 'монсерат',\n",
       " 'следущий',\n",
       " 'седня',\n",
       " 'прадажа',\n",
       " 'воопще',\n",
       " 'празник',\n",
       " 'прошел',\n",
       " 'седня',\n",
       " 'позвонимши',\n",
       " 'мильон',\n",
       " 'ваще',\n",
       " 'изза',\n",
       " 'какогото',\n",
       " 'кароче',\n",
       " 'найдешь',\n",
       " 'ктото',\n",
       " 'мое',\n",
       " 'севершенно',\n",
       " 'нмного',\n",
       " 'черезчур',\n",
       " 'неопределнное',\n",
       " 'неопределенное',\n",
       " 'обчным',\n",
       " 'провниция',\n",
       " 'всмысле',\n",
       " 'причем',\n",
       " 'четкость',\n",
       " 'ее',\n",
       " 'кстате',\n",
       " 'отношуся',\n",
       " 'следущие',\n",
       " 'золотозубая',\n",
       " 'отвественность',\n",
       " 'мущщину',\n",
       " 'мачовсе',\n",
       " 'презванивает',\n",
       " 'говрит',\n",
       " 'божеупаси',\n",
       " 'ктонибудь',\n",
       " 'шилинг',\n",
       " 'нарасно',\n",
       " 'поймете',\n",
       " 'свое',\n",
       " 'руский',\n",
       " 'кароче',\n",
       " 'оч',\n",
       " 'както',\n",
       " 'ребенок',\n",
       " 'нравиццо',\n",
       " 'прердлагаю',\n",
       " 'отгараживать',\n",
       " 'вопщем',\n",
       " 'громадье',\n",
       " 'усовершенстваванный',\n",
       " 'чесно',\n",
       " 'еще',\n",
       " 'болезньматки',\n",
       " 'чегой',\n",
       " 'мысле',\n",
       " 'ревешь',\n",
       " 'изза',\n",
       " 'члетел',\n",
       " 'тоесть',\n",
       " 'передаеться',\n",
       " 'чтото',\n",
       " 'както',\n",
       " 'напряге',\n",
       " 'собстно',\n",
       " 'еще',\n",
       " 'еще',\n",
       " 'поелетим',\n",
       " 'ндфл',\n",
       " 'неприменно',\n",
       " 'посмортишь',\n",
       " 'канечно',\n",
       " 'нео',\n",
       " 'чень',\n",
       " 'бошка',\n",
       " 'зделать',\n",
       " 'простеньки',\n",
       " 'укозательный',\n",
       " 'теща',\n",
       " 'запишим',\n",
       " 'ее',\n",
       " 'маргеналов',\n",
       " 'бедт',\n",
       " 'ненавидить',\n",
       " 'вобщем',\n",
       " 'ее',\n",
       " 'черный',\n",
       " 'лучшым',\n",
       " 'вобщем',\n",
       " 'кагбэ',\n",
       " 'ребенок',\n",
       " 'ее',\n",
       " 'полстола',\n",
       " 'такои',\n",
       " 'небыло',\n",
       " 'агенство',\n",
       " 'навидят',\n",
       " 'привез',\n",
       " 'хочеться',\n",
       " 'обажаю',\n",
       " 'канечно',\n",
       " 'зеленых',\n",
       " 'элькой',\n",
       " 'озерском',\n",
       " 'веедерн',\n",
       " 'ветренно',\n",
       " 'профилактически',\n",
       " 'чтото',\n",
       " 'чувствуеться',\n",
       " 'рулем',\n",
       " 'совецкий',\n",
       " 'рыпки',\n",
       " 'симпотичный',\n",
       " 'полседний',\n",
       " 'котрый',\n",
       " 'каааак',\n",
       " 'развернется',\n",
       " 'тогдя',\n",
       " 'ргб',\n",
       " 'барыжит',\n",
       " 'спаособность',\n",
       " 'совршенно',\n",
       " 'мативацию',\n",
       " 'одночеством',\n",
       " 'блеклым',\n",
       " 'помошник',\n",
       " 'журнолисты',\n",
       " 'нащщот',\n",
       " 'наверна',\n",
       " 'смотрица',\n",
       " 'зареванная',\n",
       " 'дефачка',\n",
       " 'дяченки',\n",
       " 'олди',\n",
       " 'ило',\n",
       " 'санчес',\n",
       " 'кошунство',\n",
       " 'разойдемся',\n",
       " 'никсу',\n",
       " 'вообщем',\n",
       " 'хоршо',\n",
       " 'просмотер',\n",
       " 'контакти',\n",
       " 'нравяться',\n",
       " 'актеры',\n",
       " 'причем',\n",
       " 'оооочень',\n",
       " 'оптять',\n",
       " 'универом',\n",
       " 'вообщем',\n",
       " 'оплаьа',\n",
       " 'своем',\n",
       " 'начальнег',\n",
       " 'приемлимый',\n",
       " 'ваще',\n",
       " 'докукурузные',\n",
       " 'пшенку',\n",
       " 'врет',\n",
       " 'берем',\n",
       " 'миллибенд',\n",
       " 'вернется',\n",
       " 'естесственно',\n",
       " 'збоку',\n",
       " 'раскатаной',\n",
       " 'создаем',\n",
       " 'обьем',\n",
       " 'мужык',\n",
       " 'партнерши',\n",
       " 'ученые',\n",
       " 'тоесть',\n",
       " 'ранво',\n",
       " 'еще',\n",
       " 'свое',\n",
       " 'девченки',\n",
       " 'кефирчиком',\n",
       " 'довышивать',\n",
       " 'отчетец',\n",
       " 'ниче',\n",
       " 'вообщем',\n",
       " 'маккейна',\n",
       " 'шенемана',\n",
       " 'шенеман',\n",
       " 'передает',\n",
       " 'написпл',\n",
       " 'обяснил',\n",
       " 'сначало',\n",
       " 'вообщем',\n",
       " 'гайцы',\n",
       " 'проблемнная',\n",
       " 'черные',\n",
       " 'хороше',\n",
       " 'теоретизированое',\n",
       " 'както',\n",
       " 'серьезные',\n",
       " 'неодназначное',\n",
       " 'тяжелая',\n",
       " 'внутрениий',\n",
       " 'стороятся',\n",
       " 'прально',\n",
       " 'помошник',\n",
       " 'ее',\n",
       " 'сволачи',\n",
       " 'начаили',\n",
       " 'текилки',\n",
       " 'трех',\n",
       " 'отчет',\n",
       " 'обажаю',\n",
       " 'элкетроинструменты',\n",
       " 'интсрументы',\n",
       " 'вобще',\n",
       " 'всеже',\n",
       " 'потомушто',\n",
       " 'кривоте',\n",
       " 'порсто',\n",
       " 'ее',\n",
       " 'инста',\n",
       " 'вощем',\n",
       " 'ужос',\n",
       " 'хочеца',\n",
       " 'мошный',\n",
       " 'зашел',\n",
       " 'отчегоже',\n",
       " 'всера',\n",
       " 'небыло',\n",
       " 'зачеркивает',\n",
       " 'ребенка',\n",
       " 'естесственно',\n",
       " 'вобщем',\n",
       " 'жизне',\n",
       " 'тепер',\n",
       " 'хочеться',\n",
       " 'зашел',\n",
       " 'важейшие',\n",
       " 'еще',\n",
       " 'забоились',\n",
       " 'потомучто',\n",
       " 'нефиг',\n",
       " 'несет',\n",
       " 'плошадку',\n",
       " 'идет',\n",
       " 'нибуть',\n",
       " 'режисер',\n",
       " 'лутче',\n",
       " 'блетчли',\n",
       " 'кстате',\n",
       " 'такскаать',\n",
       " 'неочень',\n",
       " 'преспособление',\n",
       " 'электрокалорифера',\n",
       " 'хочеться',\n",
       " 'обезательно',\n",
       " 'зделать',\n",
       " 'воопщим',\n",
       " 'разделеннный',\n",
       " 'снайдер',\n",
       " 'чтото',\n",
       " 'увидить',\n",
       " 'ее',\n",
       " 'полюбому',\n",
       " 'попадете',\n",
       " 'еще',\n",
       " 'наверна',\n",
       " 'весел',\n",
       " 'ваще',\n",
       " 'ограничте',\n",
       " 'ктоя',\n",
       " 'тоесть',\n",
       " 'кладываются',\n",
       " 'мозные',\n",
       " 'ых',\n",
       " 'помошник',\n",
       " 'учавствовать',\n",
       " 'расщифровать',\n",
       " 'вобщем',\n",
       " 'еще',\n",
       " 'када',\n",
       " 'этож',\n",
       " 'прощаите',\n",
       " 'сдесь',\n",
       " 'реклма',\n",
       " 'тетка',\n",
       " 'ктобы',\n",
       " 'ваще',\n",
       " 'информагентств',\n",
       " 'вообщем',\n",
       " 'очеь',\n",
       " 'мое',\n",
       " 'проржавшись',\n",
       " 'вобщем',\n",
       " 'колличество',\n",
       " 'трепа',\n",
       " 'ральные',\n",
       " 'ооочень',\n",
       " 'расталкала',\n",
       " 'сфоткалась',\n",
       " 'хваостаюсь',\n",
       " 'производствро',\n",
       " 'следущий',\n",
       " 'епахи',\n",
       " 'кстате',\n",
       " 'маленбких',\n",
       " 'теплую',\n",
       " 'хочеться',\n",
       " 'зделать',\n",
       " 'саиые',\n",
       " 'еще',\n",
       " 'програму',\n",
       " 'серебрянном',\n",
       " 'переодически',\n",
       " 'оочень',\n",
       " 'лекарствоми',\n",
       " 'еще',\n",
       " 'передает',\n",
       " 'однаклассники',\n",
       " 'обажаю',\n",
       " 'выглядет',\n",
       " 'четко',\n",
       " 'кароче',\n",
       " 'както',\n",
       " 'сення',\n",
       " 'дежурцве',\n",
       " 'харошая',\n",
       " 'чувстоввать',\n",
       " 'начнет',\n",
       " 'надеятся',\n",
       " 'свое',\n",
       " 'карловом',\n",
       " 'кстате',\n",
       " 'случайненько',\n",
       " 'живет',\n",
       " 'раене',\n",
       " 'проведенные',\n",
       " 'рассчетов',\n",
       " 'дипрессия',\n",
       " 'хотябы',\n",
       " 'настроене',\n",
       " 'какоето',\n",
       " 'наконецто',\n",
       " 'сбывающеся',\n",
       " 'флуд',\n",
       " 'мозк',\n",
       " 'девченки',\n",
       " 'призимлились',\n",
       " 'целоваццо',\n",
       " 'белянчикову',\n",
       " 'сдесь',\n",
       " 'паталогически',\n",
       " 'каааак',\n",
       " 'оооочень',\n",
       " 'сожелению',\n",
       " 'следущий',\n",
       " 'обойдется',\n",
       " 'вакуме',\n",
       " 'ниче',\n",
       " 'хосспади',\n",
       " 'щастье',\n",
       " 'друзя',\n",
       " 'мандражируют',\n",
       " 'незнаю',\n",
       " 'проведенные',\n",
       " 'скоко',\n",
       " 'естесственно',\n",
       " 'размазжил',\n",
       " 'бошку',\n",
       " 'понедельнег',\n",
       " 'кравиво',\n",
       " 'зашкаливал',\n",
       " 'которымя',\n",
       " 'собссно',\n",
       " 'интеренсо',\n",
       " 'аткое',\n",
       " 'днем',\n",
       " 'прото',\n",
       " 'продкты',\n",
       " 'перессказывать',\n",
       " 'елки',\n",
       " 'херово',\n",
       " 'ее',\n",
       " 'сногсшибальной',\n",
       " 'удеается',\n",
       " 'бплгодаря',\n",
       " 'ее',\n",
       " 'блекнет',\n",
       " 'кстате',\n",
       " 'познокомились',\n",
       " 'восем',\n",
       " 'обьяснение',\n",
       " 'сживется',\n",
       " 'незнаю',\n",
       " 'радываться',\n",
       " 'както',\n",
       " 'аркашка',\n",
       " 'молодежью',\n",
       " 'продюсированием',\n",
       " 'прихали',\n",
       " 'сяньян',\n",
       " 'маршруточками',\n",
       " 'посдравляю',\n",
       " 'неприменно',\n",
       " 'зделать',\n",
       " 'нитак',\n",
       " 'зделают',\n",
       " 'мерфи',\n",
       " 'значет',\n",
       " 'развивашки',\n",
       " 'универ',\n",
       " 'ооочень',\n",
       " 'универ',\n",
       " 'насчет',\n",
       " 'ее',\n",
       " 'темболее',\n",
       " 'обучно',\n",
       " 'сеъли',\n",
       " 'интерессные',\n",
       " 'твоем',\n",
       " 'небыло',\n",
       " 'неожидано',\n",
       " 'патамушта',\n",
       " 'психозащита',\n",
       " 'комуто',\n",
       " 'потмоу',\n",
       " 'сумашедший',\n",
       " 'приморцев',\n",
       " 'троллят',\n",
       " 'пробывать',\n",
       " 'подргрузился',\n",
       " 'получаеться',\n",
       " 'хочеться',\n",
       " 'зделать',\n",
       " 'мож',\n",
       " 'лутче',\n",
       " 'джабин',\n",
       " 'рулой',\n",
       " 'ничо',\n",
       " 'пятницца',\n",
       " 'саппортов',\n",
       " 'шмоться',\n",
       " 'всвязи',\n",
       " 'кокойто',\n",
       " 'ждем',\n",
       " 'растет',\n",
       " 'изза',\n",
       " 'прошедшых',\n",
       " 'сульптура',\n",
       " 'вобщем',\n",
       " 'ящека',\n",
       " 'никада',\n",
       " 'сегоня',\n",
       " 'загарать',\n",
       " 'засобирались',\n",
       " 'дотопали',\n",
       " 'златибор',\n",
       " 'вобще',\n",
       " 'посколько',\n",
       " 'отчет',\n",
       " 'приниципы',\n",
       " 'всмысле',\n",
       " 'неприменно',\n",
       " 'чтото',\n",
       " 'нето',\n",
       " 'отдаете',\n",
       " 'еще',\n",
       " 'неприменно',\n",
       " 'вобщем',\n",
       " 'тяжелое',\n",
       " 'вообщем',\n",
       " 'бабулька',\n",
       " 'вооот',\n",
       " 'маниторов',\n",
       " 'скачат',\n",
       " 'противречие',\n",
       " 'живет',\n",
       " 'девченки',\n",
       " 'наркоте',\n",
       " 'нада',\n",
       " 'мож',\n",
       " 'погкуляем',\n",
       " 'обязаательно',\n",
       " 'становица',\n",
       " 'еще',\n",
       " 'удалитъ',\n",
       " 'однокласниках',\n",
       " 'оочень',\n",
       " 'моральноустаревшегооо',\n",
       " 'иии',\n",
       " 'рассчеты',\n",
       " 'вообщем',\n",
       " 'зализает',\n",
       " 'шарится',\n",
       " 'болшему',\n",
       " 'лиш',\n",
       " 'ее',\n",
       " 'пассижир',\n",
       " 'счас',\n",
       " 'поду',\n",
       " 'штоли',\n",
       " 'наконецто',\n",
       " 'дерижер',\n",
       " 'кацман',\n",
       " 'мьюзик',\n",
       " 'мое',\n",
       " 'еще',\n",
       " 'седня',\n",
       " 'прыжочки',\n",
       " 'еще',\n",
       " 'посорилась',\n",
       " 'фотофайлом',\n",
       " 'еще',\n",
       " 'какимнить',\n",
       " 'лж',\n",
       " 'еще',\n",
       " 'проснется',\n",
       " 'встрепенется',\n",
       " 'микроминиатюры',\n",
       " 'вобщем',\n",
       " 'обдумывю',\n",
       " 'ободорала',\n",
       " 'обажаю',\n",
       " 'последок',\n",
       " 'ова',\n",
       " 'назимова',\n",
       " 'попрасила',\n",
       " 'потомучто',\n",
       " 'потомучто',\n",
       " 'интеренсо',\n",
       " 'небыло',\n",
       " 'универа',\n",
       " 'калясочников',\n",
       " 'блонди',\n",
       " 'реалити',\n",
       " 'скейтпарка',\n",
       " 'хочеться',\n",
       " 'еще',\n",
       " 'большенство',\n",
       " 'перепостивших',\n",
       " 'сочуствующие',\n",
       " 'креатифф',\n",
       " 'врядли',\n",
       " 'потомучто',\n",
       " 'небыло',\n",
       " 'теплых',\n",
       " 'мишани',\n",
       " 'ежика',\n",
       " 'дюши',\n",
       " 'еще',\n",
       " 'серьезных',\n",
       " 'ввиде',\n",
       " 'интересненько',\n",
       " 'стратусы',\n",
       " 'смшные',\n",
       " 'маленьку',\n",
       " 'живем',\n",
       " 'лиш',\n",
       " 'начнем',\n",
       " 'вперед',\n",
       " 'осушествлению',\n",
       " 'мягше',\n",
       " 'удовльствие',\n",
       " 'хз',\n",
       " 'ничо',\n",
       " 'пиарят',\n",
       " 'какогото',\n",
       " 'тансовщицу',\n",
       " 'заити',\n",
       " 'вконтакт',\n",
       " 'вообщем',\n",
       " 'роган',\n",
       " 'еще',\n",
       " 'некторые',\n",
       " 'обяснить',\n",
       " 'типо',\n",
       " 'достовляет',\n",
       " 'еще',\n",
       " 'встрехнуться',\n",
       " 'сездил',\n",
       " 'фотоапарат',\n",
       " 'проиошли',\n",
       " 'скилл',\n",
       " 'всвязи',\n",
       " 'молодежь',\n",
       " 'обсолютно',\n",
       " 'зделать',\n",
       " 'смеешься',\n",
       " 'цигун',\n",
       " 'цигун',\n",
       " 'смеешься',\n",
       " 'хочеться',\n",
       " 'съемок',\n",
       " 'съемкам',\n",
       " 'придает',\n",
       " 'емкость',\n",
       " 'прдолжение',\n",
       " 'рэмонт',\n",
       " 'зависить',\n",
       " 'свое',\n",
       " 'пыраюсь',\n",
       " 'еще',\n",
       " 'счет',\n",
       " 'хочеться',\n",
       " 'еще',\n",
       " 'индивидумов',\n",
       " 'когад',\n",
       " 'япостелила',\n",
       " 'пеленку',\n",
       " 'фотохостингом',\n",
       " 'всьоравно',\n",
       " 'ваще',\n",
       " 'всвязи',\n",
       " 'проэктом',\n",
       " 'краецкий',\n",
       " 'чегото',\n",
       " 'нада',\n",
       " 'буит',\n",
       " 'небыло',\n",
       " 'недоходили',\n",
       " 'сцылка',\n",
       " 'сейцас',\n",
       " 'руди',\n",
       " 'неудачь',\n",
       " 'попробывать',\n",
       " 'ее',\n",
       " 'неуравновешено',\n",
       " 'центрм',\n",
       " 'смещен',\n",
       " 'влева',\n",
       " 'черного',\n",
       " 'днем',\n",
       " 'седня',\n",
       " 'лосьончека',\n",
       " 'ваще',\n",
       " 'десктоп',\n",
       " 'конешно',\n",
       " 'преславутая',\n",
       " 'серьезных',\n",
       " 'огранизмы',\n",
       " 'отберем',\n",
       " 'переживет',\n",
       " 'ессно',\n",
       " 'эксурсоводы',\n",
       " 'чть',\n",
       " 'оочень',\n",
       " 'вобщем',\n",
       " 'присоеденишься',\n",
       " 'апплодировать',\n",
       " 'птом',\n",
       " 'оч',\n",
       " 'давольно',\n",
       " 'теплым',\n",
       " 'солнушком',\n",
       " 'меил',\n",
       " 'написаный',\n",
       " 'недлею',\n",
       " 'пособеседовать',\n",
       " 'совлаладав',\n",
       " 'рулем',\n",
       " 'живет',\n",
       " 'онтогинетически',\n",
       " 'психозащиты',\n",
       " 'ее',\n",
       " 'небыло',\n",
       " 'нагладно',\n",
       " 'еще',\n",
       " 'рассчет',\n",
       " 'еще',\n",
       " 'ооочень',\n",
       " 'угараздило',\n",
       " 'сфоткать',\n",
       " 'изза',\n",
       " 'собстно',\n",
       " 'социалки',\n",
       " 'аутоагонистофилия',\n",
       " 'мое',\n",
       " 'вобщем',\n",
       " 'рокенрола',\n",
       " 'никуогда',\n",
       " 'получаеться',\n",
       " 'ваще',\n",
       " 'поудивлялись',\n",
       " 'таик',\n",
       " 'сдесь',\n",
       " 'хочеться',\n",
       " 'зазырить',\n",
       " 'хороше',\n",
       " 'ассиметриям',\n",
       " 'видете',\n",
       " 'половозрлые',\n",
       " 'мегаплатья',\n",
       " 'отыхаем',\n",
       " 'этож',\n",
       " 'остаеться',\n",
       " 'сво',\n",
       " 'пожалуйсто',\n",
       " 'можна',\n",
       " 'всвязи',\n",
       " 'вперед',\n",
       " 'еще',\n",
       " 'всмысле',\n",
       " 'еще',\n",
       " 'веть',\n",
       " 'фсе',\n",
       " 'раецких',\n",
       " 'костел',\n",
       " 'освящен',\n",
       " 'ребенок',\n",
       " 'естессно',\n",
       " 'моск',\n",
       " 'свое',\n",
       " 'пьется',\n",
       " 'гарячим',\n",
       " 'гарячий',\n",
       " 'еслиб',\n",
       " 'льет',\n",
       " 'чота',\n",
       " 'схранил',\n",
       " 'отичае',\n",
       " 'одногрупника',\n",
       " 'всетаки',\n",
       " 'патаму',\n",
       " 'шта',\n",
       " 'вобщем',\n",
       " 'составитьт',\n",
       " 'историистановления',\n",
       " 'унас',\n",
       " 'зарубежем',\n",
       " 'машкиных',\n",
       " 'седня',\n",
       " 'азейрбаджан',\n",
       " 'навидеть',\n",
       " 'еше',\n",
       " 'магдалиновским',\n",
       " 'мое',\n",
       " 'нашел',\n",
       " 'прензидент',\n",
       " 'терменвокс',\n",
       " 'цымбала',\n",
       " 'нелезьте',\n",
       " 'кошелек',\n",
       " 'управлятьрасходами',\n",
       " 'всмысле',\n",
       " 'впринципе',\n",
       " 'еще',\n",
       " 'фэйри',\n",
       " 'неожидано',\n",
       " 'пузыречек',\n",
       " 'закеончится',\n",
       " 'днем',\n",
       " 'изза',\n",
       " 'осталомь',\n",
       " 'прихали',\n",
       " 'ктобы',\n",
       " 'ребенка',\n",
       " 'вощем',\n",
       " 'будеть',\n",
       " 'замерзла',\n",
       " 'канешна',\n",
       " 'востановление',\n",
       " 'онустал',\n",
       " 'всуровом',\n",
       " 'рязнань',\n",
       " 'счет',\n",
       " 'погда',\n",
       " 'втроем',\n",
       " 'самолет',\n",
       " 'тоесть',\n",
       " 'востановить',\n",
       " 'наконецто',\n",
       " 'щастливым',\n",
       " 'мужчиты',\n",
       " 'хто',\n",
       " 'кажеться',\n",
       " 'чтож',\n",
       " 'кагбэ',\n",
       " 'небыло',\n",
       " 'потртатить',\n",
       " 'платежной',\n",
       " 'зарание',\n",
       " 'всвязи',\n",
       " 'таблет',\n",
       " 'счет',\n",
       " 'прийдет',\n",
       " 'месеца',\n",
       " 'насчет',\n",
       " 'вообщем',\n",
       " 'поднмать',\n",
       " 'читаемсоть',\n",
       " 'легком',\n",
       " 'ничерта',\n",
       " 'завтро',\n",
       " 'рвет',\n",
       " 'изза',\n",
       " 'мега',\n",
       " 'хоршо',\n",
       " 'ненавидшь',\n",
       " 'мыслящаю',\n",
       " 'проичитал',\n",
       " 'удивленные',\n",
       " 'ктож',\n",
       " 'маршурт',\n",
       " 'незнаю',\n",
       " 'прстарайтесь',\n",
       " 'игенку',\n",
       " 'иезжей',\n",
       " 'еще',\n",
       " 'седня',\n",
       " 'электрогнигу',\n",
       " 'топлесс',\n",
       " 'никада',\n",
       " 'щитаю',\n",
       " 'дейстиве',\n",
       " 'ые',\n",
       " 'придеться',\n",
       " 'чортов',\n",
       " 'мя',\n",
       " 'буит',\n",
       " 'тоесть',\n",
       " 'шеколада',\n",
       " 'ее',\n",
       " 'кэрол',\n",
       " 'мэджио',\n",
       " 'обажаю',\n",
       " 'кривлятся',\n",
       " 'какогото',\n",
       " 'крутоко',\n",
       " 'офеса',\n",
       " 'неподеццки',\n",
       " 'биометрически',\n",
       " 'обфотографирована',\n",
       " 'еще',\n",
       " 'четверка',\n",
       " 'както',\n",
       " 'ниче',\n",
       " 'всетаки',\n",
       " 'былоб',\n",
       " 'остаеца',\n",
       " 'мое',\n",
       " 'ниде',\n",
       " 'заб',\n",
       " 'дте',\n",
       " 'воообще',\n",
       " 'ек',\n",
       " 'ащать',\n",
       " 'имеестся',\n",
       " 'паралельно',\n",
       " 'еще',\n",
       " 'ваще',\n",
       " 'плпыталась',\n",
       " 'кроординирует',\n",
       " 'движениие',\n",
       " 'наперед',\n",
       " 'изза',\n",
       " 'тушеный',\n",
       " 'очнеь',\n",
       " 'смягченная',\n",
       " 'увел',\n",
       " 'внутренее',\n",
       " 'возмоность',\n",
       " 'прото',\n",
       " 'присоединаюсь',\n",
       " 'небыло',\n",
       " 'основныой',\n",
       " 'рассказжу',\n",
       " 'поэтмоу',\n",
       " 'понмают',\n",
       " 'чтоы',\n",
       " 'желею',\n",
       " 'помойму',\n",
       " 'небыло',\n",
       " 'чота',\n",
       " 'сегодняшнй',\n",
       " 'гипроком',\n",
       " 'тоесть',\n",
       " 'несможет',\n",
       " 'выдти',\n",
       " 'деревяхи',\n",
       " 'ваще',\n",
       " 'оочень',\n",
       " 'погда',\n",
       " 'онвыгребает',\n",
       " 'ее',\n",
       " 'дает',\n",
       " 'живем',\n",
       " 'вобще',\n",
       " 'госкорпорации',\n",
       " 'ростеха',\n",
       " 'дваджы',\n",
       " 'еще',\n",
       " 'подделаная',\n",
       " 'помоему',\n",
       " ...]"
      ]
     },
     "execution_count": 48,
     "metadata": {},
     "output_type": "execute_result"
    }
   ],
   "source": [
    "all_errors"
   ]
  },
  {
   "cell_type": "code",
   "execution_count": 54,
   "metadata": {},
   "outputs": [
    {
     "name": "stdout",
     "output_type": "stream",
     "text": [
      "6 я пью кофе не ради проснуться а ради процесса сделать себе вкусный напиток в красивую чашку положить серебрянной ложкой сахар добавить горячего молока чтоб кофе оставался еще дольше горячим и дымчатым и наслаждаться кайфовать медитировать в течении хотя бы нескольких минут в день\n",
      "38 лен буду попозже сейцас в душ пойду и зарядку еще хочу сделать все хочу и хочу не пока не делаю\n",
      "40 ещее один вопрос волнует меня почему в одном из магазинов он стоит тыш когда везде\n",
      "50 масс старт в биатлоне впереди еще например\n",
      "70 еще можнго в бикини ходить зимой по системе иванова\n",
      "82 это еще хорошо что ты в рыбном журнале работаешь\n",
      "87 то есть размещение в пространстве таково что преподаватель ниже\n",
      "98 приближается облако гнева не давайте ему приблизиться но еще на далеком расстоянии разворачиваете его и направляйте в другую сторону\n",
      "160 чесно говоря это еще самая доброжелательная маска\n",
      "176 надо всегда идти дальше если того требует сердце разум или что то там еще внутри еще раз удачи\n",
      "257 мне еще тридцати нет а я уже ночью не сплю а слушаю свое сердце\n",
      "303 важейшие моменты нашей жизни мы связываем с богом вдруг забывая что еще вчера мы не забоились о его существовании\n",
      "306 на свежем воздухе кровь активнее насыщается кислородом быстрее несет кислород и питание к клеткам мозга усиливаются процессы окисления обмена веществ высвобождается так необходимая нам энергия рождаются новые биохимические соединения\n",
      "327 а еще наверна надо постыдиться и не писать этого но я все равно напишу\n",
      "338 весь день торчать дома да и еще в таком состоянии када нет сил что либо делать этож вскрыться можно\n",
      "370 а еще в последнее время периодически всплывают люди с которыми я уже очень давно не общаюсь\n",
      "376 он отметил что летом ему это еще не удалось толком сделать из за череды кризисных ситуаций передает телеканал\n",
      "503 а еще куда неприменно нужно съездить на острове\n",
      "523 кстати недели через две три после того сна был еще случай\n",
      "537 плюс хаус мьюзик не мое еще хореограф седня меня взбесила шажочки прыжочки еще разочек тьфу\n",
      "538 посорилась с фотофайлом как подружусь еще с какимнить ресурсом хранения картинок кроме лж плюс то выложу все сюда еще\n",
      "551 у себя в избранном сохранила ваш пост еще в прошлом году так и не попробовав наверное как и большенство перепостивших\n",
      "556 и если б не этот год в моей жизни никогда б небыло таких замечательно теплых вовки и аси ольги мишани и ежика дюши и еще многих других\n",
      "569 роган борн стоял и смотрел на затянутый льдом залив который еще две недели назад продувал до дна ветер\n",
      "572 мы должны были ночевать в оленьих ручьях до них было еще километров а время клонилось к половине седьмого\n",
      "585 и что жизнь учит его не зависить от вещей денег а он так ни чего и не понимает не догоняет\n",
      "589 пыраюсь подобрать свой труп однако он по всей видимости все еще находится в теперь невидимой подводной лодке и нарезает круги над бездной в середине локации\n",
      "592 еще узнал недавно некие печальные подробности существования никоторых индивидумов\n",
      "609 неуравновешено очен мостик который мог бы быть смысловым центрм спрятан за деревом и смещен вильно влева справа много черного стволы у меня возникает чувство дискомфорта\n",
      "642 нагладно привожу еще один рассчет\n",
      "645 у нас тоже солнышко но еще ооочень холодно\n",
      "670 обещал не писать здесь подобных вещей но просто очень понравилось\n",
      "679 цезарь делал это не по злобе а потому что расходы его были велики и ему предстояли еще большие траты на войско триумфы и другие роскошества\n",
      "680 ну всмысле еще одно солнышко помимо меня\n",
      "709 а еще когда то худела голоданием и питалась исключительно овощами и фруктами до\n",
      "763 а еще седня меня загребла служба безопасности за то что я пронесла на фабрику электрогнигу\n",
      "777 и то еще минут сорок наша четверка ждала когда подготовится машина инструктора\n",
      "788 которая еще в разные стороны разлетается и ваще это не юбка а тока пояс от юбки\n",
      "793 дальше он увел меня во внутренее помещение и дал возмоность прото отсидеться пока дамы дрались как торговки рыбой на привозе\n",
      "821 и еще вот такое сегодня попалось благодаря\n",
      "836 если женщин еще как то можно по прическам и цвету волос отличить то с мужиками вобще засада\n",
      "860 ах да в завершение я седня еще сходила в бассейн и наплавалась вдоволь\n",
      "906 вот я тоже самое а без него уже не могу себя представить правда у меня еще один днев есть но всетаки да и тот я как то забросила теперь больше сюда перебралась\n",
      "912 мне страшно туда зализать а чтоб еще мыться и релаксировать\n",
      "918 неет я не окольцевала себя просто он не только любовник но еще и хороший друг нам весело мы можем часами проговорить на какие то глобальные темы а потом молчать пол часа и смотреть друг на друга\n",
      "962 через пару минут он возращаеться и приносит два стакана честно говоря я так и не понял почему два ну да ладно нам не привыкать и когда я ему объяснил что нужно было три он долго порывался сбегать еще раз но видя какие стаканы он принес я понял что лучше пить из горла а стаканы или даже точнее бокалы енти это отдельная история енто были огромные бокалы под коктель маргарита\n",
      "963 благодоря моей давольно набожной бабушке мя привыкла отмечать еще один праздник а именно именины\n",
      "984 просто у меня еще в суботу дела некоторые\n",
      "985 просто лакомый кусочек а не заказ в центре города с площадью помещений более квадратных метров\n",
      "999 и еще тут ряда на назад какието малолетнии наркоманы не понимая всю трагичность момента начинают хихикать потерянная молодеж\n",
      "1110 сей пост расчитан на тех кто еще эту информацию не читал конечно же если читали и вам до лампочки можете пролистнуть мимо этот текст не тратьте мое на чтение вашего творчества и ваше время на его написание спасибо не скажу ибо мальчик большой\n",
      "1138 чето он мне порекомендовал еще почитать про какой то дредноут по моему гришковца\n",
      "1146 еще один фоторепортаж с нлмк в большей степени посвященный непосредственно процессу производства чем\n",
      "1174 однако и в последние дни бархатного сезона в городе еще есть чем полюбоваться и чему удивиться\n",
      "1251 соотвественно залог он не возвращает и получает еще нахаляву стриалку и диваны поскольку в договоре прописано что в тот момент когда мы будем покидать сие гостепреимное жилище вышеуказанные вещи купленные мной при заезде остаются на квадрате\n",
      "1260 кстате из х фоток что ты сделала я отрезан один кусочек пальца ноги я отрезаны ноги и кусочек макушки головы я отрезаны первые фалаги пальцев левой руки я ничего не отрезано но брюки смотряться плохо и освещение не с той стороны\n",
      "1308 а еще после некоторых приблизительных подсчетов я поняла что мне нужно ограбить банк\n",
      "1332 тамбовское областное отделение кпрф подготовило к размещению рекламный ролик и макеты перетяжек для дальнейшего размещения в период выборов\n",
      "1364 что посомтреть в этот день мы выбирали из того что находилось рядом и еще не было посещено остановились на гейзерах\n",
      "1406 многое в этом спектакле удалось молодой тогда еще актрисе\n",
      "1443 есть такой капиталист в тюрьме сейчас сидит и похоже дооолго еще будет сидеть\n",
      "1445 после второй третьей фразы меня начала подтачивать паскудненькая мысль что курятник будет тот еще\n",
      "1470 я не очень то верю в те занятия когда их видет тренер час назад преподававших степ а еще час назад пилатес\n",
      "1483 еще пару десятков лет и она будет пытаться заглянуть в твои глаза\n",
      "1490 разговор был в году когда еще нечего бронзового небыло\n",
      "1491 тебе возразят что зато он хочет продать бизнес а деньги пустить на благо он красивый и умно рассуждает и отменит егэ и еще чтототам он такое с медициной сделать обещает от проограммы правда медики воют но они ж просто корыстные ублюдки и всем сразу станет хорошо\n",
      "1549 посещение студии восточного танца поможет разорвать круг стирка удорка ребенок муж и будет своеобразной психотерапией\n",
      "1558 потмушто время еще есть и деньги тоже\n",
      "1584 это основной курс в рамках которого есть еще несколько но о них позже и дальше\n",
      "1598 хотите получить оповещение об этом мероприятии пожалуйста заполните форму\n",
      "1624 да я знаю все что было и признаю гдето неправ я а где то кто то еще\n",
      "1634 а дальше в гости к батьке потом на незалежную и можт еще в молдавию\n",
      "1635 знать бы еще че ето такое\n",
      "1659 а еще там на митинге вроде бы выступали местные музыканты\n",
      "1729 проыдя еще немного он понял что идти дальше сегодня не сможет и остановился в эрендзи\n"
     ]
    },
    {
     "name": "stdout",
     "output_type": "stream",
     "text": [
      "1732 так что девчонки может еще есть шанс главное их не избаловать чтобы не испортились\n",
      "1744 дома ждет еще одна книга подобного плана даже незнаю начать ее завтра читать или разбавить чем то романтическим или фанатастическим\n",
      "1759 хоть водитель переодически открывал окно и было жутко холодно все же я мечтала о том что бы пробка подольше не розсасывалась и я могла еще подрыхнуть\n",
      "1798 к сожалению летняя погода еще не устоялась поэтому большую часть нашего прибывания в пуконе шли дожди и наши дни ыглядели примерно так\n",
      "1881 я согласна с таким положением вещей но\n",
      "1890 прррроклятые буржуи будут морить меня незнанием результатов еще недели три минимум ближе кембриджа не нашлось никого согласного все это проверять конечно же\n",
      "1903 более отвратительной организации тура я объехав более стран еще не встречала\n",
      "2053 видно да еще когда темно и я блин весь как приведение в черном\n",
      "2054 а впреди еще ооочень много разных социальных ролей\n",
      "2071 по мнению автора инициативы финансовые векселя смогут использоваться при оформлении задолженности в частности бюджетной включая и оформление платежей по возмещению налога на добавленную стоимость что должно способствовать облегчению взаимоотношений бизнеса с госорганами\n",
      "2080 мне ничего не оставалось делать как основывать еще один город дабы заделать дыру в державе и производить длиннолуков с катапультами\n",
      "2116 ну и собссно готовься к кризису примерно года опять жилье подешевеет квартирку или еще что то можно проапгрейдить если во всеоружии\n",
      "2117 еще летом я купила ооочень ну очень красивые срезы агатов\n",
      "2164 любой жест который не был перечислен в настоящих правилах и таким образом не может быть воспринят в качестве камня ножниц или бумаги считается недопустимым и соответсвенно запрещен\n",
      "2191 есть кротон декабрист и еще какой то лопух который живет и процветает у нас уже бог знает сколько лет\n",
      "2192 я рисовал очередной чертеж который надо было еще недели две назад сдать естесственно это не занимает весь день но у таких лентяев как я это занимает недели\n",
      "2248 такое чудо я до этого видел только однажды но когда я пришел в это же место еще раз мне сказали что этого мастера уволили так как пока она нарисует одного другие успевают подстричь троих\n",
      "2256 оба сорта порадовали хорошо выраженной хмелевой горечью чем мне всегда нравилась продукция лиспи еще со времен души пивовара\n",
      "2267 неконец еще более прогрессивная идея это пропагандировать идею что главное в детях чтобы они были здоровыми и красивыми а не на вас похожими ибо что такое похожесть именно на вас\n",
      "2277 еще ясна научилась обижаться когда что то не по ней и выражает это сразу ооооочень громким криком начинающимся беззвучным сморщиванием и багровением лица\n",
      "2285 встречает она нас алтарной частью венчающейся еще одной маленькой луковичкой\n",
      "2295 руки ноги раскину и сплю а еще пальцы растопырить ваще снежинка\n",
      "2309 эхх оказываеться я еще менее образованный чем какой то там пушкин\n",
      "2354 спасиб а ты мне если что еще сможешь на примитивные вопросы по корелу ответить\n",
      "2355 счас всего уже не упомню но это еще не полный пречень совпадений\n",
      "2371 неизбежность независимо от того что вы там еще напридумываете лучше смеритесь\n",
      "2372 наберешся наглости позвонишь еще\n",
      "2374 еще не догадались в чем засада\n",
      "2455 тем кто срывает рекламу ваще то фиолетово по делам ли вы молодежи или еще по каким нибудь делам\n",
      "2511 у меня правда очень болит сердце вот о чем мама была верующим человеком нам помогала и помогает богородица однако я незнаю была ли мама крещенная\n",
      "2526 а гуска еще дает себя гладить по шее правда потом пыталась отщипнуть от меня кусочек джинсы\n",
      "2578 еще и без каблуков это же напрягаются совесм другие места это чертовски неудобно\n",
      "2582 еще на тему женская обувь наложенным платежом лиска\n",
      "2585 в них есть что то зловещее и тайное как должно быт незря символ хрестианства роза символ крови веры и тайны\n",
      "2587 так что сли кто то из вас увидит меня в публичном месте не дай бог с бутылкой пива а еще хуже с сигаретой в руке то знайте можете на полном основании жидкость вылить на меня а бычок притущить рядом\n",
      "2592 в результате произошедшего погибли два человека еще один получил ранения\n",
      "2597 короче красотка та еще и это все счастье держалось и не спадало с моего лица в течение часов так двенадцати\n",
      "2626 практически каждый год вырисовывался новый тренд и казалось что буквально пройдет еще годик и заполучишь щастье девайс мечты о котором так долго мечтал\n",
      "2654 на сайте администрации есть какаято бумажка еще за год\n",
      "2667 и еще желаю переводить во много раз лучше чем безымянные господа о которых я так часто упоминаю в своих постах\n",
      "2743 прочтала тут новость что июля то есть в день выхода седьмой книги начнет работать телефон доверия чтобы прочитавшие поттероманы туда звонили и их смогли убедить что жизни еще не кончилась\n",
      "2770 мало того что они ходят только вперед так еще дойдя до конца становятся королевой\n",
      "2820 при этом неприменный упор изготовить на массивном освещении\n",
      "2831 я до евро еще учился а евро я досих незакончил долги и диплом оставались время небыло просто тогда а сейчас его еще меньше\n",
      "2860 хочеться еще добавить когда идешь в часа ночи по улице тебя может остановить мент с автоматом на перевес заставить положить руки на крышу уазика и обшарить карманы\n",
      "2921 ощушаю себя с ними монголойдом я никогда так много не молчала как молчю тут и не потому что языковый баръер или еще что то просто коментариев нет\n",
      "2953 я помню ваши стихотворение еще тогда подумала ну надо же как в музыке точно попасть в ноты\n",
      "2978 благодоря моей давольно набожной бабушке мя привыкла отмечать еще один праздник а именно именины\n"
     ]
    }
   ],
   "source": [
    "for i, text in enumerate(train_df.wrong):\n",
    "    if 'еще' in text:\n",
    "        print(i, text)"
   ]
  },
  {
   "cell_type": "markdown",
   "metadata": {},
   "source": [
    "### Спел-чек без триграм"
   ]
  },
  {
   "cell_type": "code",
   "execution_count": 143,
   "metadata": {
    "collapsed": true
   },
   "outputs": [],
   "source": [
    "\"\"\"def spell_check_fast_dict(text):\n",
    "    left_context = ''\n",
    "    right_context = ''\n",
    "    text_correct = ''\n",
    "    probability_1 = 0\n",
    "    probability_2 = 0\n",
    "    cand_1 = ''\n",
    "    #поиск ошибок\n",
    "    text_list = text.split()\n",
    "    for index, word in enumerate(text_list):\n",
    "        if not keyword_processor.extract_keywords(word) == [word]:\n",
    "            candidates = kill_candidates(word)                 \n",
    "        #print(candidates)\n",
    "            if (candidates): #если множество оставшихся кандидатов не пустое\n",
    "                if(index > 0): #если слово не первое в тексте, находим левый контекст\n",
    "                    left_context = text_list[index-1]\n",
    "                if index + 1 < len(text_list): # если слово не последнее в тексте\n",
    "                    right_context = text_list[index+1]\n",
    "                cand_1, probability_1 = select_best_candidate(candidates, \n",
    "                                                        left_context, \n",
    "                                                        right_context)\n",
    "               # if probability:\n",
    "                word = cand\n",
    "           # if not(candidates): #or not(probability):\n",
    "            cand_2, probability_2 = select_with_whitespace(word)\n",
    "            \n",
    "            if cand_1:\n",
    "                \n",
    "                if probability_2 > probability_1:\n",
    "                    word = cand_2\n",
    "                word = cand_1\n",
    "            else:\n",
    "                if probability_2:\n",
    "                    word = cand_2\n",
    "                                \n",
    "        text_correct += ' ' + word\n",
    "    return text_correct.strip()\"\"\"\n",
    "                "
   ]
  },
  {
   "cell_type": "code",
   "execution_count": 38,
   "metadata": {
    "collapsed": true
   },
   "outputs": [],
   "source": [
    "def spell_check_fast_dict(text):\n",
    "    left_context = ''\n",
    "    right_context = ''\n",
    "    text_correct = ''\n",
    "    #probability_1 = 0\n",
    "    #probability_2 = 0\n",
    "    #cand_1 = ''\n",
    "    \n",
    "    #поиск ошибок\n",
    "    text_list = text.split()\n",
    "    for index, word in enumerate(text_list):\n",
    "        if not keyword_processor.extract_keywords(word) == [word]:\n",
    "            \n",
    "            cand_2, probability_2 = select_with_whitespace(word) #выбираем лучшего кандидата с пробелами\n",
    "            \n",
    "            candidates = kill_candidates(word) #генерируем кандидатов по edit distance + проверка по словарю               \n",
    "            #print(candidates)\n",
    "            if (candidates): #если множество оставшихся кандидатов не пустое\n",
    "                if(index > 0): #если слово не первое в тексте, находим левый контекст\n",
    "                    left_context = text_list[index-1]\n",
    "                if index + 1 < len(text_list): # если слово не последнее в тексте\n",
    "                    right_context = text_list[index+1]\n",
    "                cand_1, probability_1 = select_best_candidate(candidates, left_context, right_context)\n",
    "                \n",
    "                if probability_2 > probability_1:\n",
    "                    word = cand_2\n",
    "                else:\n",
    "                    word = cand_1\n",
    "            \n",
    "            else:\n",
    "                if probability_2:\n",
    "                    word = cand_2\n",
    "                                \n",
    "        text_correct += ' ' + word\n",
    "    return text_correct.strip()\n",
    "                "
   ]
  },
  {
   "cell_type": "code",
   "execution_count": 42,
   "metadata": {},
   "outputs": [
    {
     "name": "stdout",
     "output_type": "stream",
     "text": [
      "['тоесть если дамой то только в том случае если потеряю работу в сентябре'\n",
      " 'но если у меня характер будет такойже как хотя бы у одного из них я продам свою почку а на все вырученные деньги накуплю герлянд']\n"
     ]
    }
   ],
   "source": [
    "print(train_df.wrong.values[:2])"
   ]
  },
  {
   "cell_type": "code",
   "execution_count": 114,
   "metadata": {},
   "outputs": [
    {
     "data": {
      "text/plain": [
       "['серебряный']"
      ]
     },
     "execution_count": 114,
     "metadata": {},
     "output_type": "execute_result"
    }
   ],
   "source": [
    "keyword_processor.extract_keywords('серебряный')"
   ]
  },
  {
   "cell_type": "code",
   "execution_count": 39,
   "metadata": {},
   "outputs": [
    {
     "name": "stdout",
     "output_type": "stream",
     "text": [
      "Wall time: 4.53 s\n"
     ]
    },
    {
     "data": {
      "text/plain": [
       "'гирлянд много не бывает такой же'"
      ]
     },
     "execution_count": 39,
     "metadata": {},
     "output_type": "execute_result"
    }
   ],
   "source": [
    "%%time\n",
    "spell_check_fast_dict('герлянд много не бывает такойже')"
   ]
  },
  {
   "cell_type": "code",
   "execution_count": 58,
   "metadata": {},
   "outputs": [
    {
     "name": "stdout",
     "output_type": "stream",
     "text": [
      "я пью кофе не ради проснуться а ради процесса сделать себе вкусный напиток в красивую чашку положить серебрянной ложкой сахар добавить горячего молока чтоб кофе оставался еще дольше горячим и дымчатым и наслаждаться кайфовать медитировать в течении хотя бы нескольких минут в день\n"
     ]
    }
   ],
   "source": [
    "print(train_df.wrong[6])"
   ]
  },
  {
   "cell_type": "code",
   "execution_count": 57,
   "metadata": {},
   "outputs": [
    {
     "name": "stdout",
     "output_type": "stream",
     "text": [
      "Wall time: 6.07 s\n"
     ]
    },
    {
     "data": {
      "text/plain": [
       "'я пью кофе не ради проснуться а ради процесса сделать себе вкусный напиток в красивую чашку положить серебряной ложкой сахар добавить горячего молока чтоб кофе оставался ещё дольше горячим и дымчатым и наслаждаться кайфовать медитировать в течении хотя бы нескольких минут в день'"
      ]
     },
     "execution_count": 57,
     "metadata": {},
     "output_type": "execute_result"
    }
   ],
   "source": [
    "%%time\n",
    "spell_check_fast_dict(train_df.wrong[6])"
   ]
  },
  {
   "cell_type": "code",
   "execution_count": 126,
   "metadata": {},
   "outputs": [
    {
     "data": {
      "text/plain": [
       "('тесть', 4.4086219419318365e-06)"
      ]
     },
     "execution_count": 126,
     "metadata": {},
     "output_type": "execute_result"
    }
   ],
   "source": [
    "select_best_candidate(kill_candidates('тоесть'), '', 'если')"
   ]
  },
  {
   "cell_type": "code",
   "execution_count": 37,
   "metadata": {},
   "outputs": [
    {
     "data": {
      "text/plain": [
       "0"
      ]
     },
     "execution_count": 37,
     "metadata": {},
     "output_type": "execute_result"
    }
   ],
   "source": [
    "aprior_probability('универ')"
   ]
  },
  {
   "cell_type": "code",
   "execution_count": 127,
   "metadata": {},
   "outputs": [
    {
     "data": {
      "text/plain": [
       "('то есть', 4.6264235982909136e-07)"
      ]
     },
     "execution_count": 127,
     "metadata": {},
     "output_type": "execute_result"
    }
   ],
   "source": [
    "select_best_candidate(select_with_whitespace('тоесть')"
   ]
  },
  {
   "cell_type": "code",
   "execution_count": 144,
   "metadata": {},
   "outputs": [
    {
     "data": {
      "text/plain": [
       "'мамуля пришла из унив ер'"
      ]
     },
     "execution_count": 144,
     "metadata": {},
     "output_type": "execute_result"
    }
   ],
   "source": [
    "s = 'мамуля пришла из универ'\n",
    "spell_check_fast_dict(s)"
   ]
  },
  {
   "cell_type": "code",
   "execution_count": 136,
   "metadata": {},
   "outputs": [
    {
     "data": {
      "text/plain": [
       "('унив ер', 1.2147467141801773e-12)"
      ]
     },
     "execution_count": 136,
     "metadata": {},
     "output_type": "execute_result"
    }
   ],
   "source": [
    "select_with_whitespace('универ')"
   ]
  },
  {
   "cell_type": "code",
   "execution_count": 59,
   "metadata": {
    "collapsed": true
   },
   "outputs": [],
   "source": [
    "x = train_df.wrong[:500]"
   ]
  },
  {
   "cell_type": "code",
   "execution_count": 60,
   "metadata": {},
   "outputs": [
    {
     "name": "stderr",
     "output_type": "stream",
     "text": [
      "100%|████████████████████████████████████████| 500/500 [23:31<00:00,  2.82s/it]\n"
     ]
    },
    {
     "name": "stdout",
     "output_type": "stream",
     "text": [
      "Wall time: 23min 31s\n"
     ]
    }
   ],
   "source": [
    "%%time\n",
    "corrected = [spell_check_fast_dict(text) for text in tqdm(x)] "
   ]
  },
  {
   "cell_type": "code",
   "execution_count": 61,
   "metadata": {
    "scrolled": true
   },
   "outputs": [
    {
     "data": {
      "text/plain": [
       "['тесть если дамой то только в том случае если потеряю работу в сентябре',\n",
       " 'но если у меня характер будет такой же как хотя бы у одного из них я продам свою почку а на все вырученные деньги накуплю гирлянд',\n",
       " 'делать осьминогов из одуванчиков и куколок из шиповника',\n",
       " 'вальс в па внимание будет под другую музыку с переходом местами на обычный вальс подробная схема будет выложена',\n",
       " 'зима подходит к завершению а мне только сейчас удалось выбраться на каток',\n",
       " 'ей в общем то все равно было на кого учиться лишь бы мама с папой не переживали что у них девочка не пристроена',\n",
       " 'я пью кофе не ради проснуться а ради процесса сделать себе вкусный напиток в красивую чашку положить серебряной ложкой сахар добавить горячего молока чтоб кофе оставался ещё дольше горячим и дымчатым и наслаждаться кайфовать медитировать в течении хотя бы нескольких минут в день',\n",
       " 'делая недюжинные усилия над собой я таки выкарабкиваюсь из машины через заднюю дверь отползаю на обочину и видя как в сторону машины бегут какие то люди отрубаюсь',\n",
       " 'ударение в фамилия уже наверно плавно переехало с первого слога на последний',\n",
       " 'пейзажи за окном какие то незнакомые',\n",
       " 'самых прикол в том что делая дела в своей жизни мы этими делами показываем отношение к близким своим а когда много гадости сделано но попятную уже не как слишком многих обидели',\n",
       " 'все ничего но главная фишка этой игры как было заявлено это чуть ли не миллион разных стволов генерирующихся случайным образом',\n",
       " 'тогда соответственно говорят о язычной гортанной или носоглоточной ангине',\n",
       " 'интересно как там работа объективов регулируется',\n",
       " 'да там их мало конечно и я бил сильно ян и вспышка села и объектив не тот',\n",
       " 'на чёрном фоне белый квадрат а в нем написано дарить детям тепло',\n",
       " 'не знаю уж что там они в конце концов построили но что то там бабахнуло и все вымерло',\n",
       " 'оказалось что надо сделать видео переконвертить и слепить в одно',\n",
       " 'парочка прошлогодних снимков с правнуком племенником моим',\n",
       " 'музончик конечно заметный и почему то до боли знакомый']"
      ]
     },
     "execution_count": 61,
     "metadata": {},
     "output_type": "execute_result"
    }
   ],
   "source": [
    "corrected[:20]"
   ]
  },
  {
   "cell_type": "code",
   "execution_count": 154,
   "metadata": {},
   "outputs": [
    {
     "name": "stderr",
     "output_type": "stream",
     "text": [
      "/home/nst/anaconda3/lib/python3.6/site-packages/ipykernel_launcher.py:2: SettingWithCopyWarning: \n",
      "A value is trying to be set on a copy of a slice from a DataFrame.\n",
      "Try using .loc[row_indexer,col_indexer] = value instead\n",
      "\n",
      "See the caveats in the documentation: http://pandas.pydata.org/pandas-docs/stable/indexing.html#indexing-view-versus-copy\n",
      "  \n"
     ]
    }
   ],
   "source": [
    "train_small = train_df[:500]\n",
    "train_small['corrected'] = corrected"
   ]
  },
  {
   "cell_type": "code",
   "execution_count": 156,
   "metadata": {},
   "outputs": [
    {
     "data": {
      "text/html": [
       "<div>\n",
       "<style>\n",
       "    .dataframe thead tr:only-child th {\n",
       "        text-align: right;\n",
       "    }\n",
       "\n",
       "    .dataframe thead th {\n",
       "        text-align: left;\n",
       "    }\n",
       "\n",
       "    .dataframe tbody tr th {\n",
       "        vertical-align: top;\n",
       "    }\n",
       "</style>\n",
       "<table border=\"1\" class=\"dataframe\">\n",
       "  <thead>\n",
       "    <tr style=\"text-align: right;\">\n",
       "      <th></th>\n",
       "      <th>wrong</th>\n",
       "      <th>right</th>\n",
       "      <th>corrected</th>\n",
       "    </tr>\n",
       "  </thead>\n",
       "  <tbody>\n",
       "    <tr>\n",
       "      <th>0</th>\n",
       "      <td>тоесть если дамой то только в том случае если ...</td>\n",
       "      <td>то есть если домой то только в том случае если...</td>\n",
       "      <td>тесть если дамой то только в том случае если п...</td>\n",
       "    </tr>\n",
       "    <tr>\n",
       "      <th>1</th>\n",
       "      <td>но если у меня характер будет такойже как хотя...</td>\n",
       "      <td>но если у меня характер будет такой же как хот...</td>\n",
       "      <td>но если у меня характер будет такой же как хот...</td>\n",
       "    </tr>\n",
       "    <tr>\n",
       "      <th>2</th>\n",
       "      <td>делать осьминогов из одуванчиков и куколок из ...</td>\n",
       "      <td>делать осьминогов из одуванчиков и куколок из ...</td>\n",
       "      <td>делать осьминогов из одуванчиков и куколок из ...</td>\n",
       "    </tr>\n",
       "    <tr>\n",
       "      <th>3</th>\n",
       "      <td>вальс в па внимание будет под другую музыку с ...</td>\n",
       "      <td>вальс в па внимание будет под другую музыку с ...</td>\n",
       "      <td>вальс в па внимание будет под другую музыку с ...</td>\n",
       "    </tr>\n",
       "    <tr>\n",
       "      <th>4</th>\n",
       "      <td>зима подходит к завершению а мне только сейчас...</td>\n",
       "      <td>зима подходит к завершению а мне только сейчас...</td>\n",
       "      <td>зима подходит к завершению а мне только сейчас...</td>\n",
       "    </tr>\n",
       "  </tbody>\n",
       "</table>\n",
       "</div>"
      ],
      "text/plain": [
       "                                               wrong  \\\n",
       "0  тоесть если дамой то только в том случае если ...   \n",
       "1  но если у меня характер будет такойже как хотя...   \n",
       "2  делать осьминогов из одуванчиков и куколок из ...   \n",
       "3  вальс в па внимание будет под другую музыку с ...   \n",
       "4  зима подходит к завершению а мне только сейчас...   \n",
       "\n",
       "                                               right  \\\n",
       "0  то есть если домой то только в том случае если...   \n",
       "1  но если у меня характер будет такой же как хот...   \n",
       "2  делать осьминогов из одуванчиков и куколок из ...   \n",
       "3  вальс в па внимание будет под другую музыку с ...   \n",
       "4  зима подходит к завершению а мне только сейчас...   \n",
       "\n",
       "                                           corrected  \n",
       "0  тесть если дамой то только в том случае если п...  \n",
       "1  но если у меня характер будет такой же как хот...  \n",
       "2  делать осьминогов из одуванчиков и куколок из ...  \n",
       "3  вальс в па внимание будет под другую музыку с ...  \n",
       "4  зима подходит к завершению а мне только сейчас...  "
      ]
     },
     "execution_count": 156,
     "metadata": {},
     "output_type": "execute_result"
    }
   ],
   "source": [
    "train_small.head()"
   ]
  },
  {
   "cell_type": "code",
   "execution_count": 160,
   "metadata": {
    "collapsed": true
   },
   "outputs": [],
   "source": [
    "errors = train_small[train_small.right != train_small.corrected]"
   ]
  },
  {
   "cell_type": "code",
   "execution_count": 163,
   "metadata": {},
   "outputs": [
    {
     "data": {
      "text/html": [
       "<div>\n",
       "<style>\n",
       "    .dataframe thead tr:only-child th {\n",
       "        text-align: right;\n",
       "    }\n",
       "\n",
       "    .dataframe thead th {\n",
       "        text-align: left;\n",
       "    }\n",
       "\n",
       "    .dataframe tbody tr th {\n",
       "        vertical-align: top;\n",
       "    }\n",
       "</style>\n",
       "<table border=\"1\" class=\"dataframe\">\n",
       "  <thead>\n",
       "    <tr style=\"text-align: right;\">\n",
       "      <th></th>\n",
       "      <th>wrong</th>\n",
       "      <th>right</th>\n",
       "      <th>corrected</th>\n",
       "    </tr>\n",
       "  </thead>\n",
       "  <tbody>\n",
       "    <tr>\n",
       "      <th>0</th>\n",
       "      <td>тоесть если дамой то только в том случае если ...</td>\n",
       "      <td>то есть если домой то только в том случае если...</td>\n",
       "      <td>тесть если дамой то только в том случае если п...</td>\n",
       "    </tr>\n",
       "    <tr>\n",
       "      <th>6</th>\n",
       "      <td>я пью кофе не ради проснуться а ради процесса ...</td>\n",
       "      <td>я пью кофе не ради проснуться а ради процесса ...</td>\n",
       "      <td>я пью кофе не ради проснуться а ради процесса ...</td>\n",
       "    </tr>\n",
       "    <tr>\n",
       "      <th>7</th>\n",
       "      <td>делая недюженные усилия над собой я таки выкар...</td>\n",
       "      <td>делая недюжинные усилия над собой я таки выкар...</td>\n",
       "      <td>делая недюжинные усилия над собой я таки выкар...</td>\n",
       "    </tr>\n",
       "    <tr>\n",
       "      <th>8</th>\n",
       "      <td>ударение в фамилие уже наверно плавно переехал...</td>\n",
       "      <td>ударение в фамилии уже наверно плавно переехал...</td>\n",
       "      <td>ударение в фамилия уже наверно плавно переехал...</td>\n",
       "    </tr>\n",
       "    <tr>\n",
       "      <th>10</th>\n",
       "      <td>самыи прикол в том что делая дела в своеи жизн...</td>\n",
       "      <td>самый прикол в том что делая дела в своей жизн...</td>\n",
       "      <td>самых прикол в том что делая дела в своей жизн...</td>\n",
       "    </tr>\n",
       "    <tr>\n",
       "      <th>14</th>\n",
       "      <td>да там их мало конешно и я бил силно пян и всп...</td>\n",
       "      <td>да там их мало конечно и я был сильно пьян и в...</td>\n",
       "      <td>да там их мало конечно и я бил сильно ян и всп...</td>\n",
       "    </tr>\n",
       "    <tr>\n",
       "      <th>15</th>\n",
       "      <td>на черном фоне белый квадрат а в нем написанно...</td>\n",
       "      <td>на черном фоне белый квадрат а в нем написано ...</td>\n",
       "      <td>на чёрном фоне белый квадрат а в нем написано ...</td>\n",
       "    </tr>\n",
       "    <tr>\n",
       "      <th>18</th>\n",
       "      <td>парочка прошлогодних снимков с правнуком племе...</td>\n",
       "      <td>парочка прошлогодних снимков с правнуком племя...</td>\n",
       "      <td>парочка прошлогодних снимков с правнуком племе...</td>\n",
       "    </tr>\n",
       "    <tr>\n",
       "      <th>19</th>\n",
       "      <td>музончик конечно зачетный и почемуто до боли з...</td>\n",
       "      <td>музончик конечно зачетный и почему то до боли ...</td>\n",
       "      <td>музончик конечно заметный и заметный до боли з...</td>\n",
       "    </tr>\n",
       "    <tr>\n",
       "      <th>20</th>\n",
       "      <td>в связи с заявлениями тимошенко об ухудшении с...</td>\n",
       "      <td>в связи с заявлениями тимошенко об ухудшении с...</td>\n",
       "      <td>в связи с заявлениями тимошенко об ухудшении с...</td>\n",
       "    </tr>\n",
       "    <tr>\n",
       "      <th>22</th>\n",
       "      <td>в каждой стране сво правила конешно и я больше...</td>\n",
       "      <td>в каждой стране свои правила конечно и я больш...</td>\n",
       "      <td>в каждой стране во правила конечно и я больше ...</td>\n",
       "    </tr>\n",
       "    <tr>\n",
       "      <th>24</th>\n",
       "      <td>а цветочек в белом горшке называется женское щ...</td>\n",
       "      <td>а цветочек в белом горшке называется женское с...</td>\n",
       "      <td>а цветочек в белом горшке называется женское щ...</td>\n",
       "    </tr>\n",
       "    <tr>\n",
       "      <th>30</th>\n",
       "      <td>следует отдать должное заказчику очень четко о...</td>\n",
       "      <td>следует отдать должное заказчику очень четко о...</td>\n",
       "      <td>следует отдать должное заказчику очень чётко о...</td>\n",
       "    </tr>\n",
       "    <tr>\n",
       "      <th>31</th>\n",
       "      <td>пролжительность занятий небльшая всего дня</td>\n",
       "      <td>продолжительность занятий небольшая всего дня</td>\n",
       "      <td>пролжительность занятий небольшая всего дня</td>\n",
       "    </tr>\n",
       "    <tr>\n",
       "      <th>32</th>\n",
       "      <td>зарубки на стене методично прибавлялись с кажд...</td>\n",
       "      <td>зарубки на стене методично прибавлялись с кажд...</td>\n",
       "      <td>зарубки на стене методично прибавлялись с кажд...</td>\n",
       "    </tr>\n",
       "    <tr>\n",
       "      <th>34</th>\n",
       "      <td>людей уйма штормило во все стороны собстно тол...</td>\n",
       "      <td>людей уйма штормило во все стороны собственно ...</td>\n",
       "      <td>людей уйма штормило во все стороны собстно тол...</td>\n",
       "    </tr>\n",
       "    <tr>\n",
       "      <th>35</th>\n",
       "      <td>с учетом раненых около тысяч американская арми...</td>\n",
       "      <td>с учетом раненых около тысяч американская арми...</td>\n",
       "      <td>с учётом раненых около тысяч американская арми...</td>\n",
       "    </tr>\n",
       "    <tr>\n",
       "      <th>36</th>\n",
       "      <td>вобщем любую моральную поддержку в виде живой ...</td>\n",
       "      <td>в общем любую моральную поддержку в виде живой...</td>\n",
       "      <td>общем любую моральную поддержку в виде живой д...</td>\n",
       "    </tr>\n",
       "    <tr>\n",
       "      <th>37</th>\n",
       "      <td>с сегодняшнего дня точно могу вам сказать что ...</td>\n",
       "      <td>с сегодняшнего дня точно могу вам сказать что ...</td>\n",
       "      <td>с сегодняшнего дня точно могу вам сказать что ...</td>\n",
       "    </tr>\n",
       "    <tr>\n",
       "      <th>38</th>\n",
       "      <td>лен буду попозже сейцас в душ пойду и зарядку ...</td>\n",
       "      <td>лен буду попозже сейчас в душ пойду и зарядку ...</td>\n",
       "      <td>лен буду попозже сейчас в душ пойду и зарядку ...</td>\n",
       "    </tr>\n",
       "    <tr>\n",
       "      <th>39</th>\n",
       "      <td>его родители довили на него они очень хотели ч...</td>\n",
       "      <td>его родители давили на него они очень хотели ч...</td>\n",
       "      <td>его родители довили на него они очень хотели ч...</td>\n",
       "    </tr>\n",
       "    <tr>\n",
       "      <th>40</th>\n",
       "      <td>ещее один вопрос волнует меня почему в одном и...</td>\n",
       "      <td>еще один вопрос волнует меня почему в одном из...</td>\n",
       "      <td>елее один вопрос волнует меня почему в одном и...</td>\n",
       "    </tr>\n",
       "    <tr>\n",
       "      <th>44</th>\n",
       "      <td>расжился на выходных экземпляром сабжа</td>\n",
       "      <td>разжился на выходных экземпляром сабжа</td>\n",
       "      <td>расшился на выходных экземпляром сабжа</td>\n",
       "    </tr>\n",
       "    <tr>\n",
       "      <th>45</th>\n",
       "      <td>завтра наконец таки я преступлю к прочтению кн...</td>\n",
       "      <td>завтра наконец таки я приступлю к прочтению кн...</td>\n",
       "      <td>завтра наконец таки я преступлю к прочтению кн...</td>\n",
       "    </tr>\n",
       "    <tr>\n",
       "      <th>49</th>\n",
       "      <td>но както все это было подощрительно</td>\n",
       "      <td>но как то все это было подозрительно</td>\n",
       "      <td>но факто все это было подозрительно</td>\n",
       "    </tr>\n",
       "    <tr>\n",
       "      <th>50</th>\n",
       "      <td>масс старт в биатлоне впереди еще например</td>\n",
       "      <td>масс старт в биатлоне впереди еще например</td>\n",
       "      <td>масс старт в биатлоне впереди ещё например</td>\n",
       "    </tr>\n",
       "    <tr>\n",
       "      <th>51</th>\n",
       "      <td>публика была супер точнее ее не было вообщем т...</td>\n",
       "      <td>публика была супер точнее ее не было в общем т...</td>\n",
       "      <td>публика была супер точнее не не было вообще та...</td>\n",
       "    </tr>\n",
       "    <tr>\n",
       "      <th>52</th>\n",
       "      <td>ты начинаешь думать а што неплохо можно и тут ...</td>\n",
       "      <td>ты начинаешь думать а что неплохо можно и тут ...</td>\n",
       "      <td>ты начинаешь думать а што неплохо можно и тут ...</td>\n",
       "    </tr>\n",
       "    <tr>\n",
       "      <th>53</th>\n",
       "      <td>в прошлые выходные я прошел сертификацию на</td>\n",
       "      <td>в прошлые выходные я прошел сертификацию на</td>\n",
       "      <td>в прошлые выходные я прошёл сертификацию на</td>\n",
       "    </tr>\n",
       "    <tr>\n",
       "      <th>54</th>\n",
       "      <td>разьве что вася воронов да пашка пескин знаешь...</td>\n",
       "      <td>разве что вася воронов да пашка пескин знаешь его</td>\n",
       "      <td>разве что вася воронов да пашка пекин знаешь его</td>\n",
       "    </tr>\n",
       "    <tr>\n",
       "      <th>...</th>\n",
       "      <td>...</td>\n",
       "      <td>...</td>\n",
       "      <td>...</td>\n",
       "    </tr>\n",
       "    <tr>\n",
       "      <th>440</th>\n",
       "      <td>я занимаюсь продюсированием музыкальных проект...</td>\n",
       "      <td>я занимаюсь продюсированием музыкальных проект...</td>\n",
       "      <td>я занимаюсь продюсирование м музыкальных проек...</td>\n",
       "    </tr>\n",
       "    <tr>\n",
       "      <th>442</th>\n",
       "      <td>прихали в сяньян где и узнали что из этого гор...</td>\n",
       "      <td>приехали в сяньян где и узнали что из этого го...</td>\n",
       "      <td>приехали в приехали где и узнали что из этого ...</td>\n",
       "    </tr>\n",
       "    <tr>\n",
       "      <th>445</th>\n",
       "      <td>если есть хоть одна возможность зделать нитак ...</td>\n",
       "      <td>если есть хоть одна возможность сделать не так...</td>\n",
       "      <td>если есть хоть одна возможность сделать никак ...</td>\n",
       "    </tr>\n",
       "    <tr>\n",
       "      <th>447</th>\n",
       "      <td>и я весь день куда нибудь да ходила то с ясей ...</td>\n",
       "      <td>и я весь день куда нибудь да ходила то с ясей ...</td>\n",
       "      <td>и я весь день куда нибудь да ходила то с ясей ...</td>\n",
       "    </tr>\n",
       "    <tr>\n",
       "      <th>449</th>\n",
       "      <td>а утром шла в универ мимо главного всегда закр...</td>\n",
       "      <td>а утром шла в универ мимо главного всегда закр...</td>\n",
       "      <td>а утром шла в унив ер мимо главного всегда зак...</td>\n",
       "    </tr>\n",
       "    <tr>\n",
       "      <th>450</th>\n",
       "      <td>насчет книги я ее не видел и уж темболее не читал</td>\n",
       "      <td>насчет книги я ее не видел и уж тем более не ч...</td>\n",
       "      <td>насчёт книги я же не видел и уж же не читал</td>\n",
       "    </tr>\n",
       "    <tr>\n",
       "      <th>453</th>\n",
       "      <td>а посмотреть там можно на дом в водосточных тр...</td>\n",
       "      <td>а посмотреть там можно на дом в водосточных тр...</td>\n",
       "      <td>а посмотреть там можно на дом в водосточных тр...</td>\n",
       "    </tr>\n",
       "    <tr>\n",
       "      <th>454</th>\n",
       "      <td>желаю чтоб на твоем жизненном пути небыло вооб...</td>\n",
       "      <td>желаю чтоб на твоем жизненном пути не было воо...</td>\n",
       "      <td>желаю чтоб на твоей жизненном пути небыли вооб...</td>\n",
       "    </tr>\n",
       "    <tr>\n",
       "      <th>457</th>\n",
       "      <td>а амстердам патамушта тоже мокрый</td>\n",
       "      <td>а амстердам потому что тоже мокрый</td>\n",
       "      <td>а амстердам патамушта тоже мокрый</td>\n",
       "    </tr>\n",
       "    <tr>\n",
       "      <th>458</th>\n",
       "      <td>направленная на нейтрализацию психотравмирующе...</td>\n",
       "      <td>направленная на нейтрализацию психотравмирующе...</td>\n",
       "      <td>направленная на нейтрализацию психотравмирующе...</td>\n",
       "    </tr>\n",
       "    <tr>\n",
       "      <th>461</th>\n",
       "      <td>канадец не стал изобретать велосипед и сам вко...</td>\n",
       "      <td>канадец не стал изобретать велосипед и сам вко...</td>\n",
       "      <td>канадец не стал изобретать велосипед и сам вко...</td>\n",
       "    </tr>\n",
       "    <tr>\n",
       "      <th>462</th>\n",
       "      <td>ну да ладно меня троллят надо смериться с этим</td>\n",
       "      <td>ну да ладно меня троллят надо смириться с этим</td>\n",
       "      <td>ну да ладно меня троллям надо смериться с этим</td>\n",
       "    </tr>\n",
       "    <tr>\n",
       "      <th>463</th>\n",
       "      <td>благодаря ему я начал вновь пробывать писать</td>\n",
       "      <td>благодаря ему я начал вновь пробовать писать</td>\n",
       "      <td>благодаря ему я начал вновь прибывать писать</td>\n",
       "    </tr>\n",
       "    <tr>\n",
       "      <th>464</th>\n",
       "      <td>подргрузился список контактов</td>\n",
       "      <td>подгрузился список контактов</td>\n",
       "      <td>подргрузился список контактов</td>\n",
       "    </tr>\n",
       "    <tr>\n",
       "      <th>465</th>\n",
       "      <td>их воспринимать как детей которые хотят поигра...</td>\n",
       "      <td>их воспринимать как детей которые хотят поигра...</td>\n",
       "      <td>их воспринимать как детей которые хотят поигра...</td>\n",
       "    </tr>\n",
       "    <tr>\n",
       "      <th>469</th>\n",
       "      <td>а не правильно то что каждый участник дорожног...</td>\n",
       "      <td>а неправильно то что каждый участник дорожного...</td>\n",
       "      <td>а не правильно то что каждый участник дорожног...</td>\n",
       "    </tr>\n",
       "    <tr>\n",
       "      <th>470</th>\n",
       "      <td>так что уж лутче да просто не тратить в пустую...</td>\n",
       "      <td>так что уж лучше да просто не тратить впустую ...</td>\n",
       "      <td>так что уж луче да просто не тратить в пустую ...</td>\n",
       "    </tr>\n",
       "    <tr>\n",
       "      <th>471</th>\n",
       "      <td>джабин говорил обо всем этом с представителем ...</td>\n",
       "      <td>джабин говорил обо всем этом с представителем ...</td>\n",
       "      <td>джаин говорил обо всем этом с представителем в...</td>\n",
       "    </tr>\n",
       "    <tr>\n",
       "      <th>472</th>\n",
       "      <td>ну да ничо пять дней и снова пятницца</td>\n",
       "      <td>ну да ничего пять дней и снова пятница</td>\n",
       "      <td>ну да ничто пять дней и снова пятница</td>\n",
       "    </tr>\n",
       "    <tr>\n",
       "      <th>473</th>\n",
       "      <td>герой умершей страны готика выражающая пермане...</td>\n",
       "      <td>герой умершей страны готика выражающая пермане...</td>\n",
       "      <td>герой умершей страны готика выражающая пермане...</td>\n",
       "    </tr>\n",
       "    <tr>\n",
       "      <th>475</th>\n",
       "      <td>привет старик это кто тебе так насалил</td>\n",
       "      <td>привет старик это кто тебе так насолил</td>\n",
       "      <td>привет старик это кто тебе так насалил</td>\n",
       "    </tr>\n",
       "    <tr>\n",
       "      <th>477</th>\n",
       "      <td>пополнил коллекцию шмоться от всвязи с долгожд...</td>\n",
       "      <td>пополнил коллекцию шмотья от в связи с долгожд...</td>\n",
       "      <td>пополнил коллекцию шмотья от связи с долгождан...</td>\n",
       "    </tr>\n",
       "    <tr>\n",
       "      <th>478</th>\n",
       "      <td>кокойто я ночной житель што ли</td>\n",
       "      <td>какой то я ночной житель что ли</td>\n",
       "      <td>кокойто я ночной житель што ли</td>\n",
       "    </tr>\n",
       "    <tr>\n",
       "      <th>479</th>\n",
       "      <td>а пока ждем еды немного фотографий ведь место ...</td>\n",
       "      <td>а пока ждем еды немного фотографий ведь место ...</td>\n",
       "      <td>а пока эдем еды немного фотографий ведь место ...</td>\n",
       "    </tr>\n",
       "    <tr>\n",
       "      <th>481</th>\n",
       "      <td>реально вижу как растет очередь на жилье изза ...</td>\n",
       "      <td>реально вижу как растет очередь на жилье из за...</td>\n",
       "      <td>реально вижу как растёт очередь на жилье изба ...</td>\n",
       "    </tr>\n",
       "    <tr>\n",
       "      <th>484</th>\n",
       "      <td>вобщем как вы знаете из моего не давнего поста...</td>\n",
       "      <td>в общем как вы знаете из моего недавнего поста...</td>\n",
       "      <td>общем как вы знаете из моего не давнего поста ...</td>\n",
       "    </tr>\n",
       "    <tr>\n",
       "      <th>486</th>\n",
       "      <td>такого у меня никада не было</td>\n",
       "      <td>такого у меня никогда не было</td>\n",
       "      <td>такого у меня никуда не было</td>\n",
       "    </tr>\n",
       "    <tr>\n",
       "      <th>494</th>\n",
       "      <td>загарать и купаться нам пришлось недолго где т...</td>\n",
       "      <td>загорать и купаться нам пришлось недолго где т...</td>\n",
       "      <td>загадать и купаться нам пришлось недолго где т...</td>\n",
       "    </tr>\n",
       "    <tr>\n",
       "      <th>496</th>\n",
       "      <td>посколько отчет деловито и весело уже написан ...</td>\n",
       "      <td>поскольку отчет деловито и весело уже написан ...</td>\n",
       "      <td>поскольку ответ деловито и весело уже написан ...</td>\n",
       "    </tr>\n",
       "    <tr>\n",
       "      <th>499</th>\n",
       "      <td>завтра это всмысле сегодня</td>\n",
       "      <td>завтра это в смысле сегодня</td>\n",
       "      <td>завтра это смысле сегодня</td>\n",
       "    </tr>\n",
       "  </tbody>\n",
       "</table>\n",
       "<p>278 rows × 3 columns</p>\n",
       "</div>"
      ],
      "text/plain": [
       "                                                 wrong  \\\n",
       "0    тоесть если дамой то только в том случае если ...   \n",
       "6    я пью кофе не ради проснуться а ради процесса ...   \n",
       "7    делая недюженные усилия над собой я таки выкар...   \n",
       "8    ударение в фамилие уже наверно плавно переехал...   \n",
       "10   самыи прикол в том что делая дела в своеи жизн...   \n",
       "14   да там их мало конешно и я бил силно пян и всп...   \n",
       "15   на черном фоне белый квадрат а в нем написанно...   \n",
       "18   парочка прошлогодних снимков с правнуком племе...   \n",
       "19   музончик конечно зачетный и почемуто до боли з...   \n",
       "20   в связи с заявлениями тимошенко об ухудшении с...   \n",
       "22   в каждой стране сво правила конешно и я больше...   \n",
       "24   а цветочек в белом горшке называется женское щ...   \n",
       "30   следует отдать должное заказчику очень четко о...   \n",
       "31          пролжительность занятий небльшая всего дня   \n",
       "32   зарубки на стене методично прибавлялись с кажд...   \n",
       "34   людей уйма штормило во все стороны собстно тол...   \n",
       "35   с учетом раненых около тысяч американская арми...   \n",
       "36   вобщем любую моральную поддержку в виде живой ...   \n",
       "37   с сегодняшнего дня точно могу вам сказать что ...   \n",
       "38   лен буду попозже сейцас в душ пойду и зарядку ...   \n",
       "39   его родители довили на него они очень хотели ч...   \n",
       "40   ещее один вопрос волнует меня почему в одном и...   \n",
       "44              расжился на выходных экземпляром сабжа   \n",
       "45   завтра наконец таки я преступлю к прочтению кн...   \n",
       "49                 но както все это было подощрительно   \n",
       "50          масс старт в биатлоне впереди еще например   \n",
       "51   публика была супер точнее ее не было вообщем т...   \n",
       "52   ты начинаешь думать а што неплохо можно и тут ...   \n",
       "53         в прошлые выходные я прошел сертификацию на   \n",
       "54   разьве что вася воронов да пашка пескин знаешь...   \n",
       "..                                                 ...   \n",
       "440  я занимаюсь продюсированием музыкальных проект...   \n",
       "442  прихали в сяньян где и узнали что из этого гор...   \n",
       "445  если есть хоть одна возможность зделать нитак ...   \n",
       "447  и я весь день куда нибудь да ходила то с ясей ...   \n",
       "449  а утром шла в универ мимо главного всегда закр...   \n",
       "450  насчет книги я ее не видел и уж темболее не читал   \n",
       "453  а посмотреть там можно на дом в водосточных тр...   \n",
       "454  желаю чтоб на твоем жизненном пути небыло вооб...   \n",
       "457                  а амстердам патамушта тоже мокрый   \n",
       "458  направленная на нейтрализацию психотравмирующе...   \n",
       "461  канадец не стал изобретать велосипед и сам вко...   \n",
       "462     ну да ладно меня троллят надо смериться с этим   \n",
       "463       благодаря ему я начал вновь пробывать писать   \n",
       "464                      подргрузился список контактов   \n",
       "465  их воспринимать как детей которые хотят поигра...   \n",
       "469  а не правильно то что каждый участник дорожног...   \n",
       "470  так что уж лутче да просто не тратить в пустую...   \n",
       "471  джабин говорил обо всем этом с представителем ...   \n",
       "472              ну да ничо пять дней и снова пятницца   \n",
       "473  герой умершей страны готика выражающая пермане...   \n",
       "475             привет старик это кто тебе так насалил   \n",
       "477  пополнил коллекцию шмоться от всвязи с долгожд...   \n",
       "478                     кокойто я ночной житель што ли   \n",
       "479  а пока ждем еды немного фотографий ведь место ...   \n",
       "481  реально вижу как растет очередь на жилье изза ...   \n",
       "484  вобщем как вы знаете из моего не давнего поста...   \n",
       "486                       такого у меня никада не было   \n",
       "494  загарать и купаться нам пришлось недолго где т...   \n",
       "496  посколько отчет деловито и весело уже написан ...   \n",
       "499                         завтра это всмысле сегодня   \n",
       "\n",
       "                                                 right  \\\n",
       "0    то есть если домой то только в том случае если...   \n",
       "6    я пью кофе не ради проснуться а ради процесса ...   \n",
       "7    делая недюжинные усилия над собой я таки выкар...   \n",
       "8    ударение в фамилии уже наверно плавно переехал...   \n",
       "10   самый прикол в том что делая дела в своей жизн...   \n",
       "14   да там их мало конечно и я был сильно пьян и в...   \n",
       "15   на черном фоне белый квадрат а в нем написано ...   \n",
       "18   парочка прошлогодних снимков с правнуком племя...   \n",
       "19   музончик конечно зачетный и почему то до боли ...   \n",
       "20   в связи с заявлениями тимошенко об ухудшении с...   \n",
       "22   в каждой стране свои правила конечно и я больш...   \n",
       "24   а цветочек в белом горшке называется женское с...   \n",
       "30   следует отдать должное заказчику очень четко о...   \n",
       "31       продолжительность занятий небольшая всего дня   \n",
       "32   зарубки на стене методично прибавлялись с кажд...   \n",
       "34   людей уйма штормило во все стороны собственно ...   \n",
       "35   с учетом раненых около тысяч американская арми...   \n",
       "36   в общем любую моральную поддержку в виде живой...   \n",
       "37   с сегодняшнего дня точно могу вам сказать что ...   \n",
       "38   лен буду попозже сейчас в душ пойду и зарядку ...   \n",
       "39   его родители давили на него они очень хотели ч...   \n",
       "40   еще один вопрос волнует меня почему в одном из...   \n",
       "44              разжился на выходных экземпляром сабжа   \n",
       "45   завтра наконец таки я приступлю к прочтению кн...   \n",
       "49                но как то все это было подозрительно   \n",
       "50          масс старт в биатлоне впереди еще например   \n",
       "51   публика была супер точнее ее не было в общем т...   \n",
       "52   ты начинаешь думать а что неплохо можно и тут ...   \n",
       "53         в прошлые выходные я прошел сертификацию на   \n",
       "54   разве что вася воронов да пашка пескин знаешь его   \n",
       "..                                                 ...   \n",
       "440  я занимаюсь продюсированием музыкальных проект...   \n",
       "442  приехали в сяньян где и узнали что из этого го...   \n",
       "445  если есть хоть одна возможность сделать не так...   \n",
       "447  и я весь день куда нибудь да ходила то с ясей ...   \n",
       "449  а утром шла в универ мимо главного всегда закр...   \n",
       "450  насчет книги я ее не видел и уж тем более не ч...   \n",
       "453  а посмотреть там можно на дом в водосточных тр...   \n",
       "454  желаю чтоб на твоем жизненном пути не было воо...   \n",
       "457                 а амстердам потому что тоже мокрый   \n",
       "458  направленная на нейтрализацию психотравмирующе...   \n",
       "461  канадец не стал изобретать велосипед и сам вко...   \n",
       "462     ну да ладно меня троллят надо смириться с этим   \n",
       "463       благодаря ему я начал вновь пробовать писать   \n",
       "464                       подгрузился список контактов   \n",
       "465  их воспринимать как детей которые хотят поигра...   \n",
       "469  а неправильно то что каждый участник дорожного...   \n",
       "470  так что уж лучше да просто не тратить впустую ...   \n",
       "471  джабин говорил обо всем этом с представителем ...   \n",
       "472             ну да ничего пять дней и снова пятница   \n",
       "473  герой умершей страны готика выражающая пермане...   \n",
       "475             привет старик это кто тебе так насолил   \n",
       "477  пополнил коллекцию шмотья от в связи с долгожд...   \n",
       "478                    какой то я ночной житель что ли   \n",
       "479  а пока ждем еды немного фотографий ведь место ...   \n",
       "481  реально вижу как растет очередь на жилье из за...   \n",
       "484  в общем как вы знаете из моего недавнего поста...   \n",
       "486                      такого у меня никогда не было   \n",
       "494  загорать и купаться нам пришлось недолго где т...   \n",
       "496  поскольку отчет деловито и весело уже написан ...   \n",
       "499                        завтра это в смысле сегодня   \n",
       "\n",
       "                                             corrected  \n",
       "0    тесть если дамой то только в том случае если п...  \n",
       "6    я пью кофе не ради проснуться а ради процесса ...  \n",
       "7    делая недюжинные усилия над собой я таки выкар...  \n",
       "8    ударение в фамилия уже наверно плавно переехал...  \n",
       "10   самых прикол в том что делая дела в своей жизн...  \n",
       "14   да там их мало конечно и я бил сильно ян и всп...  \n",
       "15   на чёрном фоне белый квадрат а в нем написано ...  \n",
       "18   парочка прошлогодних снимков с правнуком племе...  \n",
       "19   музончик конечно заметный и заметный до боли з...  \n",
       "20   в связи с заявлениями тимошенко об ухудшении с...  \n",
       "22   в каждой стране во правила конечно и я больше ...  \n",
       "24   а цветочек в белом горшке называется женское щ...  \n",
       "30   следует отдать должное заказчику очень чётко о...  \n",
       "31         пролжительность занятий небольшая всего дня  \n",
       "32   зарубки на стене методично прибавлялись с кажд...  \n",
       "34   людей уйма штормило во все стороны собстно тол...  \n",
       "35   с учётом раненых около тысяч американская арми...  \n",
       "36   общем любую моральную поддержку в виде живой д...  \n",
       "37   с сегодняшнего дня точно могу вам сказать что ...  \n",
       "38   лен буду попозже сейчас в душ пойду и зарядку ...  \n",
       "39   его родители довили на него они очень хотели ч...  \n",
       "40   елее один вопрос волнует меня почему в одном и...  \n",
       "44              расшился на выходных экземпляром сабжа  \n",
       "45   завтра наконец таки я преступлю к прочтению кн...  \n",
       "49                 но факто все это было подозрительно  \n",
       "50          масс старт в биатлоне впереди ещё например  \n",
       "51   публика была супер точнее не не было вообще та...  \n",
       "52   ты начинаешь думать а што неплохо можно и тут ...  \n",
       "53         в прошлые выходные я прошёл сертификацию на  \n",
       "54    разве что вася воронов да пашка пекин знаешь его  \n",
       "..                                                 ...  \n",
       "440  я занимаюсь продюсирование м музыкальных проек...  \n",
       "442  приехали в приехали где и узнали что из этого ...  \n",
       "445  если есть хоть одна возможность сделать никак ...  \n",
       "447  и я весь день куда нибудь да ходила то с ясей ...  \n",
       "449  а утром шла в унив ер мимо главного всегда зак...  \n",
       "450        насчёт книги я же не видел и уж же не читал  \n",
       "453  а посмотреть там можно на дом в водосточных тр...  \n",
       "454  желаю чтоб на твоей жизненном пути небыли вооб...  \n",
       "457                  а амстердам патамушта тоже мокрый  \n",
       "458  направленная на нейтрализацию психотравмирующе...  \n",
       "461  канадец не стал изобретать велосипед и сам вко...  \n",
       "462     ну да ладно меня троллям надо смериться с этим  \n",
       "463       благодаря ему я начал вновь прибывать писать  \n",
       "464                      подргрузился список контактов  \n",
       "465  их воспринимать как детей которые хотят поигра...  \n",
       "469  а не правильно то что каждый участник дорожног...  \n",
       "470  так что уж луче да просто не тратить в пустую ...  \n",
       "471  джаин говорил обо всем этом с представителем в...  \n",
       "472              ну да ничто пять дней и снова пятница  \n",
       "473  герой умершей страны готика выражающая пермане...  \n",
       "475             привет старик это кто тебе так насалил  \n",
       "477  пополнил коллекцию шмотья от связи с долгождан...  \n",
       "478                     кокойто я ночной житель што ли  \n",
       "479  а пока эдем еды немного фотографий ведь место ...  \n",
       "481  реально вижу как растёт очередь на жилье изба ...  \n",
       "484  общем как вы знаете из моего не давнего поста ...  \n",
       "486                       такого у меня никуда не было  \n",
       "494  загадать и купаться нам пришлось недолго где т...  \n",
       "496  поскольку ответ деловито и весело уже написан ...  \n",
       "499                          завтра это смысле сегодня  \n",
       "\n",
       "[278 rows x 3 columns]"
      ]
     },
     "execution_count": 163,
     "metadata": {},
     "output_type": "execute_result"
    }
   ],
   "source": [
    "errors"
   ]
  },
  {
   "cell_type": "code",
   "execution_count": 101,
   "metadata": {},
   "outputs": [
    {
     "data": {
      "text/plain": [
       "['герлянд', 'такойже']"
      ]
     },
     "execution_count": 101,
     "metadata": {},
     "output_type": "execute_result"
    }
   ],
   "source": [
    "search_errors_dict('герлянд много не бывает такойже')"
   ]
  },
  {
   "cell_type": "code",
   "execution_count": 116,
   "metadata": {},
   "outputs": [
    {
     "data": {
      "text/plain": [
       "['гирлянд', 'герлянц']"
      ]
     },
     "execution_count": 116,
     "metadata": {},
     "output_type": "execute_result"
    }
   ],
   "source": [
    "kill_candidates('герлянд')"
   ]
  },
  {
   "cell_type": "code",
   "execution_count": 117,
   "metadata": {},
   "outputs": [
    {
     "data": {
      "text/plain": [
       "('мерседе с', 0.0)"
      ]
     },
     "execution_count": 117,
     "metadata": {},
     "output_type": "execute_result"
    }
   ],
   "source": [
    "select_with_whitespace('мерседес')"
   ]
  },
  {
   "cell_type": "code",
   "execution_count": 118,
   "metadata": {},
   "outputs": [
    {
     "data": {
      "text/plain": [
       "('мерседес', 2.7553887137073974e-06)"
      ]
     },
     "execution_count": 118,
     "metadata": {},
     "output_type": "execute_result"
    }
   ],
   "source": [
    "select_best_candidate(['мерседес', 'мерсеес'], 'машина', 'бэнс')"
   ]
  },
  {
   "cell_type": "code",
   "execution_count": 104,
   "metadata": {},
   "outputs": [
    {
     "data": {
      "text/plain": [
       "('гирлянд', 0)"
      ]
     },
     "execution_count": 104,
     "metadata": {},
     "output_type": "execute_result"
    }
   ],
   "source": [
    "select_best_candidate(['гирлянд', 'герлянц'], '', 'много')"
   ]
  },
  {
   "cell_type": "code",
   "execution_count": null,
   "metadata": {
    "collapsed": true
   },
   "outputs": [],
   "source": []
  }
 ],
 "metadata": {
  "kernelspec": {
   "display_name": "Python 3",
   "language": "python",
   "name": "python3"
  },
  "language_info": {
   "codemirror_mode": {
    "name": "ipython",
    "version": 3
   },
   "file_extension": ".py",
   "mimetype": "text/x-python",
   "name": "python",
   "nbconvert_exporter": "python",
   "pygments_lexer": "ipython3",
   "version": "3.5.3"
  }
 },
 "nbformat": 4,
 "nbformat_minor": 2
}
